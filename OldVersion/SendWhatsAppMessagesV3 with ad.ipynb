{
 "cells": [
  {
   "cell_type": "markdown",
   "metadata": {},
   "source": [
    "# Send WhatsApp Web Messages From Excel With Images"
   ]
  },
  {
   "cell_type": "markdown",
   "metadata": {},
   "source": [
    "This program send messages via WhatsApp Web with images  \n",
    "The messages must be stored in an Excel file, and mus contain the following columns:  \n",
    "\n",
    "CLIENTE: Name of destinatary  \n",
    "TELEFONE: Phone of destinatary  \n",
    "MENSAGEM: Message to be sent  \n",
    "\n",
    "Other columns can be present such as name, address, etc, so, by using Excel text concatenation formulae, to send highly personalized messages, including special characters, icons, emoticons, links, etc.  \n",
    "\n",
    "With messages, the program send the images selected (jpg, png, or gif).  \n",
    "\n",
    "Notes:  \n",
    " - The program works only in Google Chrome  \n",
    " - The program waits a random time betweeen messages to avoid WhatsApp to detect automation.  \n",
    " - The program displays a scrolling text, showing the historical of messages with sucess or fail.  \n",
    " - The program try to send the message and the images, if there is an error, jumps to the next one.  \n",
    " - At the end, the program saves an Excel file with same fields (Cliente, Telefone and Mensagem) and adds a column with sucess (and date of message) or fail.  \n",
    " - The program is a quite slow, to allow Google Chrome to perform operations.\n",
    "\n"
   ]
  },
  {
   "cell_type": "markdown",
   "metadata": {},
   "source": [
    "# Libraries"
   ]
  },
  {
   "cell_type": "code",
   "execution_count": null,
   "metadata": {},
   "outputs": [],
   "source": [
    "# import libraries\n",
    "\n",
    "# Basic Tkinter\n",
    "import tkinter as tk\n",
    "from tkinter import filedialog as fd\n",
    "import tkinter.scrolledtext as st\n",
    "\n",
    "# PIL to show images on Tkinter\n",
    "from PIL import Image, ImageTk\n",
    "\n",
    "# Pandas\n",
    "import pandas as pd\n",
    "\n",
    "# Just to get image file name from full path\n",
    "from pathlib import Path\n",
    "\n",
    "# Time to allow program wait few seconds during Chrome operations\n",
    "import time\n",
    "\n",
    "# To allow randomic waiting times (important to avoid Whatsapp account blocking)\n",
    "import random\n",
    "\n",
    "# Datetime to store current date of messages sent\n",
    "# from datetime import date\n",
    "import datetime as dt\n",
    "\n",
    "# necessary libraries for Chrome operations:\n",
    "from selenium import webdriver\n",
    "\n",
    "from selenium.webdriver.common.by import By\n",
    "from selenium.webdriver.support.ui import WebDriverWait\n",
    "from selenium.webdriver.support import expected_conditions\n",
    "from selenium.webdriver.common.keys import Keys\n",
    "from selenium.common.exceptions import NoSuchElementException\n",
    "\n",
    "# modified 29-oct-23\n",
    "from selenium.webdriver.chrome.service import Service\n",
    "\n",
    "# pip install webdriver_manager\n",
    "# This librari updates automatically the Browser Manger (in this case, Chrome)\n",
    "from webdriver_manager.chrome import ChromeDriverManager\n",
    "\n",
    "# Necessary to convert messages from ASCII text into URL aceptable addresses (convert special characters, spaces, etc)\n",
    "import urllib\n",
    "\n",
    "# for debugging purposes only\n",
    "# import traceback\n",
    "# import sys"
   ]
  },
  {
   "cell_type": "markdown",
   "metadata": {},
   "source": [
    "# Global Variables"
   ]
  },
  {
   "cell_type": "code",
   "execution_count": null,
   "metadata": {},
   "outputs": [],
   "source": [
    "# list of images to send\n",
    "imgs_path = []"
   ]
  },
  {
   "cell_type": "code",
   "execution_count": null,
   "metadata": {},
   "outputs": [],
   "source": [
    "# identifiers of different elements in WhatsAppWeb pages in Chrome\n",
    "botao_envio = \"span[data-icon='send']\"\n",
    "# sinal_de_mais = '#main > footer > div.x1n2onr6.xhtitgo.x9f619.x78zum5.x1q0g3np.xuk3077.x193iq5w.x122xwht.x1bmpntp.xy80clv.xgkeump.x26u7qi.xs9asl8.x1swvt13.x1pi30zi.xnpuxes.copyable-area > div > span > div > div.x9f619.x78zum5.x6s0dn4.xl56j7k.x1ofbdpd._ak1m > div.x78zum5.x6s0dn4 > div > div > div > span'\n",
    "sinal_de_mais = '//*[@id=\"main\"]/footer/div[1]/div/span/div/div[1]/div[2]/div/div/div/span'\n",
    "fotos_e_videos = '//*[@id=\"main\"]/footer/div[1]/div/span/div/div[1]/div[2]/div/span/div/ul/div/div[2]/li/div/input'\n",
    "triangulo_envio_fotos = \"span[data-icon='send']\"\n",
    "botao_telefone_errado = '//*[@id=\"app\"]/div/span[2]/div/span/div/div/div/div/div/div[2]/div/button'"
   ]
  },
  {
   "cell_type": "markdown",
   "metadata": {},
   "source": [
    "## Botoes e elementos clicaveis"
   ]
  },
  {
   "cell_type": "code",
   "execution_count": null,
   "metadata": {},
   "outputs": [],
   "source": [
    "# carregar base de dados de objetos clicaveis\n",
    "objetos = pd.read_csv(\"SendWhatsAppMsgObjects.CSV\",delimiter=';',encoding='latin-1')"
   ]
  },
  {
   "cell_type": "markdown",
   "metadata": {},
   "source": [
    "### Clicaveis referentes ao envio de mensagens"
   ]
  },
  {
   "cell_type": "code",
   "execution_count": null,
   "metadata": {},
   "outputs": [],
   "source": [
    "botao_envio_ccs = objetos.loc[objetos['Object']=='botao_envio_ccs','String'].values[0]\n",
    "# botão de envio de mensagem\n",
    "\n",
    "popup_ccs = objetos.loc[objetos['Object']=='popup_ccs','String'].values[0]\n",
    "# identificador do popup do telefone errado\n",
    "\n",
    "popup_ok_ccs = objetos.loc[objetos['Object']=='popup_ok_ccs','String'].values[0]\n",
    "# botão de ok no popup de telefone errado"
   ]
  },
  {
   "cell_type": "markdown",
   "metadata": {},
   "source": [
    "### Clicaveis referentes ao envio de imagens"
   ]
  },
  {
   "cell_type": "code",
   "execution_count": null,
   "metadata": {},
   "outputs": [],
   "source": [
    "botao_anexar = objetos.loc[objetos['Object']=='botao_anexar','String'].values[0]\n",
    "# via CCS Selector\n",
    "# este é o sinal de \"mais\" para iniciar o envio de anexos\n",
    "\n",
    "fotos_e_videos = objetos.loc[objetos['Object']=='fotos_e_videos','String'].values[0]\n",
    "# via xpath\n",
    "# NOTA 24-11 este e o caminho certo. Termina em Input. Com isto nao precisa o botao de enviar imagens\n",
    "\n",
    "botao_enviar_imagens = objetos.loc[objetos['Object']=='botao_enviar_imagens','String'].values[0]\n",
    "# via CCS Selector\n",
    "# este é o botão triangulo verde"
   ]
  },
  {
   "cell_type": "code",
   "execution_count": null,
   "metadata": {},
   "outputs": [],
   "source": [
    "botao_anexar"
   ]
  },
  {
   "cell_type": "markdown",
   "metadata": {},
   "source": [
    "# Functions"
   ]
  },
  {
   "cell_type": "markdown",
   "metadata": {},
   "source": [
    "https://stackoverflow.com/questions/74214619/how-to-use-tkinter-after-method-to-delay-a-loop-instead-time-sleep/74215342?noredirect=1#comment131053675_74215342"
   ]
  },
  {
   "cell_type": "markdown",
   "metadata": {},
   "source": [
    "## TKSleep\n",
    "To replace the time.sleep allowing CPU continue to processing"
   ]
  },
  {
   "cell_type": "code",
   "execution_count": null,
   "metadata": {},
   "outputs": [],
   "source": [
    "def tksleep(t):\n",
    "    \"\"\" Delay process for t seconds emulating time.sleep but without freezing the process \"\"\"\n",
    "    ms = int(t*1000)\n",
    "    root = tk._get_default_root()\n",
    "    var = tk.IntVar(root)\n",
    "    root.after(ms, lambda: var.set(1))\n",
    "    root.wait_variable(var)"
   ]
  },
  {
   "cell_type": "markdown",
   "metadata": {},
   "source": [
    "## Show_imgs\n",
    "To show the i image from  a list"
   ]
  },
  {
   "cell_type": "code",
   "execution_count": null,
   "metadata": {},
   "outputs": [],
   "source": [
    "def show_imgs():\n",
    "    \"\"\" Event Function to show the tk_i image from list \"\"\"\n",
    "    \n",
    "    global tkphoto \n",
    "    # Canvas Size\n",
    "    can_h = 400\n",
    "    can_w = 400\n",
    "      \n",
    "    # Get the element i from list\n",
    "    photo = Image.open(imgs_path[tk_i.get()])\n",
    "    \n",
    "    # Get the picture size (widht, height)\n",
    "    pic_w, pic_h = photo.size\n",
    "\n",
    "    # Calculate aspect image ratio\n",
    "    aspect = pic_w/pic_h\n",
    "\n",
    "    # if picture is wider than taller, the resizing limit will be the picture widht, limited to canvas width\n",
    "    if aspect > 1:\n",
    "        res_w = can_w\n",
    "        res_h = can_w / aspect\n",
    "    \n",
    "    # else, the resizing limit will be the picture height, limited to canvas height\n",
    "    else:\n",
    "        res_h = can_h\n",
    "        res_w = can_h * aspect\n",
    "    \n",
    "\n",
    "    # resize picture\n",
    "    photo = photo.resize((int(res_w),int(res_h)))\n",
    "\n",
    "    # create the Tkinter picture image object\n",
    "    tkphoto = ImageTk.PhotoImage(photo) \n",
    "\n",
    "    # put the picture into the label\n",
    "    lbl_photo = tk.Label(image=tkphoto,width=can_w,height=can_h,borderwidth=2,relief='solid')\n",
    "    lbl_photo.grid(row=1,column=4,rowspan=4, padx=10,pady=10)\n",
    "    \n",
    "    # display picture number and name\n",
    "    show_name()\n",
    "    \n",
    "    return()"
   ]
  },
  {
   "cell_type": "markdown",
   "metadata": {},
   "source": [
    "## Show_name\n",
    "To show current image number, number os selected images and current image name"
   ]
  },
  {
   "cell_type": "code",
   "execution_count": null,
   "metadata": {},
   "outputs": [],
   "source": [
    "def show_name():\n",
    "    \"\"\"Function to show current image number, total number of selected images and current image name (without path)\n",
    "\n",
    "    Path.name method extracts the name from a full\"\"\"\n",
    "    img_name = '{} de {}: {}'.format(tk_i.get()+1,len(imgs_path),Path(imgs_path[tk_i.get()]).name)\n",
    "    lbl_imgname = tk.Label(text=img_name,font=('Consolas 10'))\n",
    "    lbl_imgname.grid(row=5, column=3,columnspan=3,sticky='NSEW',padx=10,pady=10)\n",
    "    return()\n",
    "    "
   ]
  },
  {
   "cell_type": "markdown",
   "metadata": {},
   "source": [
    "## Go_rgt\n",
    "\n",
    "Event function to select next right image"
   ]
  },
  {
   "cell_type": "code",
   "execution_count": null,
   "metadata": {},
   "outputs": [],
   "source": [
    "def go_rgt():\n",
    "    \"\"\" Event function to select next (right) image\"\"\"\n",
    "\n",
    "    if tk_i.get() < len(imgs_path)-1:\n",
    "        tk_i.set(tk_i.get() + 1)\n",
    "    else:\n",
    "        tk_i.set(0)\n",
    "    \n",
    "    # Call function to show image number tk_i\n",
    "    show_imgs()\n",
    "\n",
    "    return()"
   ]
  },
  {
   "cell_type": "markdown",
   "metadata": {},
   "source": [
    "## Go_lft\n",
    "\n",
    "Event function to select next left image"
   ]
  },
  {
   "cell_type": "code",
   "execution_count": null,
   "metadata": {},
   "outputs": [],
   "source": [
    "def go_lft():\n",
    "    \"\"\"Event function to select previous (left) image\"\"\"\n",
    "\n",
    "    if tk_i.get() > 0:\n",
    "        tk_i.set(tk_i.get() - 1)\n",
    "    else:\n",
    "        tk_i.set(len(imgs_path)-1)\n",
    "    \n",
    "    # Call function to show image number tk_i\n",
    "    show_imgs()\n",
    "    \n",
    "    return()"
   ]
  },
  {
   "cell_type": "markdown",
   "metadata": {},
   "source": [
    "## Sel_imgs\n",
    "\n",
    "Event function to select image files"
   ]
  },
  {
   "cell_type": "code",
   "execution_count": null,
   "metadata": {},
   "outputs": [],
   "source": [
    "def sel_imgs():\n",
    "    \"\"\"Event function to select image files\n",
    "        \n",
    "    imgs_path is a global list\"\"\"\n",
    "    global imgs_path\n",
    "\n",
    "    images_types = [\n",
    "            ('Arquivos de imagen','.jpg'),\n",
    "            ('Arquivos de imagen','.jpeg'),\n",
    "            ('Arquivos de imagen','.png'),\n",
    "            ('Arquivos de imagen','.gif'),\n",
    "            ]\n",
    "\n",
    "    # Select images\n",
    "    imgs_path = sorted(list(fd.askopenfilenames(title='Selecione as imagens a enviar',filetypes=images_types)))\n",
    "    \n",
    "    # Define show previous image button\n",
    "    btn_lft = tk.Button(text='<',font=('Consolas 20 bold'),wraplength=100,borderwidth=1,command=go_lft)\n",
    "    btn_lft.grid(row=1,column=3,rowspan=4,sticky='NSEW',padx=10,pady=10)\n",
    "\n",
    "    # Define show next image button\n",
    "    btn_rgt = tk.Button(text='>',font=('Consolas 20 bold'),wraplength=100,borderwidth=1,command=go_rgt)\n",
    "    btn_rgt.grid(row=1,column=5,rowspan=4,sticky='NSEW',padx=10,pady=10)\n",
    "        \n",
    "    # Call function to show first image of selected list\n",
    "    tk_i.set(0)\n",
    "    show_imgs()\n",
    "\n",
    "    return()"
   ]
  },
  {
   "cell_type": "markdown",
   "metadata": {},
   "source": [
    "## Sel_file\n",
    "\n",
    "Event function to select messages file in Excel"
   ]
  },
  {
   "cell_type": "code",
   "execution_count": null,
   "metadata": {},
   "outputs": [],
   "source": [
    "def sel_file():\n",
    "    \"\"\"Event function to select Excel file\n",
    "    \n",
    "    contacts_df is the global dataframe with destinataries names, numbers and messages\"\"\"\n",
    "    global contacts_df\n",
    "\n",
    "    tk_file_path.set(fd.askopenfilename(\n",
    "        title='Selecione o arquivo Excel com a lista de destinatarios',\n",
    "        filetypes=[('Arquivo Excel','.xls'),('Arquivo Excel','.xlsx')]\n",
    "        )\n",
    "        )\n",
    "    \n",
    "    # Read Excel file\n",
    "    contacts_df = pd.read_excel(tk_file_path.get(), sheet_name='CLIENTES')\n",
    "\n",
    "    # Remove rows with empty messages (this improves process ahead)\n",
    "    contacts_df = contacts_df[~contacts_df['MENSAGEM'].isnull()]\n",
    "\n",
    "    # Remove rows with empty numbers (this improves process ahead)\n",
    "    contacts_df = contacts_df[~contacts_df['TELEFONE'].isnull()]\n",
    "\n",
    "    # Reset index\n",
    "    contacts_df.reset_index(inplace=True)\n",
    "\n",
    "    # Keep just the necessary columns\n",
    "    contacts_df = contacts_df[['CLIENTE','TELEFONE','MENSAGEM']]\n",
    "    \n",
    "    # update informations about number of messages to be sent and\n",
    "    # inform to click button to start process\n",
    "    lbl_slctdfile['text'] = 'Serão enviadas {} mensagens.\\n Clique em \"Enviar Mensagens\" para iniciar'.format(contacts_df['MENSAGEM'].count())\n",
    "    \n",
    "    return()"
   ]
  },
  {
   "cell_type": "markdown",
   "metadata": {},
   "source": [
    "## Wait_wpp_contacts\n",
    "\n",
    "Function to wait for the list of contacts, indicating the messages can be sent"
   ]
  },
  {
   "cell_type": "code",
   "execution_count": null,
   "metadata": {},
   "outputs": [],
   "source": [
    "def wait_wpp_contacts(timetowaith):\n",
    "    \"\"\"Function to wait for WhatsApp contacts side bar for x seconds\n",
    "    \n",
    "    this indicates that the message text input area is ready to receive messages\"\"\"\n",
    "    while len(msg_browser.find_elements(By.ID,\"side\")) < 1:\n",
    "        tksleep(timetowaith)\n",
    "    return()"
   ]
  },
  {
   "cell_type": "markdown",
   "metadata": {},
   "source": [
    "## Stop_sending\n",
    "\n",
    "Event function to stop process"
   ]
  },
  {
   "cell_type": "code",
   "execution_count": null,
   "metadata": {},
   "outputs": [],
   "source": [
    "def stop_sending():\n",
    "    \"\"\" Function to stop process\n",
    "    \n",
    "    clean text of \"Start Process\" button \"\"\"\n",
    "    btn_send.configure(text='')\n",
    "\n",
    "    # set flag to stop process    \n",
    "    tk_stop_sending_messages.set(True)\n",
    "\n",
    "    return()"
   ]
  },
  {
   "cell_type": "markdown",
   "metadata": {},
   "source": [
    "## Main Process"
   ]
  },
  {
   "cell_type": "code",
   "execution_count": null,
   "metadata": {},
   "outputs": [],
   "source": [
    "def send_messages():\n",
    "    \"\"\"Send messages process\n",
    "\n",
    "    basically, this is a Selenium webscripting process, capturing elements from WhatsApp Web\"\"\"\n",
    "    \n",
    "    global msg_browser\n",
    "\n",
    "    # change button label to Stop and activate stop sending function\n",
    "    btn_send.configure(text='PARAR PROCESSO',command=stop_sending)\n",
    "    \n",
    "    # Count total number of messages to send\n",
    "    msg_total = contacts_df['MENSAGEM'].count()\n",
    "\n",
    "    # Create intance of Google Chorme browsed\n",
    "    msg_browser = webdriver.Chrome()\n",
    "    \n",
    "    # Navigate to WhatsApp Web\n",
    "    msg_browser.get(\"https://web.whatsapp.com/\")\n",
    "    tksleep(2)\n",
    "\n",
    "    # Link will open the QR Code authorization\n",
    "    # Wait until user authorization with cell phone\n",
    "    \n",
    "    # Wait to load WhatsApp contacts side bar\n",
    "    # this indicates it is possible to send messages\n",
    "    wait_wpp_contacts(2)\n",
    "\n",
    "    # 08-Jun-2025\n",
    "    # Whatsapp included an annoucment for new resources.\n",
    "    # need to check if it is present and click on it\n",
    "    # button as CCS Selector\n",
    "    new_resources_continue = '#app > div > span:nth-child(3) > div > div > div > div > div > div > div.x78zum5.x8hhl5t.x13a6bvl.xp4054r.xuxw1ft.x1cnzs8.x1xnnf8n.xx6bls6.x106a9eq.x16w0wmm > div > button > div > div'\n",
    "\n",
    "    ad_new_resources = False\n",
    "    while not(ad_new_resources):\n",
    "        try:\n",
    "            msg_browser.find_element(By.CSS_SELECTOR,new_resources_continue)\n",
    "            ad_new_resources = True\n",
    "        except:\n",
    "            ad_new_resources = False\n",
    "\n",
    "    if ad_new_resources:\n",
    "        msg_browser.find_element(By.CSS_SELECTOR,new_resources_continue).click()\n",
    "\n",
    "\n",
    "\n",
    "    init_time = dt.datetime.now()\n",
    "    lbl_init_time['text'] = 'Tempo de inicio: {}'.format(init_time.strftime('%d-%m-%y %H:%M:%S'))\n",
    "\n",
    "    fails = 0\n",
    "\n",
    "    for j, message in enumerate(contacts_df['MENSAGEM']):\n",
    "\n",
    "        # if stop button was pressed, exit loop\n",
    "        if tk_stop_sending_messages.get():\n",
    "            break\n",
    "\n",
    "        # this version considers all messages are not null\n",
    "        # dataframe already cleaned up on opening file function\n",
    "\n",
    "        # Get customer name and number\n",
    "        name = contacts_df.loc[j,\"CLIENTE\"]\n",
    "        phone = contacts_df.loc[j, \"TELEFONE\"]\n",
    "        \n",
    "        # Update status label\n",
    "        lbl_sending['text'] = 'Enviando mensagem {} de {} ({:.1%})\\nPara {} no telefone {}\\n{:.1%} de envios falhados'.format(j+1,msg_total,(j+1)/msg_total,name,phone,fails)\n",
    "        mainwindow.update()\n",
    "\n",
    "        # Convert message from ASCII into URL plain text\n",
    "        url_message = urllib.parse.quote(f\"{message}\")\n",
    "\n",
    "        # build the link\n",
    "        link = f\"https://web.whatsapp.com/send?phone={phone}&text={url_message}\"\n",
    "\n",
    "        # start trying here\n",
    "        try:\n",
    "            # Get link\n",
    "            msg_browser.get(link)\n",
    "            tksleep(1)\n",
    "            \n",
    "            # Depois do link, esperar ou o botão de envio, ou o pop up de telefone errado\n",
    "            telefone_errado = False\n",
    "            envio_disponivel = False\n",
    "\n",
    "            # while sending button is not available AND\n",
    "            # wrong number doesn´t pops-ups\n",
    "            # stay in this loop\n",
    "            while (not(envio_disponivel) and not(telefone_errado)):\n",
    "                try:\n",
    "                    msg_browser.find_element(By.CSS_SELECTOR,botao_envio_ccs)\n",
    "                    envio_disponivel = True\n",
    "                    # se passou por aqui, quer dizer que o botão de envio esta disponivel\n",
    "                    # print(\"Encontrei o botão de envio\")\n",
    "                except NoSuchElementException:\n",
    "                    # se não, então o botão de envio não esta disponvivel,\n",
    "                    # e temos que ver se esta o pop up de telefone errado\n",
    "                    # print(\"Nao encontrei botão de envio, vou tentar o popup\")\n",
    "                    try:\n",
    "                        msg_browser.find_element(By.CSS_SELECTOR,popup_ccs)\n",
    "                        telefone_errado = True\n",
    "                        # se estamos aqui, é porque o pop up de telefone errado esta visivel\n",
    "                        # print(\"Encontrei o popup\")\n",
    "                    except NoSuchElementException:\n",
    "                        # se estamos aqui, então não encontrou o popup de telefone errado\n",
    "                        # mas tambem nao encontrou o botao de envio\n",
    "                        # aqui devemos simplesmente passar para frente\n",
    "                        # print(\"Nao encontrei o pop nem o botão de envio\")\n",
    "                        pass\n",
    "                tksleep(1)\n",
    "            \n",
    "            print(\"Envio disponivel: \",envio_disponivel)\n",
    "            print(\"Telefone errado: \",telefone_errado)\n",
    "\n",
    "            # Depedendo do que foi encontrado, clicar no botao de envio ou no ok de telefone errado\n",
    "            \n",
    "            # agora clicar nos botoes correspondetes\n",
    "            if envio_disponivel:\n",
    "                # clicar no botáo de envio\n",
    "                msg_browser.find_element(By.CSS_SELECTOR,botao_envio_ccs).click()\n",
    "                tksleep(1)\n",
    "                # Registrar resultado do envio\n",
    "                contacts_df.loc[j,'RESULTADO'] = 'Mesagem enviada'\n",
    "\n",
    "                # aqui teriamos que enviar as imagens\n",
    "\n",
    "                for i, img_file in enumerate(imgs_path):\n",
    "\n",
    "                    # clicar no botão de mais para enviar anexos\n",
    "                    msg_browser.find_element(By.CSS_SELECTOR,botao_anexar).click()\n",
    "                    tksleep(2)\n",
    "\n",
    "                    # enviar diretamente o caminho da imagem\n",
    "                    msg_browser.find_element(By.XPATH,fotos_e_videos).send_keys(img_file)\n",
    "                    tksleep(2)\n",
    "\n",
    "                    # clicar no botão de envio de imagem\n",
    "                    msg_browser.find_element(By.CSS_SELECTOR,botao_enviar_imagens).click()\n",
    "                    tksleep(2)\n",
    "            \n",
    "            else:\n",
    "                if telefone_errado:\n",
    "                    # clicar no botáo de ok do popup\n",
    "                    msg_browser.find_element(By.CSS_SELECTOR,popup_ok_ccs).click()\n",
    "                    # Registrar resultado do envio\n",
    "                    contacts_df.loc[j,'RESULTADO'] = 'Telefone errado'\n",
    "\n",
    "        # y aqui el except, caso falle algo\n",
    "        except:\n",
    "            contacts_df.loc[j,'RESULTADO'] = 'Erro'\n",
    "\n",
    "\n",
    "        # Registrar o Timestamp\n",
    "        contacts_df.loc[j,'TIMESTAMP'] = dt.datetime.now().strftime('%d-%m-%y %H:%M:%S')\n",
    "\n",
    "        \"\"\"\n",
    "            Ate aqui a rotina funciona, agora vem a parte de calculo de taxa de falhas e predição de tempo\n",
    "        \"\"\" \n",
    "\n",
    "        # Print on terminal\n",
    "        print('{}:{}: {} {}'.format(j+1,name,contacts_df.loc[j,'RESULTADO'],contacts_df.loc[j,'TIMESTAMP']))\n",
    "            \n",
    "        # Write on scrolling text box the result of current message sending process\n",
    "        txt_sent.insert(tk.INSERT,'{}: {} {} {}\\n'.format(j+1,name,contacts_df.loc[j,'RESULTADO'],contacts_df.loc[j,'TIMESTAMP']))\n",
    "        \n",
    "        # Point to last line in scrolling text\n",
    "        txt_sent.see(tk.END)\n",
    "\n",
    "        # Wait a random time before send next.\n",
    "        # this is important to avoid WhatsApp to cancel the account due to automation\n",
    "        tksleep(random.randint(3,7))\n",
    "\n",
    "        # o loop time medio serve para estimar o eta\n",
    "        # loop medio = (dt.datetime.now() - init_time) / (j+1)\n",
    "\n",
    "        # eta deve ser calculada ao final de cada loop\n",
    "        # eta = tempo agora + loop medio x numero de mensagem que faltam\n",
    "        eta = dt.datetime.now() + ((dt.datetime.now() - init_time) / (j+1)) * (msg_total-(j+1))\n",
    "\n",
    "        lbl_eta['text'] = 'Tempo estimado de fim: {}'.format(eta.strftime('%d-%m-%y %H:%M:%S'))\n",
    "\n",
    "        # get percent of fails until now\n",
    "        # fails = len(contacts_df[contacts_df['RESULTADO'] == 'NÃO RECEBEU A MENSAGEM'])/(j+1)\n",
    "        fails = len(contacts_df[contacts_df['RESULTADO'].str.contains('Mesagem enviada') == False])/(j+1)\n",
    "\n",
    "    \n",
    "    # Sending Loop ends here\n",
    "\n",
    "    # calculate total failed, total sent\n",
    "    total_fails = len(contacts_df[contacts_df['RESULTADO'].str.contains('Mesagem enviada') == False])\n",
    "    total_sent = msg_total - total_fails\n",
    "    # total_sent = len(contacts_df[contacts_df['RESULTADO'].str.contains('Recebeu') == True])\n",
    "    \n",
    "\n",
    "    # informs that process is finished\n",
    "    # how many sent, success ratio\n",
    "    \n",
    "    lbl_slctdfile['text'] = 'PROCESSO FINALIZADO\\n{} Mensagens enviadas\\nEnvios falhados: {} ({:.1%})'.format(total_sent,total_fails,fails)\n",
    "    lbl_sending['text'] = ''\n",
    "    btn_send.configure(text='')\n",
    "\n",
    "    # save results dataframe on same location (path) of message file \n",
    "    result_file = '{}\\Resultado Envios {}.xlsx'.format(Path(tk_file_path.get()).parent,dt.datetime.now().strftime('%d-%m-%y %H-%M-%S'))\n",
    "    result_df = contacts_df[['CLIENTE','TELEFONE','RESULTADO','TIMESTAMP']]\n",
    "    result_df.to_excel(result_file,index=False)\n",
    "    # contacts_df.to_excel(result_file,index=False)\n",
    "    \n",
    "    return()"
   ]
  },
  {
   "cell_type": "markdown",
   "metadata": {},
   "source": [
    "# Main Window Design"
   ]
  },
  {
   "cell_type": "code",
   "execution_count": null,
   "metadata": {},
   "outputs": [],
   "source": [
    "# Create application window\n",
    "mainwindow = tk.Tk()"
   ]
  },
  {
   "cell_type": "code",
   "execution_count": null,
   "metadata": {},
   "outputs": [],
   "source": [
    "# Main window title\n",
    "mainwindow.title(\"Enviar mensagens pelo WhatsApp\")"
   ]
  },
  {
   "cell_type": "code",
   "execution_count": null,
   "metadata": {},
   "outputs": [],
   "source": [
    "# Main window label title\n",
    "lbl_title = tk.Label(text=\"Enviar mensagens pelo WhatsApp\",font=('Consolas 15 bold underline'),borderwidth=1, relief='solid')\n",
    "lbl_title.grid(row=0, column=0,columnspan=3,sticky='NSEW',padx=10,pady=10)"
   ]
  },
  {
   "cell_type": "code",
   "execution_count": null,
   "metadata": {},
   "outputs": [],
   "source": [
    "# Explaining label\n",
    "lbl_desc = tk.Label(text=\n",
    "    \"\"\"Esta aplicação envia mensagens a través do WhatsApp Web\n",
    "    junto com imagens, a partir de uma lista em formato Excel.\n",
    "    A lista deve conter as seguintes colunas:\n",
    "    NOME, TELEFONE, MENSAGENS, numa folha CLIENTES.\n",
    "    Cada mensagen pôde ser personalizada. No final, armazena os\n",
    "    resultados dos envios num outro arquivo Excel na mesma pasta\n",
    "    do arquivo original.\"\"\"\n",
    "    ,font=('Consolas 10'),borderwidth=1, relief='solid')\n",
    "lbl_desc.grid(row=1, column=0, columnspan=3,sticky='NSEW',padx=10,pady=10) "
   ]
  },
  {
   "cell_type": "code",
   "execution_count": null,
   "metadata": {},
   "outputs": [],
   "source": [
    "# Excel file selection label\n",
    "lbl_file = tk.Label(text='Selecione o arquivo Excel com os dados:',font=('Consolas 12'),anchor='e')\n",
    "lbl_file.grid(row=3,column=0,columnspan=2,sticky='NSEW',padx=10,pady=10)"
   ]
  },
  {
   "cell_type": "code",
   "execution_count": null,
   "metadata": {},
   "outputs": [],
   "source": [
    "# Excel file selecion button\n",
    "btn_file = tk.Button(text='Clique aqui para selecionar o arquivo',font=('Consolas 10 bold'),wraplength=100,borderwidth=1,command=sel_file)\n",
    "btn_file.grid(row=3,column=2,sticky='NSEW',padx=10,pady=10)"
   ]
  },
  {
   "cell_type": "code",
   "execution_count": null,
   "metadata": {},
   "outputs": [],
   "source": [
    "# Label with selected Excel file (none at begining, then will show number of message to send)\n",
    "lbl_slctdfile = tk.Label(text='Sem arquivo selecionado',wraplength=500,font=('Consolas 12'),anchor='center')\n",
    "lbl_slctdfile.grid(row=4,column=0,columnspan=3,sticky='NSEW',padx=10,pady=10)"
   ]
  },
  {
   "cell_type": "code",
   "execution_count": null,
   "metadata": {},
   "outputs": [],
   "source": [
    "# Image selection label\n",
    "lbl_imgs = tk.Label(text='Selecione as imagens a enviar:',font=('Consolas 12'),anchor='e')\n",
    "lbl_imgs.grid(row=2,column=0,columnspan=2,sticky='NSEW',padx=10,pady=10)"
   ]
  },
  {
   "cell_type": "code",
   "execution_count": null,
   "metadata": {},
   "outputs": [],
   "source": [
    "# Image selection button\n",
    "btn_imgs = tk.Button(text='Clique aqui para selecionar as imagens',font=('Consolas 10 bold'),wraplength=100,borderwidth=1,command=sel_imgs)\n",
    "btn_imgs.grid(row=2,column=2,sticky='NSEW',padx=10,pady=10)"
   ]
  },
  {
   "cell_type": "code",
   "execution_count": null,
   "metadata": {},
   "outputs": [],
   "source": [
    "# Main process start button\n",
    "btn_send = tk.Button(text='ENVIAR MENSAGENS',font=('Consolas 10 bold'),command=send_messages)\n",
    "btn_send.grid(row=5,column=0,columnspan=3,sticky='NSEW',padx=10,pady=10)"
   ]
  },
  {
   "cell_type": "code",
   "execution_count": null,
   "metadata": {},
   "outputs": [],
   "source": [
    "# Current message information status (who, number, total messages)\n",
    "lbl_sending = tk.Label(text='',wraplength=500,font=('Consolas 12'),anchor='center')\n",
    "lbl_sending.grid(row=6,column=0,columnspan=3,sticky='NSEW',padx=10,pady=10)"
   ]
  },
  {
   "cell_type": "code",
   "execution_count": null,
   "metadata": {},
   "outputs": [],
   "source": [
    "# Scrolling text to show list of sent messages with success or fail\n",
    "txt_sent = st.ScrolledText(mainwindow,width = 30, \n",
    "                            height = 8, \n",
    "                            font = ('Consolas 10'))\n",
    "txt_sent.grid(row=7,column = 0, columnspan=3,sticky='NSEW', pady = 10, padx = 10)\n",
    "\n",
    "txt_sent.insert(tk.INSERT,'')\n",
    "# investigate how to make this read only\n"
   ]
  },
  {
   "cell_type": "code",
   "execution_count": null,
   "metadata": {},
   "outputs": [],
   "source": [
    "# label for initial time, eta and progress percent\n",
    "lbl_init_time = tk.Label(text='Tempo inicial',wraplength=500,font=('Consolas 12'),anchor='center')\n",
    "lbl_init_time.grid(row=6,column=3,columnspan=3, sticky='NSEW',padx=10,pady=10)\n",
    "\n",
    "lbl_eta = tk.Label(text='Tempo final estimado',wraplength=500,font=('Consolas 12'),anchor='center')\n",
    "lbl_eta.grid(row=7,column=3,columnspan=3, sticky='NSEW',padx=10,pady=10)"
   ]
  },
  {
   "cell_type": "code",
   "execution_count": null,
   "metadata": {},
   "outputs": [],
   "source": [
    "# 'global' Tkinter IntVar to control current picture to show\n",
    "tk_i = tk.IntVar(mainwindow,value=0)"
   ]
  },
  {
   "cell_type": "code",
   "execution_count": null,
   "metadata": {},
   "outputs": [],
   "source": [
    "# 'global' Tkinter variable to control stop process\n",
    "tk_stop_sending_messages = tk.BooleanVar(mainwindow,False)"
   ]
  },
  {
   "cell_type": "code",
   "execution_count": null,
   "metadata": {},
   "outputs": [],
   "source": [
    "# 'global' Tkinter StringVar to store file path\n",
    "tk_file_path = tk.StringVar(mainwindow,'')"
   ]
  },
  {
   "cell_type": "code",
   "execution_count": null,
   "metadata": {},
   "outputs": [],
   "source": [
    "# define main window icon\n",
    "mainwindow.iconbitmap(r'icon\\whatsapp.ico')"
   ]
  },
  {
   "cell_type": "code",
   "execution_count": null,
   "metadata": {},
   "outputs": [],
   "source": [
    "# Main window\n",
    "mainwindow.mainloop()"
   ]
  }
 ],
 "metadata": {
  "kernelspec": {
   "display_name": "Python 3",
   "language": "python",
   "name": "python3"
  },
  "language_info": {
   "codemirror_mode": {
    "name": "ipython",
    "version": 3
   },
   "file_extension": ".py",
   "mimetype": "text/x-python",
   "name": "python",
   "nbconvert_exporter": "python",
   "pygments_lexer": "ipython3",
   "version": "3.13.7"
  }
 },
 "nbformat": 4,
 "nbformat_minor": 2
}
