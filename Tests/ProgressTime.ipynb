{
 "cells": [
  {
   "cell_type": "markdown",
   "metadata": {},
   "source": [
    "O que este programa deve fazer:  \n",
    "1) criar um loop  \n",
    "2) obter o tempo inicial antes do loop.  \n",
    "3) executar alguma coisa no loop.  \n",
    "4) dar um tempo aleatorio antes do proximo loop.  \n",
    "5) obter o tempo final ao finalizar o loop.  \n",
    "6) calcular o tempo transcurrido em segundos entre o tempo inicial e o tempo final do loop atual.  \n",
    "7) calcular a media do tempo transcurrido em segundos, dividindo o tempo total transcurrido pela quantidade de loops executados\n",
    "7) calcular o tempo estimado final (ETA) como tempo atual + (total - loop atual) * tempo medio do loop."
   ]
  },
  {
   "cell_type": "code",
   "execution_count": 33,
   "metadata": {},
   "outputs": [],
   "source": [
    "import datetime as dt\n",
    "import time\n",
    "import random"
   ]
  },
  {
   "cell_type": "code",
   "execution_count": 34,
   "metadata": {},
   "outputs": [],
   "source": [
    "numero_de_loops = 10"
   ]
  },
  {
   "cell_type": "code",
   "execution_count": 35,
   "metadata": {},
   "outputs": [],
   "source": [
    "tempo_inicial = dt.datetime.now()"
   ]
  },
  {
   "cell_type": "code",
   "execution_count": 36,
   "metadata": {},
   "outputs": [
    {
     "name": "stdout",
     "output_type": "stream",
     "text": [
      "2022-11-15 18:20:11.201320\n"
     ]
    }
   ],
   "source": [
    "print(tempo_inicial)"
   ]
  },
  {
   "cell_type": "code",
   "execution_count": 37,
   "metadata": {},
   "outputs": [
    {
     "name": "stdout",
     "output_type": "stream",
     "text": [
      "Loop 0 iniciou em 15-11-22 18:20:11\n",
      "Loop 0 terminou em 15-11-22 18:20:14\n",
      "Duração do loop 0:00:03.003627\n",
      "Duranção media dos loops 0:00:03.108517\n",
      "Percentual concluido 10.0%\n",
      "Tempo estimado final 15-11-22 18:20:42\n",
      "----\n",
      "Loop 1 iniciou em 15-11-22 18:20:14\n",
      "Loop 1 terminou em 15-11-22 18:20:15\n",
      "Duração do loop 0:00:01.013108\n",
      "Duranção media dos loops 0:00:02.061311\n",
      "Percentual concluido 20.0%\n",
      "Tempo estimado final 15-11-22 18:20:31\n",
      "----\n",
      "Loop 2 iniciou em 15-11-22 18:20:15\n",
      "Loop 2 terminou em 15-11-22 18:20:20\n",
      "Duração do loop 0:00:05.014719\n",
      "Duranção media dos loops 0:00:03.045826\n",
      "Percentual concluido 30.0%\n",
      "Tempo estimado final 15-11-22 18:20:41\n",
      "----\n",
      "Loop 3 iniciou em 15-11-22 18:20:20\n",
      "Loop 3 terminou em 15-11-22 18:20:23\n",
      "Duração do loop 0:00:03.010494\n",
      "Duranção media dos loops 0:00:03.036993\n",
      "Percentual concluido 40.0%\n",
      "Tempo estimado final 15-11-22 18:20:41\n",
      "----\n",
      "Loop 4 iniciou em 15-11-22 18:20:23\n",
      "Loop 4 terminou em 15-11-22 18:20:24\n",
      "Duração do loop 0:00:01.006963\n",
      "Duranção media dos loops 0:00:02.630987\n",
      "Percentual concluido 50.0%\n",
      "Tempo estimado final 15-11-22 18:20:37\n",
      "----\n",
      "Loop 5 iniciou em 15-11-22 18:20:24\n",
      "Loop 5 terminou em 15-11-22 18:20:26\n",
      "Duração do loop 0:00:02.008207\n",
      "Duranção media dos loops 0:00:02.527190\n",
      "Percentual concluido 60.0%\n",
      "Tempo estimado final 15-11-22 18:20:36\n",
      "----\n",
      "Loop 6 iniciou em 15-11-22 18:20:26\n",
      "Loop 6 terminou em 15-11-22 18:20:29\n",
      "Duração do loop 0:00:03.003364\n",
      "Duranção media dos loops 0:00:02.595215\n",
      "Percentual concluido 70.0%\n",
      "Tempo estimado final 15-11-22 18:20:37\n",
      "----\n",
      "Loop 7 iniciou em 15-11-22 18:20:29\n",
      "Loop 7 terminou em 15-11-22 18:20:31\n",
      "Duração do loop 0:00:02.011096\n",
      "Duranção media dos loops 0:00:02.522200\n",
      "Percentual concluido 80.0%\n",
      "Tempo estimado final 15-11-22 18:20:36\n",
      "----\n",
      "Loop 8 iniciou em 15-11-22 18:20:31\n",
      "Loop 8 terminou em 15-11-22 18:20:33\n",
      "Duração do loop 0:00:02.004578\n",
      "Duranção media dos loops 0:00:02.464797\n",
      "Percentual concluido 90.0%\n",
      "Tempo estimado final 15-11-22 18:20:35\n",
      "----\n",
      "Loop 9 iniciou em 15-11-22 18:20:33\n",
      "Loop 9 terminou em 15-11-22 18:20:38\n",
      "Duração do loop 0:00:05.007405\n",
      "Duranção media dos loops 0:00:02.719058\n",
      "Percentual concluido 100.0%\n",
      "Tempo estimado final 15-11-22 18:20:38\n",
      "----\n"
     ]
    }
   ],
   "source": [
    "for i in range(numero_de_loops):\n",
    "    tempo_inicial_loop = dt.datetime.now()\n",
    "    print('Loop {} iniciou em {}'.format(i,tempo_inicial_loop.strftime('%d-%m-%y %H:%M:%S')))\n",
    "\n",
    "    time.sleep(random.randint(1,5))\n",
    "\n",
    "    tempo_final_loop = dt.datetime.now()\n",
    "\n",
    "    loop_time = tempo_final_loop - tempo_inicial_loop\n",
    "\n",
    "    # o loop time medio serve para estimar o eta\n",
    "    loop_time_medio = (tempo_final_loop - tempo_inicial) / (i+1)\n",
    "\n",
    "    # eta deve ser calculada ao final de cada loop\n",
    "    eta = tempo_final_loop + loop_time_medio * (numero_de_loops-(i+1))\n",
    "\n",
    "    print('Loop {} terminou em {}'.format(i,tempo_final_loop.strftime('%d-%m-%y %H:%M:%S')))\n",
    "    print('Duração do loop {}'.format(loop_time))\n",
    "    print('Duranção media dos loops {}'.format(loop_time_medio))\n",
    "    print('Percentual concluido {:.1%}'.format((i+1)/numero_de_loops))\n",
    "    print('Tempo estimado final {}'.format(eta.strftime('%d-%m-%y %H:%M:%S')))\n",
    "    print('----')"
   ]
  },
  {
   "cell_type": "code",
   "execution_count": 38,
   "metadata": {},
   "outputs": [
    {
     "name": "stdout",
     "output_type": "stream",
     "text": [
      "15-11-22 18:20:38\n"
     ]
    }
   ],
   "source": [
    "print(eta.strftime('%d-%m-%y %H:%M:%S'))"
   ]
  },
  {
   "cell_type": "code",
   "execution_count": 46,
   "metadata": {},
   "outputs": [
    {
     "name": "stdout",
     "output_type": "stream",
     "text": [
      "15-11-22 19-19-30\n"
     ]
    }
   ],
   "source": [
    "print(dt.datetime.now().strftime('%d-%m-%y %H-%M-%S'))"
   ]
  },
  {
   "cell_type": "code",
   "execution_count": 43,
   "metadata": {},
   "outputs": [
    {
     "name": "stdout",
     "output_type": "stream",
     "text": [
      "texto de teste \n",
      " testo abaixo\n"
     ]
    }
   ],
   "source": [
    "print('texto de teste \\n testo abaixo')"
   ]
  },
  {
   "cell_type": "code",
   "execution_count": 45,
   "metadata": {},
   "outputs": [
    {
     "data": {
      "text/plain": [
       "datetime.datetime(2022, 11, 15, 19, 16, 56, 441352)"
      ]
     },
     "execution_count": 45,
     "metadata": {},
     "output_type": "execute_result"
    }
   ],
   "source": []
  },
  {
   "cell_type": "code",
   "execution_count": null,
   "metadata": {},
   "outputs": [],
   "source": []
  }
 ],
 "metadata": {
  "kernelspec": {
   "display_name": "Python 3.9.7 ('base')",
   "language": "python",
   "name": "python3"
  },
  "language_info": {
   "codemirror_mode": {
    "name": "ipython",
    "version": 3
   },
   "file_extension": ".py",
   "mimetype": "text/x-python",
   "name": "python",
   "nbconvert_exporter": "python",
   "pygments_lexer": "ipython3",
   "version": "3.9.7"
  },
  "orig_nbformat": 4,
  "vscode": {
   "interpreter": {
    "hash": "25bb5942a58f981780efc8129914c41725ee639f796a0c6522abb294f50baf65"
   }
  }
 },
 "nbformat": 4,
 "nbformat_minor": 2
}
