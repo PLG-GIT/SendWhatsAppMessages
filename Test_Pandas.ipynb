{
 "cells": [
  {
   "cell_type": "code",
   "execution_count": 1,
   "metadata": {},
   "outputs": [],
   "source": [
    "import pandas as pd\n",
    "from tkinter import filedialog as fd"
   ]
  },
  {
   "cell_type": "code",
   "execution_count": 2,
   "metadata": {},
   "outputs": [],
   "source": [
    "file_path = fd.askopenfilename(\n",
    "    title='Selecione o arquivo Excel com a lista de destinatarios',\n",
    "    filetypes=[\n",
    "        ('Arquivo Excel','.xls'),\n",
    "        ('Arquivo Excel','.xlsx')]\n",
    "    )\n",
    "\n",
    "# ler arquivo Excel, precisa tres colunas\n",
    "contatos_df = pd.read_excel(file_path, sheet_name='CLIENTES')"
   ]
  },
  {
   "cell_type": "code",
   "execution_count": 3,
   "metadata": {},
   "outputs": [],
   "source": [
    "contatos_df = contatos_df[~contatos_df['MENSAGEM'].isnull()]"
   ]
  },
  {
   "cell_type": "code",
   "execution_count": 4,
   "metadata": {},
   "outputs": [
    {
     "data": {
      "text/html": [
       "<div>\n",
       "<style scoped>\n",
       "    .dataframe tbody tr th:only-of-type {\n",
       "        vertical-align: middle;\n",
       "    }\n",
       "\n",
       "    .dataframe tbody tr th {\n",
       "        vertical-align: top;\n",
       "    }\n",
       "\n",
       "    .dataframe thead th {\n",
       "        text-align: right;\n",
       "    }\n",
       "</style>\n",
       "<table border=\"1\" class=\"dataframe\">\n",
       "  <thead>\n",
       "    <tr style=\"text-align: right;\">\n",
       "      <th></th>\n",
       "      <th>CLIENTE</th>\n",
       "      <th>TELEFONE</th>\n",
       "      <th>MENSAGEM</th>\n",
       "    </tr>\n",
       "  </thead>\n",
       "  <tbody>\n",
       "    <tr>\n",
       "      <th>0</th>\n",
       "      <td>Pablo</td>\n",
       "      <td>55 (71) 9101-3035</td>\n",
       "      <td>Mensagem de Teste para Pablo</td>\n",
       "    </tr>\n",
       "    <tr>\n",
       "      <th>1</th>\n",
       "      <td>Pedro with valid message</td>\n",
       "      <td>55 (71) 9101-3035</td>\n",
       "      <td>Mensagem de Teste para Pedro with valid message</td>\n",
       "    </tr>\n",
       "    <tr>\n",
       "      <th>3</th>\n",
       "      <td>Pedro Wrong Number</td>\n",
       "      <td>555-5555</td>\n",
       "      <td>Mensagem de Teste para Pedro Wrong Number</td>\n",
       "    </tr>\n",
       "    <tr>\n",
       "      <th>4</th>\n",
       "      <td>José valid message</td>\n",
       "      <td>55 (71) 9101-3035</td>\n",
       "      <td>Mensagem de Teste para José valid message</td>\n",
       "    </tr>\n",
       "    <tr>\n",
       "      <th>5</th>\n",
       "      <td>José wrong number</td>\n",
       "      <td>555-5555</td>\n",
       "      <td>Mensagem de Teste para José wrong number</td>\n",
       "    </tr>\n",
       "    <tr>\n",
       "      <th>8</th>\n",
       "      <td>Maria with message</td>\n",
       "      <td>55 (71) 9101-3035</td>\n",
       "      <td>Mensagem de Teste para Maria with message</td>\n",
       "    </tr>\n",
       "    <tr>\n",
       "      <th>9</th>\n",
       "      <td>Maria Wrong number</td>\n",
       "      <td>555-5555</td>\n",
       "      <td>Mensagem de Teste para Maria Wrong number</td>\n",
       "    </tr>\n",
       "  </tbody>\n",
       "</table>\n",
       "</div>"
      ],
      "text/plain": [
       "                    CLIENTE           TELEFONE  \\\n",
       "0                     Pablo  55 (71) 9101-3035   \n",
       "1  Pedro with valid message  55 (71) 9101-3035   \n",
       "3        Pedro Wrong Number           555-5555   \n",
       "4        José valid message  55 (71) 9101-3035   \n",
       "5         José wrong number           555-5555   \n",
       "8        Maria with message  55 (71) 9101-3035   \n",
       "9        Maria Wrong number           555-5555   \n",
       "\n",
       "                                          MENSAGEM  \n",
       "0                     Mensagem de Teste para Pablo  \n",
       "1  Mensagem de Teste para Pedro with valid message  \n",
       "3        Mensagem de Teste para Pedro Wrong Number  \n",
       "4        Mensagem de Teste para José valid message  \n",
       "5         Mensagem de Teste para José wrong number  \n",
       "8        Mensagem de Teste para Maria with message  \n",
       "9        Mensagem de Teste para Maria Wrong number  "
      ]
     },
     "execution_count": 4,
     "metadata": {},
     "output_type": "execute_result"
    }
   ],
   "source": [
    "contatos_df"
   ]
  },
  {
   "cell_type": "code",
   "execution_count": 5,
   "metadata": {},
   "outputs": [],
   "source": [
    "contatos_df.reset_index(inplace=True)"
   ]
  },
  {
   "cell_type": "code",
   "execution_count": 6,
   "metadata": {},
   "outputs": [
    {
     "data": {
      "text/html": [
       "<div>\n",
       "<style scoped>\n",
       "    .dataframe tbody tr th:only-of-type {\n",
       "        vertical-align: middle;\n",
       "    }\n",
       "\n",
       "    .dataframe tbody tr th {\n",
       "        vertical-align: top;\n",
       "    }\n",
       "\n",
       "    .dataframe thead th {\n",
       "        text-align: right;\n",
       "    }\n",
       "</style>\n",
       "<table border=\"1\" class=\"dataframe\">\n",
       "  <thead>\n",
       "    <tr style=\"text-align: right;\">\n",
       "      <th></th>\n",
       "      <th>index</th>\n",
       "      <th>CLIENTE</th>\n",
       "      <th>TELEFONE</th>\n",
       "      <th>MENSAGEM</th>\n",
       "    </tr>\n",
       "  </thead>\n",
       "  <tbody>\n",
       "    <tr>\n",
       "      <th>0</th>\n",
       "      <td>0</td>\n",
       "      <td>Pablo</td>\n",
       "      <td>55 (71) 9101-3035</td>\n",
       "      <td>Mensagem de Teste para Pablo</td>\n",
       "    </tr>\n",
       "    <tr>\n",
       "      <th>1</th>\n",
       "      <td>1</td>\n",
       "      <td>Pedro with valid message</td>\n",
       "      <td>55 (71) 9101-3035</td>\n",
       "      <td>Mensagem de Teste para Pedro with valid message</td>\n",
       "    </tr>\n",
       "    <tr>\n",
       "      <th>2</th>\n",
       "      <td>3</td>\n",
       "      <td>Pedro Wrong Number</td>\n",
       "      <td>555-5555</td>\n",
       "      <td>Mensagem de Teste para Pedro Wrong Number</td>\n",
       "    </tr>\n",
       "    <tr>\n",
       "      <th>3</th>\n",
       "      <td>4</td>\n",
       "      <td>José valid message</td>\n",
       "      <td>55 (71) 9101-3035</td>\n",
       "      <td>Mensagem de Teste para José valid message</td>\n",
       "    </tr>\n",
       "    <tr>\n",
       "      <th>4</th>\n",
       "      <td>5</td>\n",
       "      <td>José wrong number</td>\n",
       "      <td>555-5555</td>\n",
       "      <td>Mensagem de Teste para José wrong number</td>\n",
       "    </tr>\n",
       "    <tr>\n",
       "      <th>5</th>\n",
       "      <td>8</td>\n",
       "      <td>Maria with message</td>\n",
       "      <td>55 (71) 9101-3035</td>\n",
       "      <td>Mensagem de Teste para Maria with message</td>\n",
       "    </tr>\n",
       "    <tr>\n",
       "      <th>6</th>\n",
       "      <td>9</td>\n",
       "      <td>Maria Wrong number</td>\n",
       "      <td>555-5555</td>\n",
       "      <td>Mensagem de Teste para Maria Wrong number</td>\n",
       "    </tr>\n",
       "  </tbody>\n",
       "</table>\n",
       "</div>"
      ],
      "text/plain": [
       "   index                   CLIENTE           TELEFONE  \\\n",
       "0      0                     Pablo  55 (71) 9101-3035   \n",
       "1      1  Pedro with valid message  55 (71) 9101-3035   \n",
       "2      3        Pedro Wrong Number           555-5555   \n",
       "3      4        José valid message  55 (71) 9101-3035   \n",
       "4      5         José wrong number           555-5555   \n",
       "5      8        Maria with message  55 (71) 9101-3035   \n",
       "6      9        Maria Wrong number           555-5555   \n",
       "\n",
       "                                          MENSAGEM  \n",
       "0                     Mensagem de Teste para Pablo  \n",
       "1  Mensagem de Teste para Pedro with valid message  \n",
       "2        Mensagem de Teste para Pedro Wrong Number  \n",
       "3        Mensagem de Teste para José valid message  \n",
       "4         Mensagem de Teste para José wrong number  \n",
       "5        Mensagem de Teste para Maria with message  \n",
       "6        Mensagem de Teste para Maria Wrong number  "
      ]
     },
     "execution_count": 6,
     "metadata": {},
     "output_type": "execute_result"
    }
   ],
   "source": [
    "contatos_df"
   ]
  },
  {
   "cell_type": "code",
   "execution_count": 7,
   "metadata": {},
   "outputs": [],
   "source": [
    "contatos_df.drop(labels='index',axis=1,inplace=True)"
   ]
  },
  {
   "cell_type": "code",
   "execution_count": 8,
   "metadata": {},
   "outputs": [
    {
     "data": {
      "text/html": [
       "<div>\n",
       "<style scoped>\n",
       "    .dataframe tbody tr th:only-of-type {\n",
       "        vertical-align: middle;\n",
       "    }\n",
       "\n",
       "    .dataframe tbody tr th {\n",
       "        vertical-align: top;\n",
       "    }\n",
       "\n",
       "    .dataframe thead th {\n",
       "        text-align: right;\n",
       "    }\n",
       "</style>\n",
       "<table border=\"1\" class=\"dataframe\">\n",
       "  <thead>\n",
       "    <tr style=\"text-align: right;\">\n",
       "      <th></th>\n",
       "      <th>CLIENTE</th>\n",
       "      <th>TELEFONE</th>\n",
       "      <th>MENSAGEM</th>\n",
       "    </tr>\n",
       "  </thead>\n",
       "  <tbody>\n",
       "    <tr>\n",
       "      <th>0</th>\n",
       "      <td>Pablo</td>\n",
       "      <td>55 (71) 9101-3035</td>\n",
       "      <td>Mensagem de Teste para Pablo</td>\n",
       "    </tr>\n",
       "    <tr>\n",
       "      <th>1</th>\n",
       "      <td>Pedro with valid message</td>\n",
       "      <td>55 (71) 9101-3035</td>\n",
       "      <td>Mensagem de Teste para Pedro with valid message</td>\n",
       "    </tr>\n",
       "    <tr>\n",
       "      <th>2</th>\n",
       "      <td>Pedro Wrong Number</td>\n",
       "      <td>555-5555</td>\n",
       "      <td>Mensagem de Teste para Pedro Wrong Number</td>\n",
       "    </tr>\n",
       "    <tr>\n",
       "      <th>3</th>\n",
       "      <td>José valid message</td>\n",
       "      <td>55 (71) 9101-3035</td>\n",
       "      <td>Mensagem de Teste para José valid message</td>\n",
       "    </tr>\n",
       "    <tr>\n",
       "      <th>4</th>\n",
       "      <td>José wrong number</td>\n",
       "      <td>555-5555</td>\n",
       "      <td>Mensagem de Teste para José wrong number</td>\n",
       "    </tr>\n",
       "    <tr>\n",
       "      <th>5</th>\n",
       "      <td>Maria with message</td>\n",
       "      <td>55 (71) 9101-3035</td>\n",
       "      <td>Mensagem de Teste para Maria with message</td>\n",
       "    </tr>\n",
       "    <tr>\n",
       "      <th>6</th>\n",
       "      <td>Maria Wrong number</td>\n",
       "      <td>555-5555</td>\n",
       "      <td>Mensagem de Teste para Maria Wrong number</td>\n",
       "    </tr>\n",
       "  </tbody>\n",
       "</table>\n",
       "</div>"
      ],
      "text/plain": [
       "                    CLIENTE           TELEFONE  \\\n",
       "0                     Pablo  55 (71) 9101-3035   \n",
       "1  Pedro with valid message  55 (71) 9101-3035   \n",
       "2        Pedro Wrong Number           555-5555   \n",
       "3        José valid message  55 (71) 9101-3035   \n",
       "4         José wrong number           555-5555   \n",
       "5        Maria with message  55 (71) 9101-3035   \n",
       "6        Maria Wrong number           555-5555   \n",
       "\n",
       "                                          MENSAGEM  \n",
       "0                     Mensagem de Teste para Pablo  \n",
       "1  Mensagem de Teste para Pedro with valid message  \n",
       "2        Mensagem de Teste para Pedro Wrong Number  \n",
       "3        Mensagem de Teste para José valid message  \n",
       "4         Mensagem de Teste para José wrong number  \n",
       "5        Mensagem de Teste para Maria with message  \n",
       "6        Mensagem de Teste para Maria Wrong number  "
      ]
     },
     "execution_count": 8,
     "metadata": {},
     "output_type": "execute_result"
    }
   ],
   "source": [
    "contatos_df"
   ]
  },
  {
   "cell_type": "code",
   "execution_count": 9,
   "metadata": {},
   "outputs": [],
   "source": [
    "j = 2\n",
    "contatos_df.loc[j,'RESULTADO'] = 'Mensagem enviada'"
   ]
  },
  {
   "cell_type": "code",
   "execution_count": 13,
   "metadata": {},
   "outputs": [],
   "source": [
    "contatos_df.loc[1,'RESULTADO'] = 'Mensagem NAO enviada'"
   ]
  },
  {
   "cell_type": "code",
   "execution_count": 14,
   "metadata": {},
   "outputs": [
    {
     "data": {
      "text/html": [
       "<div>\n",
       "<style scoped>\n",
       "    .dataframe tbody tr th:only-of-type {\n",
       "        vertical-align: middle;\n",
       "    }\n",
       "\n",
       "    .dataframe tbody tr th {\n",
       "        vertical-align: top;\n",
       "    }\n",
       "\n",
       "    .dataframe thead th {\n",
       "        text-align: right;\n",
       "    }\n",
       "</style>\n",
       "<table border=\"1\" class=\"dataframe\">\n",
       "  <thead>\n",
       "    <tr style=\"text-align: right;\">\n",
       "      <th></th>\n",
       "      <th>CLIENTE</th>\n",
       "      <th>TELEFONE</th>\n",
       "      <th>MENSAGEM</th>\n",
       "      <th>RESULTADO</th>\n",
       "      <th>(1, RESULTADO)</th>\n",
       "    </tr>\n",
       "  </thead>\n",
       "  <tbody>\n",
       "    <tr>\n",
       "      <th>0</th>\n",
       "      <td>Pablo</td>\n",
       "      <td>55 (71) 9101-3035</td>\n",
       "      <td>Mensagem de Teste para Pablo</td>\n",
       "      <td>NaN</td>\n",
       "      <td>Mensagem NAO enviada</td>\n",
       "    </tr>\n",
       "    <tr>\n",
       "      <th>1</th>\n",
       "      <td>Pedro with valid message</td>\n",
       "      <td>55 (71) 9101-3035</td>\n",
       "      <td>Mensagem de Teste para Pedro with valid message</td>\n",
       "      <td>Mensagem NAO enviada</td>\n",
       "      <td>Mensagem NAO enviada</td>\n",
       "    </tr>\n",
       "    <tr>\n",
       "      <th>2</th>\n",
       "      <td>Pedro Wrong Number</td>\n",
       "      <td>555-5555</td>\n",
       "      <td>Mensagem de Teste para Pedro Wrong Number</td>\n",
       "      <td>Mensagem enviada</td>\n",
       "      <td>Mensagem NAO enviada</td>\n",
       "    </tr>\n",
       "    <tr>\n",
       "      <th>3</th>\n",
       "      <td>José valid message</td>\n",
       "      <td>55 (71) 9101-3035</td>\n",
       "      <td>Mensagem de Teste para José valid message</td>\n",
       "      <td>NaN</td>\n",
       "      <td>Mensagem NAO enviada</td>\n",
       "    </tr>\n",
       "    <tr>\n",
       "      <th>4</th>\n",
       "      <td>José wrong number</td>\n",
       "      <td>555-5555</td>\n",
       "      <td>Mensagem de Teste para José wrong number</td>\n",
       "      <td>NaN</td>\n",
       "      <td>Mensagem NAO enviada</td>\n",
       "    </tr>\n",
       "    <tr>\n",
       "      <th>5</th>\n",
       "      <td>Maria with message</td>\n",
       "      <td>55 (71) 9101-3035</td>\n",
       "      <td>Mensagem de Teste para Maria with message</td>\n",
       "      <td>NaN</td>\n",
       "      <td>Mensagem NAO enviada</td>\n",
       "    </tr>\n",
       "    <tr>\n",
       "      <th>6</th>\n",
       "      <td>Maria Wrong number</td>\n",
       "      <td>555-5555</td>\n",
       "      <td>Mensagem de Teste para Maria Wrong number</td>\n",
       "      <td>NaN</td>\n",
       "      <td>Mensagem NAO enviada</td>\n",
       "    </tr>\n",
       "  </tbody>\n",
       "</table>\n",
       "</div>"
      ],
      "text/plain": [
       "                    CLIENTE           TELEFONE  \\\n",
       "0                     Pablo  55 (71) 9101-3035   \n",
       "1  Pedro with valid message  55 (71) 9101-3035   \n",
       "2        Pedro Wrong Number           555-5555   \n",
       "3        José valid message  55 (71) 9101-3035   \n",
       "4         José wrong number           555-5555   \n",
       "5        Maria with message  55 (71) 9101-3035   \n",
       "6        Maria Wrong number           555-5555   \n",
       "\n",
       "                                          MENSAGEM             RESULTADO  \\\n",
       "0                     Mensagem de Teste para Pablo                   NaN   \n",
       "1  Mensagem de Teste para Pedro with valid message  Mensagem NAO enviada   \n",
       "2        Mensagem de Teste para Pedro Wrong Number      Mensagem enviada   \n",
       "3        Mensagem de Teste para José valid message                   NaN   \n",
       "4         Mensagem de Teste para José wrong number                   NaN   \n",
       "5        Mensagem de Teste para Maria with message                   NaN   \n",
       "6        Mensagem de Teste para Maria Wrong number                   NaN   \n",
       "\n",
       "         (1, RESULTADO)  \n",
       "0  Mensagem NAO enviada  \n",
       "1  Mensagem NAO enviada  \n",
       "2  Mensagem NAO enviada  \n",
       "3  Mensagem NAO enviada  \n",
       "4  Mensagem NAO enviada  \n",
       "5  Mensagem NAO enviada  \n",
       "6  Mensagem NAO enviada  "
      ]
     },
     "execution_count": 14,
     "metadata": {},
     "output_type": "execute_result"
    }
   ],
   "source": [
    "contatos_df"
   ]
  },
  {
   "cell_type": "code",
   "execution_count": 15,
   "metadata": {},
   "outputs": [
    {
     "name": "stdout",
     "output_type": "stream",
     "text": [
      "E:/GitHubPersonal/SendWhatsAppMessages/Customer Messages Files/Customers Messages File.xlsx\n"
     ]
    }
   ],
   "source": [
    "print(file_path)"
   ]
  },
  {
   "cell_type": "code",
   "execution_count": 16,
   "metadata": {},
   "outputs": [],
   "source": [
    "from pathlib import Path"
   ]
  },
  {
   "cell_type": "code",
   "execution_count": 23,
   "metadata": {},
   "outputs": [
    {
     "name": "stdout",
     "output_type": "stream",
     "text": [
      "E:\\GitHubPersonal\\SendWhatsAppMessages\\Customer Messages Files\n"
     ]
    }
   ],
   "source": [
    "print(Path(file_path).parent)"
   ]
  },
  {
   "cell_type": "code",
   "execution_count": 24,
   "metadata": {},
   "outputs": [],
   "source": [
    "# Datetime to store current date of messages sent\n",
    "from datetime import date"
   ]
  },
  {
   "cell_type": "code",
   "execution_count": 27,
   "metadata": {},
   "outputs": [],
   "source": [
    "result_file = '{}\\Resultado Envios {}.xlsx'.format(Path(file_path).parent,date.today())\n"
   ]
  },
  {
   "cell_type": "code",
   "execution_count": 28,
   "metadata": {},
   "outputs": [
    {
     "name": "stdout",
     "output_type": "stream",
     "text": [
      "E:\\GitHubPersonal\\SendWhatsAppMessages\\Customer Messages Files\\Resultado Envios 2022-10-24.xlsx\n"
     ]
    }
   ],
   "source": [
    "print(result_file)"
   ]
  },
  {
   "cell_type": "code",
   "execution_count": 29,
   "metadata": {},
   "outputs": [],
   "source": [
    "contatos_df.to_excel(result_file,index=False)"
   ]
  },
  {
   "cell_type": "code",
   "execution_count": null,
   "metadata": {},
   "outputs": [],
   "source": []
  }
 ],
 "metadata": {
  "kernelspec": {
   "display_name": "Python 3.9.7 ('base')",
   "language": "python",
   "name": "python3"
  },
  "language_info": {
   "codemirror_mode": {
    "name": "ipython",
    "version": 3
   },
   "file_extension": ".py",
   "mimetype": "text/x-python",
   "name": "python",
   "nbconvert_exporter": "python",
   "pygments_lexer": "ipython3",
   "version": "3.9.7"
  },
  "orig_nbformat": 4,
  "vscode": {
   "interpreter": {
    "hash": "25bb5942a58f981780efc8129914c41725ee639f796a0c6522abb294f50baf65"
   }
  }
 },
 "nbformat": 4,
 "nbformat_minor": 2
}
