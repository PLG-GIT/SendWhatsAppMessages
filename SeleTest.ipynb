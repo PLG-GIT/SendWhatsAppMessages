{
 "cells": [
  {
   "cell_type": "code",
   "execution_count": 1,
   "metadata": {},
   "outputs": [],
   "source": [
    "from selenium import webdriver\n",
    "from selenium.webdriver.chrome.service import Service\n",
    "from webdriver_manager.chrome import ChromeDriverManager\n",
    "\n",
    "\n",
    "# Necessary to convert messages from ASCII text into URL aceptable addresses (convert special characters, spaces, etc)\n",
    "import urllib\n",
    "\n",
    "from selenium.webdriver.common.by import By\n",
    "from selenium.webdriver.support.ui import WebDriverWait\n",
    "from selenium.webdriver.support import expected_conditions\n",
    "from selenium.webdriver.common.keys import Keys\n",
    "\n",
    "# estou empacado no inputbox para colocar os arquivos...um solução burra seria usar pyautogui, mas deve ter outra usando css selector\n",
    "import pyautogui\n",
    "\n",
    "# nao e o melhor mas funciona\n",
    "import time\n"
   ]
  },
  {
   "cell_type": "code",
   "execution_count": 2,
   "metadata": {},
   "outputs": [],
   "source": [
    "navegador = webdriver.Chrome()"
   ]
  },
  {
   "cell_type": "code",
   "execution_count": 3,
   "metadata": {},
   "outputs": [],
   "source": [
    "navegador.get(\"https://web.whatsapp.com/\")"
   ]
  },
  {
   "cell_type": "code",
   "execution_count": 4,
   "metadata": {},
   "outputs": [],
   "source": [
    "phone = '55(71) 9101-3035'\n",
    "message = 'Testing Message for Pablo 1350'\n",
    "\n",
    "# Convert message from ASCII into URL plain text\n",
    "url_message = urllib.parse.quote(f\"{message}\")"
   ]
  },
  {
   "cell_type": "code",
   "execution_count": 7,
   "metadata": {},
   "outputs": [],
   "source": [
    "link = f\"https://web.whatsapp.com/send?phone={phone}&text={url_message}\""
   ]
  },
  {
   "cell_type": "code",
   "execution_count": 10,
   "metadata": {},
   "outputs": [],
   "source": [
    "# obter o link com telefone e ja colocar mensagem\n",
    "navegador.get(link)"
   ]
  },
  {
   "cell_type": "code",
   "execution_count": 11,
   "metadata": {},
   "outputs": [],
   "source": [
    "# clicar no triangulo de enviar (es mejor que el Enter)\n",
    "navegador.find_element(By.CSS_SELECTOR,\"span[data-icon='send']\").click()"
   ]
  },
  {
   "cell_type": "code",
   "execution_count": 9,
   "metadata": {},
   "outputs": [],
   "source": [
    "# mandar o enter (alternativa feia)\n",
    "navegador.find_element(By.XPATH,'//*[@id=\"main\"]/footer/div[1]/div/span[2]/div/div[2]/div[1]/div/div/p/span').send_keys(Keys.ENTER)"
   ]
  },
  {
   "cell_type": "code",
   "execution_count": 22,
   "metadata": {},
   "outputs": [],
   "source": []
  },
  {
   "cell_type": "code",
   "execution_count": 9,
   "metadata": {},
   "outputs": [],
   "source": [
    "# definir caminho da imagem\n",
    "# img_file = r'C:\\Users\\pablo\\OneDrive\\Documents\\GitHub\\SendWhatsAppMessages\\Imagens de teste\\TESTING IMAGE 1080 X 1350 jpg.jpg'\n",
    "img_file = r'C:\\Users\\pablo\\OneDrive\\Documents\\GitHub\\SendWhatsAppMessages\\Imagens de teste\\Slide3.png'"
   ]
  },
  {
   "cell_type": "code",
   "execution_count": null,
   "metadata": {},
   "outputs": [],
   "source": [
    "# clicar no send file e enviar as keystrokes com o caminho das imagens\n",
    "navegador.find_element(By.CSS_SELECTOR,\"input[type='file']\").send_keys(img_file)\n",
    "\n",
    "# ATENÇÃO!!! ESTA ENVIANDO COMO FIGURINHAS!!!\n"
   ]
  },
  {
   "cell_type": "code",
   "execution_count": null,
   "metadata": {},
   "outputs": [],
   "source": []
  },
  {
   "cell_type": "code",
   "execution_count": null,
   "metadata": {},
   "outputs": [],
   "source": []
  },
  {
   "cell_type": "code",
   "execution_count": 25,
   "metadata": {},
   "outputs": [],
   "source": [
    "# nao e o mais elegante mas funciona"
   ]
  },
  {
   "cell_type": "markdown",
   "metadata": {},
   "source": [
    "https://es.stackoverflow.com/questions/599712/problemas-para-enviar-con-whatsaap-imagen-con-texto-usando-selenium-python"
   ]
  },
  {
   "cell_type": "code",
   "execution_count": 16,
   "metadata": {},
   "outputs": [],
   "source": [
    "# buscar sinal de + (antigo clip)\n",
    "navegador.find_element(By.CSS_SELECTOR,\"span[data-icon='attach-menu-plus']\").click()"
   ]
  },
  {
   "cell_type": "code",
   "execution_count": 15,
   "metadata": {},
   "outputs": [],
   "source": [
    "# clicar no icone de fotos e videos\n",
    "navegador.find_element(By.XPATH,'//*[@id=\"main\"]/footer/div[1]/div/span[2]/div/div[1]/div[2]/div/span/div/ul/div/div[2]/li/div/span').click()\n",
    "\n",
    "#sim, muito lindo mas me abre uma janela para escolher os arquivos... como los paso, com pyautogui? fica feio..."
   ]
  },
  {
   "cell_type": "code",
   "execution_count": 21,
   "metadata": {},
   "outputs": [],
   "source": [
    "# SOLUCAO PARA ENVIAR FIGURAS ****\n",
    "\n",
    "# tempo para eu poder trocar de programa\n",
    "time.sleep(5)\n",
    "\n",
    "# aqui vai o string do caminho do arquivo\n",
    "img_file = r'C:\\Users\\pablo\\OneDrive\\Documents\\GitHub\\SendWhatsAppMessages\\Imagens de teste\\Slide3.png'\n",
    "\n",
    "# buscar sinal de + (antigo clip)\n",
    "navegador.find_element(By.CSS_SELECTOR,\"span[data-icon='attach-menu-plus']\").click()\n",
    "\n",
    "# tem que dar um tempo\n",
    "time.sleep(1)\n",
    "\n",
    "# abrir a janela para selecionar o arquivo e enviar as teclas\n",
    "navegador.find_element(By.XPATH,'//*[@id=\"main\"]/footer/div[1]/div/span[2]/div/div[1]/div[2]/div/span/div/ul/div/div[2]/li/div/input').send_keys(img_file)\n",
    "\n",
    "# tem que dar um tempo\n",
    "time.sleep(3)\n",
    "\n",
    "# clicar no triangulo de enviar (es mejor que el Enter)\n",
    "navegador.find_element(By.CSS_SELECTOR,\"span[data-icon='send']\").click()\n",
    "\n",
    "#FOI!!!!\n"
   ]
  },
  {
   "cell_type": "code",
   "execution_count": 18,
   "metadata": {},
   "outputs": [],
   "source": []
  },
  {
   "cell_type": "code",
   "execution_count": null,
   "metadata": {},
   "outputs": [],
   "source": []
  },
  {
   "cell_type": "code",
   "execution_count": 27,
   "metadata": {},
   "outputs": [],
   "source": [
    "# buscar imagens e videos\n",
    "navegador.find_element(By.XPATH,'//*[@id=\"main\"]/footer/div[1]/div/span[2]/div/div[1]/div[2]/div/span/div/ul/div/div[2]/li/div').click()\n"
   ]
  },
  {
   "cell_type": "code",
   "execution_count": 28,
   "metadata": {},
   "outputs": [],
   "source": [
    "time.sleep(5)\n",
    "pyautogui.typewrite(img_file)\n",
    "time.sleep(1)\n",
    "pyautogui.press('enter')\n",
    "time.sleep(2)"
   ]
  },
  {
   "cell_type": "code",
   "execution_count": 29,
   "metadata": {},
   "outputs": [],
   "source": [
    "# clicar no triangulo de enviar\n",
    "navegador.find_element(By.CSS_SELECTOR,\"span[data-icon='send']\").click()"
   ]
  },
  {
   "cell_type": "markdown",
   "metadata": {},
   "source": []
  },
  {
   "cell_type": "code",
   "execution_count": null,
   "metadata": {},
   "outputs": [],
   "source": []
  },
  {
   "cell_type": "markdown",
   "metadata": {},
   "source": []
  },
  {
   "cell_type": "code",
   "execution_count": null,
   "metadata": {},
   "outputs": [],
   "source": []
  },
  {
   "cell_type": "code",
   "execution_count": null,
   "metadata": {},
   "outputs": [],
   "source": []
  },
  {
   "cell_type": "code",
   "execution_count": null,
   "metadata": {},
   "outputs": [],
   "source": []
  },
  {
   "cell_type": "code",
   "execution_count": 30,
   "metadata": {},
   "outputs": [
    {
     "ename": "NoSuchElementException",
     "evalue": "Message: no such element: Unable to locate element: {\"method\":\"xpath\",\"selector\":\"//*[@id=\"main\"]/footer/div[1]/div/span[2]/div/div[1]/div[2]/div/span/div/ul/div/div[2]/li\"}\n  (Session info: chrome=118.0.5993.118); For documentation on this error, please visit: https://www.selenium.dev/documentation/webdriver/troubleshooting/errors#no-such-element-exception\nStacktrace:\n\tGetHandleVerifier [0x00007FF603538EF2+54786]\n\t(No symbol) [0x00007FF6034A5612]\n\t(No symbol) [0x00007FF60335A64B]\n\t(No symbol) [0x00007FF60339B79C]\n\t(No symbol) [0x00007FF60339B91C]\n\t(No symbol) [0x00007FF6033D6D87]\n\t(No symbol) [0x00007FF6033BBEAF]\n\t(No symbol) [0x00007FF6033D4D02]\n\t(No symbol) [0x00007FF6033BBC43]\n\t(No symbol) [0x00007FF603390941]\n\t(No symbol) [0x00007FF603391B84]\n\tGetHandleVerifier [0x00007FF603887F52+3524194]\n\tGetHandleVerifier [0x00007FF6038DD800+3874576]\n\tGetHandleVerifier [0x00007FF6038D5D7F+3843215]\n\tGetHandleVerifier [0x00007FF6035D5086+694166]\n\t(No symbol) [0x00007FF6034B0A88]\n\t(No symbol) [0x00007FF6034ACA94]\n\t(No symbol) [0x00007FF6034ACBC2]\n\t(No symbol) [0x00007FF60349CC83]\n\tBaseThreadInitThunk [0x00007FFF964C7344+20]\n\tRtlUserThreadStart [0x00007FFF96C826B1+33]\n",
     "output_type": "error",
     "traceback": [
      "\u001b[1;31m---------------------------------------------------------------------------\u001b[0m",
      "\u001b[1;31mNoSuchElementException\u001b[0m                    Traceback (most recent call last)",
      "\u001b[1;32mc:\\Users\\pablo\\OneDrive\\Documents\\GitHub\\SendWhatsAppMessages\\SeleTest.ipynb Cell 25\u001b[0m line \u001b[0;36m2\n\u001b[0;32m      <a href='vscode-notebook-cell:/c%3A/Users/pablo/OneDrive/Documents/GitHub/SendWhatsAppMessages/SeleTest.ipynb#X12sZmlsZQ%3D%3D?line=0'>1</a>\u001b[0m \u001b[39m# clicar no icone de enviar fotos e videos\u001b[39;00m\n\u001b[1;32m----> <a href='vscode-notebook-cell:/c%3A/Users/pablo/OneDrive/Documents/GitHub/SendWhatsAppMessages/SeleTest.ipynb#X12sZmlsZQ%3D%3D?line=1'>2</a>\u001b[0m navegador\u001b[39m.\u001b[39mfind_element(By\u001b[39m.\u001b[39mXPATH,\u001b[39m'\u001b[39m\u001b[39m//*[@id=\u001b[39m\u001b[39m\"\u001b[39m\u001b[39mmain\u001b[39m\u001b[39m\"\u001b[39m\u001b[39m]/footer/div[1]/div/span[2]/div/div[1]/div[2]/div/span/div/ul/div/div[2]/li\u001b[39m\u001b[39m'\u001b[39m)\u001b[39m.\u001b[39mclick()\n",
      "File \u001b[1;32mc:\\Users\\pablo\\anaconda3\\Lib\\site-packages\\selenium\\webdriver\\remote\\webdriver.py:738\u001b[0m, in \u001b[0;36mWebDriver.find_element\u001b[1;34m(self, by, value)\u001b[0m\n\u001b[0;32m    735\u001b[0m     by \u001b[39m=\u001b[39m By\u001b[39m.\u001b[39mCSS_SELECTOR\n\u001b[0;32m    736\u001b[0m     value \u001b[39m=\u001b[39m \u001b[39mf\u001b[39m\u001b[39m'\u001b[39m\u001b[39m[name=\u001b[39m\u001b[39m\"\u001b[39m\u001b[39m{\u001b[39;00mvalue\u001b[39m}\u001b[39;00m\u001b[39m\"\u001b[39m\u001b[39m]\u001b[39m\u001b[39m'\u001b[39m\n\u001b[1;32m--> 738\u001b[0m \u001b[39mreturn\u001b[39;00m \u001b[39mself\u001b[39m\u001b[39m.\u001b[39mexecute(Command\u001b[39m.\u001b[39mFIND_ELEMENT, {\u001b[39m\"\u001b[39m\u001b[39musing\u001b[39m\u001b[39m\"\u001b[39m: by, \u001b[39m\"\u001b[39m\u001b[39mvalue\u001b[39m\u001b[39m\"\u001b[39m: value})[\u001b[39m\"\u001b[39m\u001b[39mvalue\u001b[39m\u001b[39m\"\u001b[39m]\n",
      "File \u001b[1;32mc:\\Users\\pablo\\anaconda3\\Lib\\site-packages\\selenium\\webdriver\\remote\\webdriver.py:344\u001b[0m, in \u001b[0;36mWebDriver.execute\u001b[1;34m(self, driver_command, params)\u001b[0m\n\u001b[0;32m    342\u001b[0m response \u001b[39m=\u001b[39m \u001b[39mself\u001b[39m\u001b[39m.\u001b[39mcommand_executor\u001b[39m.\u001b[39mexecute(driver_command, params)\n\u001b[0;32m    343\u001b[0m \u001b[39mif\u001b[39;00m response:\n\u001b[1;32m--> 344\u001b[0m     \u001b[39mself\u001b[39m\u001b[39m.\u001b[39merror_handler\u001b[39m.\u001b[39mcheck_response(response)\n\u001b[0;32m    345\u001b[0m     response[\u001b[39m\"\u001b[39m\u001b[39mvalue\u001b[39m\u001b[39m\"\u001b[39m] \u001b[39m=\u001b[39m \u001b[39mself\u001b[39m\u001b[39m.\u001b[39m_unwrap_value(response\u001b[39m.\u001b[39mget(\u001b[39m\"\u001b[39m\u001b[39mvalue\u001b[39m\u001b[39m\"\u001b[39m, \u001b[39mNone\u001b[39;00m))\n\u001b[0;32m    346\u001b[0m     \u001b[39mreturn\u001b[39;00m response\n",
      "File \u001b[1;32mc:\\Users\\pablo\\anaconda3\\Lib\\site-packages\\selenium\\webdriver\\remote\\errorhandler.py:229\u001b[0m, in \u001b[0;36mErrorHandler.check_response\u001b[1;34m(self, response)\u001b[0m\n\u001b[0;32m    227\u001b[0m         alert_text \u001b[39m=\u001b[39m value[\u001b[39m\"\u001b[39m\u001b[39malert\u001b[39m\u001b[39m\"\u001b[39m]\u001b[39m.\u001b[39mget(\u001b[39m\"\u001b[39m\u001b[39mtext\u001b[39m\u001b[39m\"\u001b[39m)\n\u001b[0;32m    228\u001b[0m     \u001b[39mraise\u001b[39;00m exception_class(message, screen, stacktrace, alert_text)  \u001b[39m# type: ignore[call-arg]  # mypy is not smart enough here\u001b[39;00m\n\u001b[1;32m--> 229\u001b[0m \u001b[39mraise\u001b[39;00m exception_class(message, screen, stacktrace)\n",
      "\u001b[1;31mNoSuchElementException\u001b[0m: Message: no such element: Unable to locate element: {\"method\":\"xpath\",\"selector\":\"//*[@id=\"main\"]/footer/div[1]/div/span[2]/div/div[1]/div[2]/div/span/div/ul/div/div[2]/li\"}\n  (Session info: chrome=118.0.5993.118); For documentation on this error, please visit: https://www.selenium.dev/documentation/webdriver/troubleshooting/errors#no-such-element-exception\nStacktrace:\n\tGetHandleVerifier [0x00007FF603538EF2+54786]\n\t(No symbol) [0x00007FF6034A5612]\n\t(No symbol) [0x00007FF60335A64B]\n\t(No symbol) [0x00007FF60339B79C]\n\t(No symbol) [0x00007FF60339B91C]\n\t(No symbol) [0x00007FF6033D6D87]\n\t(No symbol) [0x00007FF6033BBEAF]\n\t(No symbol) [0x00007FF6033D4D02]\n\t(No symbol) [0x00007FF6033BBC43]\n\t(No symbol) [0x00007FF603390941]\n\t(No symbol) [0x00007FF603391B84]\n\tGetHandleVerifier [0x00007FF603887F52+3524194]\n\tGetHandleVerifier [0x00007FF6038DD800+3874576]\n\tGetHandleVerifier [0x00007FF6038D5D7F+3843215]\n\tGetHandleVerifier [0x00007FF6035D5086+694166]\n\t(No symbol) [0x00007FF6034B0A88]\n\t(No symbol) [0x00007FF6034ACA94]\n\t(No symbol) [0x00007FF6034ACBC2]\n\t(No symbol) [0x00007FF60349CC83]\n\tBaseThreadInitThunk [0x00007FFF964C7344+20]\n\tRtlUserThreadStart [0x00007FFF96C826B1+33]\n"
     ]
    }
   ],
   "source": [
    "# clicar no icone de enviar fotos e videos\n",
    "navegador.find_element(By.XPATH,'//*[@id=\"main\"]/footer/div[1]/div/span[2]/div/div[1]/div[2]/div/span/div/ul/div/div[2]/li').click()"
   ]
  },
  {
   "cell_type": "code",
   "execution_count": null,
   "metadata": {},
   "outputs": [],
   "source": [
    "navegador.find_element(By.XPATH,'//*[@id=\"main\"]/footer/div[1]/div/span[2]/div/div[1]/div[2]/div/span/div/ul/div/div[2]/li').send_keys(img_file)"
   ]
  },
  {
   "cell_type": "code",
   "execution_count": null,
   "metadata": {},
   "outputs": [],
   "source": []
  }
 ],
 "metadata": {
  "kernelspec": {
   "display_name": "base",
   "language": "python",
   "name": "python3"
  },
  "language_info": {
   "codemirror_mode": {
    "name": "ipython",
    "version": 3
   },
   "file_extension": ".py",
   "mimetype": "text/x-python",
   "name": "python",
   "nbconvert_exporter": "python",
   "pygments_lexer": "ipython3",
   "version": "3.11.4"
  }
 },
 "nbformat": 4,
 "nbformat_minor": 2
}
