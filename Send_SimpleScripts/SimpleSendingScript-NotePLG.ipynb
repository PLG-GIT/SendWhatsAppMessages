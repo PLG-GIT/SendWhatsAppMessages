{
 "cells": [
  {
   "cell_type": "markdown",
   "metadata": {},
   "source": [
    "Script para envio de mensagens simples  \n",
    "Premisas:  \n",
    "1. Carregar bibliotecas necessarias\n",
    "    1. Pandas\n",
    "    2. Selenium\n",
    "    3. Webdriver Manager\n",
    "    4. Time\n",
    "2. Carregar arquivo de mensagens en dataframe\n",
    "3. Limpar dataframe  \n",
    "    1. Eliminar linhas sem mensagens\n",
    "    2. Eliinar linhas sem telefones\n",
    "    3. Eliminar colunas desnecessarias\n",
    "    4. Obter o total de linhas\n",
    "    5. Resetar indice\n",
    "4. Abrir o Navegador\n",
    "5. Abrir o WhatsappWeb\n",
    "6. Esperar conexão do celular\n",
    "7. Iniciar Loop de envio de imagens\n",
    "    1. Enviar mensagem\n",
    "    2. Iniciar Loop de envio de imagens"
   ]
  },
  {
   "cell_type": "markdown",
   "metadata": {},
   "source": [
    "Carregar bibliotecas necessarias"
   ]
  },
  {
   "cell_type": "code",
   "execution_count": 1,
   "metadata": {},
   "outputs": [],
   "source": [
    "import pandas as pd\n",
    "\n",
    "# necessary libraries for Chrome operations:\n",
    "from selenium import webdriver\n",
    "from selenium.webdriver.common.by import By\n",
    "from selenium.webdriver.support.ui import WebDriverWait\n",
    "from selenium.webdriver.support import expected_conditions\n",
    "from selenium.webdriver.common.keys import Keys\n",
    "from selenium.common.exceptions import NoSuchElementException\n",
    "\n",
    "# modified 29-oct-23\n",
    "from selenium.webdriver.chrome.service import Service\n",
    "\n",
    "# pip install webdriver_manager\n",
    "# This librari updates automatically the Browser Manger (in this case, Chrome)\n",
    "from webdriver_manager.chrome import ChromeDriverManager\n",
    "\n",
    "# Necessary to convert messages from ASCII text into URL aceptable addresses (convert special characters, spaces, etc)\n",
    "import urllib\n",
    "\n",
    "# Just to get image file name from full path\n",
    "from pathlib import Path\n",
    "\n",
    "# Time to allow program wait few seconds during Chrome operations\n",
    "import time\n",
    "\n",
    "# To allow randomic waiting times (important to avoid Whatsapp account blocking)\n",
    "import random\n",
    "\n",
    "# Datetime to store current date of messages sent\n",
    "# from datetime import date\n",
    "import datetime as dt\n",
    "\n",
    "# importar Tkinter\n",
    "import tkinter as tk\n",
    "from tkinter import filedialog as fd"
   ]
  },
  {
   "cell_type": "markdown",
   "metadata": {},
   "source": [
    "Carregar biblioteca de obejtos clicaveis"
   ]
  },
  {
   "cell_type": "code",
   "execution_count": 2,
   "metadata": {},
   "outputs": [],
   "source": [
    "import whatsappweb_objects as wwo"
   ]
  },
  {
   "cell_type": "code",
   "execution_count": 4,
   "metadata": {},
   "outputs": [
    {
     "data": {
      "text/plain": [
       "'\\nbotao_envio = \\'[aria-label=\"Enviar\"]\\'\\nbotao_telefone_errado = \\'[aria-label=\\'O número de telefone compartilhado por url é inválido.\\']\\'\\nbotao_telefone_errado_continuar = \\'#app > div._aiwn._aiwm.app-wrapper-web.font-fix.os-win.x1h89ln0.xoeyzqq > span:nth-child(3) > div > span > div > div > div > div > div > div.x78zum5.x8hhl5t.x13a6bvl.x13crsa5.x1gabggj.x18d9i69.xaso8d8.xp4054r.xuxw1ft > div > div > div > div.html-div.xdj266r.x14z9mp.xat24cr.x1lziwak.xexx8yu.x18d9i69.x78zum5.xl56j7k.x1ejq31n.x18oe1m7.x1sy0etr.xstzfhl.x1so62im.x1syfmzz.x1ja2u2z.x1s928wv.x1j6awrg.x4eaejv.x1wsn0xg.x1r0yslu.x2q1x1w.xapdjt.xr6f91l.x5rv0tg.x1akc3lz.xikp0eg.x1xl5mkn.x1mfml39.x1l5mzlr.xgmdoj8.x1f1wgk5.x1x3ic1u.xfn3atn.x1pse0pq.x1yxkqql.x9f619.xt8t1vi.x1xc408v.x129tdwq.x15urzxu.x1vqgdyp.x4m7ku4.xyo0t3i.xb0esv5 > div > span\\'\\nsinal_de_mais = \\'[data-icon=\"plus-rounded\"]\\'\\ntriangulo_envio = \\'[data-icon=\"wds-ic-send-filled\"]\\'\\nfotos_e_videos = \\'//*[@id=\"app\"]/div[1]/span[6]/div/ul/div/div/div[2]/li/div/input\\'\\n'"
      ]
     },
     "execution_count": 4,
     "metadata": {},
     "output_type": "execute_result"
    }
   ],
   "source": [
    "# modificações 27-set-2025\n",
    "# definições de botoes e elementos clicaveis\n",
    "\"\"\"\n",
    "botao_envio = '[aria-label=\\\"Enviar\\\"]'\n",
    "botao_telefone_errado = '[aria-label=\\'O número de telefone compartilhado por url é inválido.\\']'\n",
    "botao_telefone_errado_continuar = '#app > div._aiwn._aiwm.app-wrapper-web.font-fix.os-win.x1h89ln0.xoeyzqq > span:nth-child(3) > div > span > div > div > div > div > div > div.x78zum5.x8hhl5t.x13a6bvl.x13crsa5.x1gabggj.x18d9i69.xaso8d8.xp4054r.xuxw1ft > div > div > div > div.html-div.xdj266r.x14z9mp.xat24cr.x1lziwak.xexx8yu.x18d9i69.x78zum5.xl56j7k.x1ejq31n.x18oe1m7.x1sy0etr.xstzfhl.x1so62im.x1syfmzz.x1ja2u2z.x1s928wv.x1j6awrg.x4eaejv.x1wsn0xg.x1r0yslu.x2q1x1w.xapdjt.xr6f91l.x5rv0tg.x1akc3lz.xikp0eg.x1xl5mkn.x1mfml39.x1l5mzlr.xgmdoj8.x1f1wgk5.x1x3ic1u.xfn3atn.x1pse0pq.x1yxkqql.x9f619.xt8t1vi.x1xc408v.x129tdwq.x15urzxu.x1vqgdyp.x4m7ku4.xyo0t3i.xb0esv5 > div > span'\n",
    "sinal_de_mais = '[data-icon=\\\"plus-rounded\\\"]'\n",
    "triangulo_envio = '[data-icon=\\\"wds-ic-send-filled\\\"]'\n",
    "fotos_e_videos = '//*[@id=\"app\"]/div[1]/span[6]/div/ul/div/div/div[2]/li/div/input'\n",
    "\"\"\""
   ]
  },
  {
   "cell_type": "markdown",
   "metadata": {},
   "source": [
    "Carregar arquivo de mensagens en dataframe"
   ]
  },
  {
   "cell_type": "code",
   "execution_count": 5,
   "metadata": {},
   "outputs": [],
   "source": [
    "arquivo_de_mensagens = fd.askopenfilename(\n",
    "    title='Selecione o arquivo Excel com a lista de destinatarios',\n",
    "    filetypes=[('Arquivo Excel','.xls'),('Arquivo Excel','.xlsx')]\n",
    "    )\n",
    "\n",
    "contacts_df = pd.read_excel(arquivo_de_mensagens, sheet_name='CLIENTES')"
   ]
  },
  {
   "cell_type": "markdown",
   "metadata": {},
   "source": [
    "Carregar lista de imagens"
   ]
  },
  {
   "cell_type": "code",
   "execution_count": 6,
   "metadata": {},
   "outputs": [],
   "source": [
    "# selecionar arquivos de imagen\n",
    "\n",
    "images_types = [\n",
    "        ('Arquivos de imagen','.jpg'),\n",
    "        ('Arquivos de imagen','.jpeg'),\n",
    "        ('Arquivos de imagen','.png'),\n",
    "        ('Arquivos de imagen','.gif'),\n",
    "        ]\n",
    " \n",
    "imgs_path = sorted(list(fd.askopenfilenames(title='Selecione as imagens a enviar',filetypes=images_types)))"
   ]
  },
  {
   "cell_type": "code",
   "execution_count": 7,
   "metadata": {},
   "outputs": [
    {
     "data": {
      "text/plain": [
       "['C:/Users/pablo/OneDrive/Documents/GitHub/SendWhatsAppMessages/Imagens de teste/TESTING IMAGE 1080 X 1080 png.png',\n",
       " 'C:/Users/pablo/OneDrive/Documents/GitHub/SendWhatsAppMessages/Imagens de teste/TESTING IMAGE 1920 X 1080 png.PNG']"
      ]
     },
     "execution_count": 7,
     "metadata": {},
     "output_type": "execute_result"
    }
   ],
   "source": [
    "imgs_path"
   ]
  },
  {
   "cell_type": "markdown",
   "metadata": {},
   "source": [
    "Limpar dataframe"
   ]
  },
  {
   "cell_type": "code",
   "execution_count": 8,
   "metadata": {},
   "outputs": [
    {
     "name": "stdout",
     "output_type": "stream",
     "text": [
      "Serão enviadas 6 mensagens\n"
     ]
    }
   ],
   "source": [
    "# 1. Eliminar linhas sem mensagens\n",
    "contacts_df = contacts_df[~contacts_df['MENSAGEM'].isnull()]\n",
    "\n",
    "# 2. Eliinar linhas sem telefones\n",
    "contacts_df = contacts_df[~contacts_df['TELEFONE'].isnull()]\n",
    "\n",
    "# 3. Reset index\n",
    "contacts_df.reset_index(inplace=True)\n",
    "\n",
    "# 4. Eliminar colunas desnecessarias\n",
    "contacts_df = contacts_df[['CLIENTE','TELEFONE','MENSAGEM']]\n",
    "\n",
    "# 5. Obter o total de linhas\n",
    "numero_de_mensagens = contacts_df['MENSAGEM'].count()\n",
    "\n",
    "print('Serão enviadas {} mensagens'.format(numero_de_mensagens))"
   ]
  },
  {
   "cell_type": "code",
   "execution_count": 9,
   "metadata": {},
   "outputs": [
    {
     "data": {
      "text/html": [
       "<div>\n",
       "<style scoped>\n",
       "    .dataframe tbody tr th:only-of-type {\n",
       "        vertical-align: middle;\n",
       "    }\n",
       "\n",
       "    .dataframe tbody tr th {\n",
       "        vertical-align: top;\n",
       "    }\n",
       "\n",
       "    .dataframe thead th {\n",
       "        text-align: right;\n",
       "    }\n",
       "</style>\n",
       "<table border=\"1\" class=\"dataframe\">\n",
       "  <thead>\n",
       "    <tr style=\"text-align: right;\">\n",
       "      <th></th>\n",
       "      <th>CLIENTE</th>\n",
       "      <th>TELEFONE</th>\n",
       "      <th>MENSAGEM</th>\n",
       "    </tr>\n",
       "  </thead>\n",
       "  <tbody>\n",
       "    <tr>\n",
       "      <th>0</th>\n",
       "      <td>Pablo 1</td>\n",
       "      <td>55(71) 99101-3035</td>\n",
       "      <td>Mensagem de teste para Pablo 1</td>\n",
       "    </tr>\n",
       "    <tr>\n",
       "      <th>1</th>\n",
       "      <td>Pablo 2 Wrong Number</td>\n",
       "      <td>54(11)2043430</td>\n",
       "      <td>Telefone errado</td>\n",
       "    </tr>\n",
       "    <tr>\n",
       "      <th>2</th>\n",
       "      <td>Pablo 3 Good Number</td>\n",
       "      <td>55(71) 9101-3035</td>\n",
       "      <td>Alem de fórmulas para deixar a mensagem person...</td>\n",
       "    </tr>\n",
       "    <tr>\n",
       "      <th>3</th>\n",
       "      <td>Pablo 4 Wrong Number</td>\n",
       "      <td>54(11)2043430</td>\n",
       "      <td>Telefone errado</td>\n",
       "    </tr>\n",
       "    <tr>\n",
       "      <th>4</th>\n",
       "      <td>Pablo 5 Mensagem Normal</td>\n",
       "      <td>55(71) 99101-3035</td>\n",
       "      <td>Mensagem de teste para Pablo 5 Mensagem Normal</td>\n",
       "    </tr>\n",
       "    <tr>\n",
       "      <th>5</th>\n",
       "      <td>Pablo 7</td>\n",
       "      <td>55(71) 9101-3035</td>\n",
       "      <td>Alem de fórmulas para deixar a mensagem person...</td>\n",
       "    </tr>\n",
       "  </tbody>\n",
       "</table>\n",
       "</div>"
      ],
      "text/plain": [
       "                   CLIENTE           TELEFONE  \\\n",
       "0                  Pablo 1  55(71) 99101-3035   \n",
       "1     Pablo 2 Wrong Number      54(11)2043430   \n",
       "2      Pablo 3 Good Number   55(71) 9101-3035   \n",
       "3     Pablo 4 Wrong Number      54(11)2043430   \n",
       "4  Pablo 5 Mensagem Normal  55(71) 99101-3035   \n",
       "5                  Pablo 7   55(71) 9101-3035   \n",
       "\n",
       "                                            MENSAGEM  \n",
       "0                     Mensagem de teste para Pablo 1  \n",
       "1                                    Telefone errado  \n",
       "2  Alem de fórmulas para deixar a mensagem person...  \n",
       "3                                    Telefone errado  \n",
       "4     Mensagem de teste para Pablo 5 Mensagem Normal  \n",
       "5  Alem de fórmulas para deixar a mensagem person...  "
      ]
     },
     "execution_count": 9,
     "metadata": {},
     "output_type": "execute_result"
    }
   ],
   "source": [
    "# visualizar dataframe\n",
    "contacts_df"
   ]
  },
  {
   "cell_type": "markdown",
   "metadata": {},
   "source": [
    "Abrir o Navegador"
   ]
  },
  {
   "cell_type": "code",
   "execution_count": 10,
   "metadata": {},
   "outputs": [],
   "source": [
    "# Criar uma instancia do Google Chrome\n",
    "msg_browser = webdriver.Chrome()"
   ]
  },
  {
   "cell_type": "markdown",
   "metadata": {},
   "source": [
    "Abrir o WhatsappWeb"
   ]
  },
  {
   "cell_type": "code",
   "execution_count": 11,
   "metadata": {},
   "outputs": [],
   "source": [
    "# Navegar até o WhatsApp Web\n",
    "msg_browser.get(\"https://web.whatsapp.com/\")\n",
    "time.sleep(2)"
   ]
  },
  {
   "cell_type": "markdown",
   "metadata": {},
   "source": [
    "Esperar conexão do celular"
   ]
  },
  {
   "cell_type": "code",
   "execution_count": 12,
   "metadata": {},
   "outputs": [],
   "source": [
    "# Esperar pela lista de contatos do WhatsApp por X segundos\n",
    "# Isto indica que podemos começar a enviar mensagens\n",
    "while len(msg_browser.find_elements(By.ID,\"side\")) < 1:\n",
    "    time.sleep(1)"
   ]
  },
  {
   "cell_type": "markdown",
   "metadata": {},
   "source": [
    "Iniciar Loop de envio de mensagens e imagens"
   ]
  },
  {
   "cell_type": "code",
   "execution_count": null,
   "metadata": {},
   "outputs": [
    {
     "name": "stdout",
     "output_type": "stream",
     "text": [
      "0 Pablo 1 55(71) 99101-3035\n",
      "1 Pablo 2 Wrong Number 54(11)2043430\n",
      "2 Pablo 3 Good Number 55(71) 9101-3035\n",
      "3 Pablo 4 Wrong Number 54(11)2043430\n",
      "4 Pablo 5 Mensagem Normal 55(71) 99101-3035\n",
      "5 Pablo 7 55(71) 9101-3035\n"
     ]
    }
   ],
   "source": [
    "for j, mensagem in enumerate(contacts_df['MENSAGEM']):\n",
    "    \n",
    "    cliente = contacts_df.loc[j,'CLIENTE']\n",
    "    telefone = contacts_df.loc[j,'TELEFONE']\n",
    "    print(j, cliente, telefone)\n",
    "\n",
    "    # Converter a mensagem de ASCII para texto plano para ser usada como URL\n",
    "    url_mensagem = urllib.parse.quote(f\"{mensagem}\")\n",
    "\n",
    "    # Construir o link\n",
    "    link = f\"https://web.whatsapp.com/send?phone={telefone}&text={url_mensagem}\"\n",
    "\n",
    "    # ir no link com a mensagem e o telefone\n",
    "    msg_browser.get(link)\n",
    "    time.sleep(3)\n",
    "\n",
    "    envio_disponivel = False\n",
    "    telefone_errado = False\n",
    "\n",
    "    # enquanto não aparecer o botão de envio\n",
    "    # ou a janela pop_up de telefone errado\n",
    "    # ficar neste loop\n",
    "    while (not(envio_disponivel) and not(telefone_errado)):\n",
    "        \n",
    "        # capturar se aparece o botão de envio\n",
    "        try:\n",
    "            # msg_browser.find_element(By.CSS_SELECTOR,botao_envio)\n",
    "            msg_browser.find_element(By.CSS_SELECTOR,wwo.objects['send_btn'])\n",
    "            envio_disponivel = True\n",
    "\n",
    "        except NoSuchElementException:\n",
    "            envio_disponivel = False\n",
    "        \n",
    "        \n",
    "        # capturar se aparece telefone errado\n",
    "        try:\n",
    "            # msg_browser.find_element(By.CSS_SELECTOR,botao_telefone_errado)\n",
    "            msg_browser.find_element(By.CSS_SELECTOR,wwo.objects['wrong_number_btn'])\n",
    "            telefone_errado = True\n",
    "        except NoSuchElementException:\n",
    "            telefone_errado = False\n",
    "        \n",
    "        \n",
    "        time.sleep(1)\n",
    "    \n",
    "    # uma vez que apareceu um deles\n",
    "    # tomar ação correspondente\n",
    "    # estas opções são em teoria mutuamente excludentes\n",
    "    if envio_disponivel:\n",
    "        # clicar no botão de envio\n",
    "        # msg_browser.find_element(By.CSS_SELECTOR,botao_envio).click()\n",
    "        msg_browser.find_element(By.CSS_SELECTOR,wwo.objects['send_btn']).click()\n",
    "        time.sleep(2)\n",
    "\n",
    "        # agora começar a enviar as imagens\n",
    "        for i, img_file in enumerate(imgs_path):\n",
    "            # buscar sinal de + (antigo clip)\n",
    "            \n",
    "            # msg_browser.find_element(By.CSS_SELECTOR,sinal_de_mais).click() \n",
    "            msg_browser.find_element(By.CSS_SELECTOR,wwo.objects['add_attachment_btn']).click()\n",
    "            time.sleep(1)\n",
    "\n",
    "            # abrir a janela para selecionar o arquivo e enviar as teclas\n",
    "            # msg_browser.find_element(By.XPATH,fotos_e_videos).send_keys(img_file)\n",
    "            msg_browser.find_element(By.XPATH,wwo.objects['pictures_and_videos_btn']).send_keys(img_file)\n",
    "            time.sleep(1)\n",
    "            # clicar no triangulo de enviar (es mejor que el Enter)\n",
    "            # msg_browser.find_element(By.CSS_SELECTOR,triangulo_envio).click()\n",
    "            msg_browser.find_element(By.CSS_SELECTOR,wwo.objects['send_attachment_btn']).click()\n",
    "            time.sleep(1)\n",
    "\n",
    "    if telefone_errado:\n",
    "        # clicar no botao de ok para continuar\n",
    "        # msg_browser.find_element(By.CSS_SELECTOR,botao_telefone_errado_continuar).click()\n",
    "        msg_browser.find_element(By.CSS_SELECTOR,wwo.objects['wrong_number_continue_btn']).click()\n",
    "        time.sleep(2)\n",
    "\n",
    "    # aguardar um pouco ate a proxima mensagem\n",
    "    time.sleep(random.randint(3,7))  "
   ]
  },
  {
   "cell_type": "markdown",
   "metadata": {},
   "source": [
    "Debug passo a passo"
   ]
  },
  {
   "cell_type": "code",
   "execution_count": null,
   "metadata": {},
   "outputs": [],
   "source": [
    "# pegar a linha j\n",
    "j = 2\n",
    "mensagem = contacts_df.loc[j,'MENSAGEM']\n",
    "cliente = contacts_df.loc[j,'CLIENTE']\n",
    "telefone = contacts_df.loc[j,'TELEFONE']\n",
    "print(j, mensagem, cliente, telefone)"
   ]
  },
  {
   "cell_type": "code",
   "execution_count": null,
   "metadata": {},
   "outputs": [],
   "source": [
    "# Converter a mensagem de ASCII para texto plano para ser usada como URL\n",
    "url_mensagem = urllib.parse.quote(f\"{mensagem}\")\n",
    "\n",
    "# Construir o link\n",
    "link = f\"https://web.whatsapp.com/send?phone={telefone}&text={url_mensagem}\""
   ]
  },
  {
   "cell_type": "code",
   "execution_count": null,
   "metadata": {},
   "outputs": [],
   "source": [
    "# ir no link com a mensagem e o telefone e esperar\n",
    "msg_browser.get(link)\n",
    "\n",
    "# TAL VEZ ESTA E A SOLUÇÃO\n",
    "# 06-OCT-2024\n",
    "# Esperar pela lista de contatos do WhatsApp por X segundos\n",
    "# Isto indica que podemos começar a enviar mensagens\n",
    "while len(msg_browser.find_elements(By.ID,\"side\")) < 1:\n",
    "    time.sleep(1)\n",
    "\n",
    "# COLOCAR ISTO NUMA FUNÇÃO PARA REUTILIZAR"
   ]
  },
  {
   "cell_type": "code",
   "execution_count": null,
   "metadata": {},
   "outputs": [],
   "source": [
    "\n",
    "# verificar se pode ser enviado ou se for um numero errado\n",
    "telefone_errado = False\n",
    "envio_disponivel = False\n",
    "\n",
    "while (not(telefone_errado) and not(envio_disponivel)):\n",
    "    # capturar se aparece o botão de envio\n",
    "    try:\n",
    "        time.sleep(1)\n",
    "        msg_browser.find_element(By.CSS_SELECTOR,botao_envio)\n",
    "        envio_disponivel = True\n",
    "        print(\"pegou envio disponivel\")\n",
    "        break   # SE JA SE QUE ENCONTREI O BOTAO DE ENVIO, NAO FAZ SENTIDO ESPERAR PELO TELEFONE ERRADO\n",
    "    except NoSuchElementException:\n",
    "        envio_disponivel = False\n",
    "        print(\"nao encontrou enviar\")\n",
    "    \n",
    "    # capturar telefone errado\n",
    "    try:\n",
    "        time.sleep(1)\n",
    "        msg_browser.find_element(By.CSS_SELECTOR,botao_telefone_errado)\n",
    "        telefone_errado = True\n",
    "        print(\"pegou telefone errado\")\n",
    "        break   # SE JA SEI QUE O TELEFONE ESTA ERRADO, NAO FAZ SENTIDO ESPERAR PELO ENVIO\n",
    "    except NoSuchElementException:\n",
    "        telefone_errado = False\n",
    "        print(\"nao e telefone errado\")\n",
    "    \n",
    "\n",
    "\n",
    "print(\"Telefone errado: \", telefone_errado)\n",
    "print(\"Envio disponivel: \", envio_disponivel)"
   ]
  },
  {
   "cell_type": "code",
   "execution_count": null,
   "metadata": {},
   "outputs": [],
   "source": [
    "# modificações 27-set-2025\n",
    "# se aparece botao de envio, clicar nele\n",
    "if envio_disponivel:\n",
    "    msg_browser.find_element(By.CSS_SELECTOR,botao_envio).click()\n",
    "# se aparece telefone errado, clicar nele\n",
    "if telefone_errado:\n",
    "    msg_browser.find_element(By.CSS_SELECTOR,botao_telefone_errado_continuar).click()\n",
    "time.sleep(2)"
   ]
  },
  {
   "cell_type": "code",
   "execution_count": null,
   "metadata": {},
   "outputs": [],
   "source": []
  },
  {
   "cell_type": "code",
   "execution_count": null,
   "metadata": {},
   "outputs": [],
   "source": [
    "img_file = imgs_path[1]"
   ]
  },
  {
   "cell_type": "code",
   "execution_count": null,
   "metadata": {},
   "outputs": [],
   "source": [
    "img_file"
   ]
  },
  {
   "cell_type": "code",
   "execution_count": null,
   "metadata": {},
   "outputs": [],
   "source": [
    "# click on add attachment (plus sign)\n",
    "msg_browser.find_element(By.CSS_SELECTOR,sinal_de_mais).click() "
   ]
  },
  {
   "cell_type": "code",
   "execution_count": null,
   "metadata": {},
   "outputs": [],
   "source": [
    "# clicar em \"fotos e videos\"\n",
    "# o xpath tem que ter a palavra \"input\"\n",
    "msg_browser.find_element(By.XPATH,fotos_e_videos).send_keys(img_file)"
   ]
  },
  {
   "cell_type": "code",
   "execution_count": null,
   "metadata": {},
   "outputs": [],
   "source": [
    "# clicar no triangulo de envio\n",
    "msg_browser.find_element(By.CSS_SELECTOR,triangulo_envio).click()"
   ]
  },
  {
   "cell_type": "code",
   "execution_count": null,
   "metadata": {},
   "outputs": [],
   "source": []
  },
  {
   "cell_type": "code",
   "execution_count": null,
   "metadata": {},
   "outputs": [],
   "source": []
  },
  {
   "cell_type": "code",
   "execution_count": null,
   "metadata": {},
   "outputs": [],
   "source": [
    "texto = \"Não recebeu a mensagem\"\n",
    "\n",
    "print(texto[:3] == \"Não\")"
   ]
  },
  {
   "cell_type": "code",
   "execution_count": null,
   "metadata": {},
   "outputs": [],
   "source": [
    "try:\n",
    "    # Code that might raise an exception\n",
    "    x = 1 / 0  # This will raise a ZeroDivisionError\n",
    "except Exception as e:\n",
    "    # Print the error\n",
    "    print(f\"An error occurred: {e}\")\n"
   ]
  },
  {
   "cell_type": "code",
   "execution_count": null,
   "metadata": {},
   "outputs": [],
   "source": [
    "import traceback\n",
    "import sys\n",
    "\n",
    "try:\n",
    "    x = 1 / 0  # This will raise an exception\n",
    "except Exception as e:\n",
    "    exc_type, exc_value, exc_traceback = sys.exc_info()\n",
    "    line_number = exc_traceback.tb_lineno  # Get the line number within the cell\n",
    "    print(f\"Error: {e}, occurred in cell at line {line_number}\")\n",
    "    traceback.print_exc()  # Print the full traceback\n"
   ]
  },
  {
   "cell_type": "code",
   "execution_count": null,
   "metadata": {},
   "outputs": [],
   "source": []
  },
  {
   "cell_type": "code",
   "execution_count": null,
   "metadata": {},
   "outputs": [],
   "source": [
    "from selenium.webdriver.support.ui import WebDriverWait\n",
    "from selenium.webdriver.support import expected_conditions as EC"
   ]
  },
  {
   "cell_type": "code",
   "execution_count": null,
   "metadata": {},
   "outputs": [],
   "source": [
    "wait = WebDriverWait(msg_browser,20)\n",
    "# element = WebDriverWait(msg_browser, 20).until(EC.presence_of_element_located((By.ID, \"submit\"))"
   ]
  },
  {
   "cell_type": "code",
   "execution_count": null,
   "metadata": {},
   "outputs": [],
   "source": [
    "mais = \"/html/body/div[1]/div/div/div[3]/div[4]/div/footer/div[1]/div/span/div/div[1]/div[2]/div/div/div/span\"\n",
    "\n",
    "element = WebDriverWait(msg_browser, 200).until(EC.presence_of_element_located((By.XPATH, mais)))\n",
    "\n",
    "element.click()\n"
   ]
  },
  {
   "cell_type": "code",
   "execution_count": null,
   "metadata": {},
   "outputs": [],
   "source": []
  }
 ],
 "metadata": {
  "kernelspec": {
   "display_name": "Python 3",
   "language": "python",
   "name": "python3"
  },
  "language_info": {
   "codemirror_mode": {
    "name": "ipython",
    "version": 3
   },
   "file_extension": ".py",
   "mimetype": "text/x-python",
   "name": "python",
   "nbconvert_exporter": "python",
   "pygments_lexer": "ipython3",
   "version": "3.13.7"
  }
 },
 "nbformat": 4,
 "nbformat_minor": 2
}
