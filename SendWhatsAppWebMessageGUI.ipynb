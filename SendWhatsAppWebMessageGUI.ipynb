{
 "cells": [
  {
   "cell_type": "markdown",
   "metadata": {},
   "source": [
    "# Send WhatsApp Web Messages From Excel With Images"
   ]
  },
  {
   "cell_type": "markdown",
   "metadata": {},
   "source": [
    "This program send messages via WhatsApp Web with images  \n",
    "The messages must be stored in an Excel file, and mus contain the following columns:  \n",
    "\n",
    "CLIENTE: Name of destinatary  \n",
    "TELEFONE: Phone of destinatary  \n",
    "MENSAGEM: Message to be sent  \n",
    "\n",
    "Other columns can be present such as name, address, etc, so, by using Excel text concatenation formulae, to send highly personalized messages, including special characters, icons, emoticons, links, etc.  \n",
    "\n",
    "With messages, the program send the images selected (jpg, png, or gif).  \n",
    "\n",
    "Notes:  \n",
    " - The program waits a random time betweeen messages to avoid WhatsApp to detect automation.  \n",
    " - The program displays a scrolling text, showing the historical of messages with sucess or fail.  \n",
    " - The program try to send the message and the images, if there is an error, jumps to the next one.  \n",
    " - At the end, the program saves an Excel file with same fields (Cliente, Telefone and Mensagem) and adds a column with sucess (and date of message) or fail.  \n"
   ]
  },
  {
   "cell_type": "markdown",
   "metadata": {},
   "source": [
    "Libraries"
   ]
  },
  {
   "cell_type": "code",
   "execution_count": 179,
   "metadata": {},
   "outputs": [],
   "source": [
    "# import libraries\n",
    "\n",
    "# Basic Tkinter\n",
    "import tkinter as tk\n",
    "from tkinter import filedialog as fd\n",
    "import tkinter.scrolledtext as st\n",
    "\n",
    "# PIL to show images on Tkinter\n",
    "from PIL import Image, ImageTk\n",
    "\n",
    "# Pandas\n",
    "import pandas as pd\n",
    "\n",
    "# Just to get image file name from full path\n",
    "from pathlib import Path\n",
    "\n",
    "# Time to allow program wait few seconds during Chrome operations\n",
    "import time\n",
    "\n",
    "# To allow randomic waiting times (important to avoid Whatsapp account blocking)\n",
    "import random\n",
    "\n",
    "# Datetime to store current date of messages sent\n",
    "from datetime import date\n",
    "\n",
    "# necessary libraries for Chrome operations:\n",
    "from selenium import webdriver\n",
    "from selenium.webdriver.common.by import By\n",
    "from selenium.webdriver.support.ui import WebDriverWait\n",
    "from selenium.webdriver.support import expected_conditions\n",
    "from selenium.webdriver.common.keys import Keys\n",
    "\n",
    "\n",
    "# pip install webdriver_manager\n",
    "# This librari updates automatically the Browser Manger (in this case, Chrome)\n",
    "from webdriver_manager.chrome import ChromeDriverManager\n",
    "\n",
    "# Necessary to convert messages from ASCII text into URL aceptable addresses (convert special characters, spaces, etc)\n",
    "import urllib\n"
   ]
  },
  {
   "cell_type": "code",
   "execution_count": 180,
   "metadata": {},
   "outputs": [],
   "source": [
    "# global variables\n",
    "\n",
    "# list of images to send\n",
    "imgs_path = []\n",
    "\n",
    "# current image on viewer\n",
    "i = 0\n",
    "\n",
    "# stop sending messages\n",
    "stop_sending_messages = False\n"
   ]
  },
  {
   "cell_type": "markdown",
   "metadata": {},
   "source": [
    "Functions"
   ]
  },
  {
   "cell_type": "markdown",
   "metadata": {},
   "source": [
    "https://stackoverflow.com/questions/74214619/how-to-use-tkinter-after-method-to-delay-a-loop-instead-time-sleep/74215342?noredirect=1#comment131053675_74215342"
   ]
  },
  {
   "cell_type": "code",
   "execution_count": 181,
   "metadata": {},
   "outputs": [],
   "source": [
    "def tksleep(t):\n",
    "    # Function to delay process for t seconds\n",
    "    # emulating time.sleep(seconds)\n",
    "    # Thanks to link above\n",
    "    ms = int(t*1000)\n",
    "    root = tk._get_default_root()\n",
    "    var = tk.IntVar(root)\n",
    "    root.after(ms, lambda: var.set(1))\n",
    "    root.wait_variable(var)"
   ]
  },
  {
   "cell_type": "code",
   "execution_count": 182,
   "metadata": {},
   "outputs": [],
   "source": [
    "def show_imgs():\n",
    "    # Event Function to show the i image from list\n",
    "    \n",
    "    global tkphoto \n",
    "    # Canvas Size\n",
    "    can_h = 400\n",
    "    can_w = 400\n",
    "      \n",
    "    # Get the element i from list\n",
    "    photo = Image.open(imgs_path[i])\n",
    "    \n",
    "    # Get the picture size (widht, height)\n",
    "    pic_w, pic_h = photo.size\n",
    "\n",
    "    # Calculate aspect image ratio\n",
    "    aspect = pic_w/pic_h\n",
    "\n",
    "    # if picture is wider than taller, the resizing limit will be the picture widht, limited to canvas width\n",
    "    if aspect > 1:\n",
    "        res_w = can_w\n",
    "        res_h = can_w / aspect\n",
    "    \n",
    "    # else, the resizing limit will be the picture height, limited to canvas height\n",
    "    else:\n",
    "        res_h = can_h\n",
    "        res_w = can_h * aspect\n",
    "    \n",
    "\n",
    "    # resize picture\n",
    "    photo = photo.resize((int(res_w),int(res_h)))\n",
    "\n",
    "    # create the Tkinter picture image object\n",
    "    tkphoto = ImageTk.PhotoImage(photo) \n",
    "\n",
    "    # put the picture into the label\n",
    "    lbl_photo = tk.Label(image=tkphoto,width=can_w,height=can_h,borderwidth=2,relief='solid')\n",
    "    lbl_photo.grid(row=1,column=4,rowspan=4, padx=10,pady=10)\n",
    "    \n",
    "    # mostrar numero da imagem e o nome\n",
    "    show_name()\n",
    "    \n",
    "    return()"
   ]
  },
  {
   "cell_type": "code",
   "execution_count": 183,
   "metadata": {},
   "outputs": [],
   "source": [
    "def show_name():\n",
    "    # Function to show current image number, total number of selected images and current image name (without path)\n",
    "    # Path.name method extracts the name from a full \n",
    "    img_name = '{} de {}: {}'.format(i+1,len(imgs_path),Path(imgs_path[i]).name)\n",
    "    lbl_imgname = tk.Label(text=img_name,font=('Consolas 10'))\n",
    "    lbl_imgname.grid(row=5, column=3,columnspan=3,sticky='NSEW',padx=10,pady=10)\n",
    "    return()\n",
    "    "
   ]
  },
  {
   "cell_type": "code",
   "execution_count": 184,
   "metadata": {},
   "outputs": [],
   "source": [
    "def go_rgt():\n",
    "    # Event function to select next (right) image\n",
    "    global i\n",
    "    if i < len(imgs_path)-1:\n",
    "        i = i + 1\n",
    "    else:\n",
    "        i = 0\n",
    "    \n",
    "    # Call function to show image number i\n",
    "    show_imgs()\n",
    "\n",
    "    return()"
   ]
  },
  {
   "cell_type": "code",
   "execution_count": 185,
   "metadata": {},
   "outputs": [],
   "source": [
    "def go_lft():\n",
    "    # Event function to select previous (left) image\n",
    "    global i\n",
    "    if i > 0:\n",
    "        i = i - 1\n",
    "    else:\n",
    "        i = len(imgs_path)-1\n",
    "    \n",
    "    # Call function to show image number i\n",
    "    show_imgs()\n",
    "    \n",
    "    return()"
   ]
  },
  {
   "cell_type": "code",
   "execution_count": 186,
   "metadata": {},
   "outputs": [],
   "source": [
    "def sel_imgs():\n",
    "    # Event function to select image files\n",
    "        \n",
    "    # imgs_path is a global list\n",
    "    global imgs_path\n",
    "\n",
    "    # i is the number of the image to show\n",
    "    global i\n",
    "\n",
    "    images_types = [\n",
    "            ('Arquivos de imagen','.jpg'),\n",
    "            ('Arquivos de imagen','.jpeg'),\n",
    "            ('Arquivos de imagen','.png'),\n",
    "            ('Arquivos de imagen','.gif'),\n",
    "            ]\n",
    "\n",
    "    # Select images\n",
    "    imgs_path = sorted(list(fd.askopenfilenames(title='Selecione as imagens a enviar',filetypes=images_types)))\n",
    "    \n",
    "    # Define show previous image button\n",
    "    btn_lft = tk.Button(text='<',font=('Consolas 20 bold'),wraplength=100,borderwidth=1,command=go_lft)\n",
    "    btn_lft.grid(row=1,column=3,rowspan=4,sticky='NSEW',padx=10,pady=10)\n",
    "\n",
    "    # Define show next image button\n",
    "    btn_rgt = tk.Button(text='>',font=('Consolas 20 bold'),wraplength=100,borderwidth=1,command=go_rgt)\n",
    "    btn_rgt.grid(row=1,column=5,rowspan=4,sticky='NSEW',padx=10,pady=10)\n",
    "        \n",
    "    # Call function to show first image of selected list\n",
    "    i = 0\n",
    "    show_imgs()\n",
    "\n",
    "    return()"
   ]
  },
  {
   "cell_type": "code",
   "execution_count": 187,
   "metadata": {},
   "outputs": [],
   "source": [
    "def sel_file():\n",
    "    # Event function to select Excel file\n",
    "    \n",
    "    # contacts_df is the global dataframe with destinataries names, numbers and messages\n",
    "    global contacts_df\n",
    "\n",
    "    # file_path is where file is stored\n",
    "    global file_path\n",
    "\n",
    "    file_path = fd.askopenfilename(\n",
    "        title='Selecione o arquivo Excel com a lista de destinatarios',\n",
    "        filetypes=[('Arquivo Excel','.xls'),('Arquivo Excel','.xlsx')]\n",
    "        )\n",
    "    \n",
    "    # Read Excel file\n",
    "    contacts_df = pd.read_excel(file_path, sheet_name='CLIENTES')\n",
    "\n",
    "    # Remove rows with empty messages (this improves process ahead)\n",
    "    contacts_df = contacts_df[~contacts_df['MENSAGEM'].isnull()]\n",
    "\n",
    "    # Reset index\n",
    "    contacts_df.reset_index(inplace=True)\n",
    "\n",
    "    # Keep just the necessary columns\n",
    "    contacts_df = contacts_df[['CLIENTE','TELEFONE','MENSAGEM']]\n",
    "    \n",
    "    # update informations about number of messages to be sent and\n",
    "    # inform to click button to start process\n",
    "    lbl_slctdfile['text'] = 'Serão enviadas {} mensagens.\\n Clique em \"Enviar Mensagens\" para iniciar'.format(contacts_df['MENSAGEM'].count())\n",
    "    \n",
    "    return()"
   ]
  },
  {
   "cell_type": "markdown",
   "metadata": {},
   "source": [
    "Main Process"
   ]
  },
  {
   "cell_type": "code",
   "execution_count": 188,
   "metadata": {},
   "outputs": [],
   "source": [
    "def wait_wpp_contacts(timetowaith):\n",
    "    # Function to wait for WhatsApp contacts side bar for x seconds\n",
    "    # this indicates that the message text input area is ready to receive messages\n",
    "    while len(msg_browser.find_elements(By.ID,\"side\")) < 1:\n",
    "        tksleep(timetowaith)\n",
    "    return()\n",
    "    "
   ]
  },
  {
   "cell_type": "code",
   "execution_count": 189,
   "metadata": {},
   "outputs": [],
   "source": [
    "def stop_sending():\n",
    "    # Function to stop process\n",
    "    btn_send.configure(text='')\n",
    "    global stop_sending_messages\n",
    "    stop_sending_messages = True\n",
    "    return()"
   ]
  },
  {
   "cell_type": "code",
   "execution_count": 190,
   "metadata": {},
   "outputs": [],
   "source": [
    "def send_messages():\n",
    "    # Send messages process\n",
    "    # basically, this is a Selenium webscripting process, capturing elements from WhatsApp Web\n",
    "    \n",
    "    global msg_browser\n",
    "\n",
    "    # change button label to Stop and activate stop sending function\n",
    "    btn_send.configure(text='Stop Process',command=stop_sending)\n",
    "    \n",
    "    # Count total number of messages to send\n",
    "    msg_total = contacts_df['MENSAGEM'].count()\n",
    "\n",
    "    # Create intance of Google Chorme browsed\n",
    "    msg_browser = webdriver.Chrome(ChromeDriverManager().install())\n",
    "    \n",
    "    # Navigate to WhatsApp Web\n",
    "    msg_browser.get(\"https://web.whatsapp.com/\")\n",
    "    # time.sleep(5)\n",
    "    tksleep(5)\n",
    "\n",
    "    # Link will open the QR Code authorization\n",
    "    # Wait until user authorization with cell phone\n",
    "    \n",
    "    # Wait to load WhatsApp contacts side bar\n",
    "    # this indicates it is possible to send messages\n",
    "    wait_wpp_contacts(2)\n",
    "\n",
    "    for j, message in enumerate(contacts_df['MENSAGEM']):\n",
    "\n",
    "        # if stop button was pressed, exit loop\n",
    "        if stop_sending_messages:\n",
    "            break\n",
    "\n",
    "        # this version considers all messages are not null\n",
    "        # dataframe already cleaned up on opening file function\n",
    "\n",
    "        # Get customer name and number\n",
    "        name = contacts_df.loc[j,\"CLIENTE\"]\n",
    "        phone = contacts_df.loc[j, \"TELEFONE\"]\n",
    "        \n",
    "        # Update status label\n",
    "        lbl_sending['text'] = 'Enviando mensagem {} de {}\\nPara {} no telefone {}'.format(j+1,msg_total,name,phone)\n",
    "        mainwindow.update()\n",
    "\n",
    "        # Convert message from ASCII into URL plain text\n",
    "        url_message = urllib.parse.quote(f\"{message}\")\n",
    "\n",
    "        # build the link\n",
    "        link = f\"https://web.whatsapp.com/send?phone={phone}&text={url_message}\"\n",
    "\n",
    "        # Try to open link; if phone is wrong, it will generate and error, and pass to next\n",
    "        try:\n",
    "            # Get link\n",
    "            msg_browser.get(link)\n",
    "\n",
    "            # Wait to load WhatsApp contacts side bar\n",
    "            # this indicates it is possible to send messages\n",
    "            wait_wpp_contacts(2)\n",
    "                \n",
    "            # Send ENTER\n",
    "            msg_browser.find_element(By.XPATH,'//*[@id=\"main\"]/footer/div[1]/div/span[2]/div/div[2]/div[1]/div/div/p/span').send_keys(Keys.ENTER)\n",
    "            \n",
    "            # time.sleep(3)\n",
    "            tksleep(3)\n",
    "            # Wait to load WhatsApp contacts side bar\n",
    "            # this indicates it is possible to send messages\n",
    "            # wait_wpp_contacts(1)\n",
    "            \n",
    "            # For each image in images list\n",
    "            for img_file in imgs_path:\n",
    "        \n",
    "                # Find attachment button (paperclip) and click on it\n",
    "                msg_browser.find_element(By.CSS_SELECTOR,\"span[data-icon='clip']\").click()\n",
    "                # time.sleep(3)\n",
    "                tksleep(3)\n",
    "\n",
    "                # Select to find element and send all keys the img_file as keystrokes\n",
    "                msg_browser.find_element(By.CSS_SELECTOR,\"input[type='file']\").send_keys(img_file)\n",
    "                # time.sleep(6)\n",
    "                tksleep(6)\n",
    "\n",
    "                # Click on send attachment (littel triangle)\n",
    "                msg_browser.find_element(By.CSS_SELECTOR,\"span[data-icon='send']\").click()\n",
    "                # time.sleep(3)\n",
    "                tksleep(3)\n",
    "            \n",
    "            # Write on scrolling text box the result of current message sending process\n",
    "            txt_result = 'Recebeu a mensagem em {}'.format(date.today())\n",
    "                            \n",
    "        except:\n",
    "            # Write on scrolling text box the result of current message sending process\n",
    "            txt_result = 'NÃO recebeu a mensagem'\n",
    "\n",
    "        # Print on terminal\n",
    "        print('{}:{}: {}'.format(j+1,name,txt_result))\n",
    "            \n",
    "        # add to result to data frame\n",
    "        contacts_df.loc[j,'RESULTADO'] = txt_result\n",
    "\n",
    "        # Write on scrolling text box the result of current message sending process\n",
    "        txt_sent.insert(tk.INSERT,'{}: {} {}\\n'.format(j+1,name,txt_result))\n",
    "        \n",
    "        # Point to last line in scrolling text\n",
    "        txt_sent.see(tk.END)\n",
    "\n",
    "        # Wait a random time before send next.\n",
    "        # this is important to avoid WhatsApp to cancel the account due to automation\n",
    "        tksleep(random.randint(5,10))\n",
    "    \n",
    "    # Sending Loop ends here\n",
    "\n",
    "    lbl_slctdfile['text'] = 'Processo Finalizado'\n",
    "    lbl_sending['text'] = ''\n",
    "\n",
    "    # save results dataframe\n",
    "    result_file = '{}\\Resultado Envios {}.xlsx'.format(Path(file_path).parent,date.today())\n",
    "    contacts_df.to_excel(result_file,index=False)\n",
    "    \n",
    "    return()"
   ]
  },
  {
   "cell_type": "markdown",
   "metadata": {},
   "source": [
    "Main Window Design"
   ]
  },
  {
   "cell_type": "code",
   "execution_count": 191,
   "metadata": {},
   "outputs": [],
   "source": [
    "# Create application window\n",
    "mainwindow = tk.Tk()"
   ]
  },
  {
   "cell_type": "code",
   "execution_count": 193,
   "metadata": {},
   "outputs": [
    {
     "data": {
      "text/plain": [
       "''"
      ]
     },
     "execution_count": 193,
     "metadata": {},
     "output_type": "execute_result"
    }
   ],
   "source": [
    "# Main window title\n",
    "mainwindow.title(\"Send messages via WhatsApp\")"
   ]
  },
  {
   "cell_type": "code",
   "execution_count": 194,
   "metadata": {},
   "outputs": [],
   "source": [
    "# Main window label title\n",
    "lbl_title = tk.Label(text=\"Sent messages via WhatsApp\",font=('Consolas 15 bold underline'),borderwidth=1, relief='solid')\n",
    "lbl_title.grid(row=0, column=0,columnspan=3,sticky='NSEW',padx=10,pady=10)"
   ]
  },
  {
   "cell_type": "code",
   "execution_count": 195,
   "metadata": {},
   "outputs": [],
   "source": [
    "# Explaining label\n",
    "lbl_desc = tk.Label(text=\n",
    "    \"\"\"This program sent messages through WhatsApp Web,\n",
    "    together with images, from a list in Excel format.\n",
    "    The list must contain the following fields or columns:\n",
    "    Nome, Telefone and Mensagens, in a sheet Clientes\n",
    "    Each message can be personalized. At the end. stores the\n",
    "    results in another Excel file\"\"\"\n",
    "    ,font=('Consolas 10'),wraplength=300,borderwidth=1, relief='solid')\n",
    "lbl_desc.grid(row=1, column=0, columnspan=3,sticky='NSEW',padx=10,pady=10) "
   ]
  },
  {
   "cell_type": "code",
   "execution_count": 196,
   "metadata": {},
   "outputs": [],
   "source": [
    "# Excel file selection label\n",
    "lbl_file = tk.Label(text='Select Excel file with customers, phones and messages:',font=('Consolas 12'),anchor='e')\n",
    "lbl_file.grid(row=3,column=0,columnspan=2,sticky='NSEW',padx=10,pady=10)"
   ]
  },
  {
   "cell_type": "code",
   "execution_count": 197,
   "metadata": {},
   "outputs": [],
   "source": [
    "# Excel file selecion button\n",
    "btn_file = tk.Button(text='Click here to select the file',font=('Consolas 10 bold'),wraplength=100,borderwidth=1,command=sel_file)\n",
    "btn_file.grid(row=3,column=2,sticky='NSEW',padx=10,pady=10)"
   ]
  },
  {
   "cell_type": "code",
   "execution_count": 198,
   "metadata": {},
   "outputs": [],
   "source": [
    "# Label with selected Excel file (none at begining, then will show number of message to send)\n",
    "lbl_slctdfile = tk.Label(text='No file selected',wraplength=500,font=('Consolas 12'),anchor='center')\n",
    "lbl_slctdfile.grid(row=4,column=0,columnspan=3,sticky='NSEW',padx=10,pady=10)"
   ]
  },
  {
   "cell_type": "code",
   "execution_count": 199,
   "metadata": {},
   "outputs": [],
   "source": [
    "# Image selection label\n",
    "lbl_imgs = tk.Label(text='Select images to send:',font=('Consolas 12'),anchor='e')\n",
    "lbl_imgs.grid(row=2,column=0,columnspan=2,sticky='NSEW',padx=10,pady=10)"
   ]
  },
  {
   "cell_type": "code",
   "execution_count": 200,
   "metadata": {},
   "outputs": [],
   "source": [
    "# Image selection button\n",
    "btn_imgs = tk.Button(text='Click here to select images',font=('Consolas 10 bold'),wraplength=100,borderwidth=1,command=sel_imgs)\n",
    "btn_imgs.grid(row=2,column=2,sticky='NSEW',padx=10,pady=10)"
   ]
  },
  {
   "cell_type": "code",
   "execution_count": 201,
   "metadata": {},
   "outputs": [],
   "source": [
    "# Main process start button\n",
    "btn_send = tk.Button(text='Send messages',font=('Consolas 10 bold'),command=send_messages)\n",
    "btn_send.grid(row=5,column=0,columnspan=3,sticky='NSEW',padx=10,pady=10)"
   ]
  },
  {
   "cell_type": "code",
   "execution_count": 202,
   "metadata": {},
   "outputs": [],
   "source": [
    "# Current message information status (who, number, total messages)\n",
    "lbl_sending = tk.Label(text='',wraplength=500,font=('Consolas 12'),anchor='center')\n",
    "lbl_sending.grid(row=6,column=0,columnspan=3,sticky='NSEW',padx=10,pady=10)"
   ]
  },
  {
   "cell_type": "code",
   "execution_count": 203,
   "metadata": {},
   "outputs": [],
   "source": [
    "# Scrolling text to show list of sent messages with success or fail\n",
    "txt_sent = st.ScrolledText(mainwindow,width = 30, \n",
    "                            height = 8, \n",
    "                            font = ('Consolas 10'))\n",
    "txt_sent.grid(row=7,column = 0, columnspan=3,sticky='NSEW', pady = 10, padx = 10)\n",
    "\n",
    "txt_sent.insert(tk.INSERT,'')\n",
    "# investigate how to make this read only\n"
   ]
  },
  {
   "cell_type": "code",
   "execution_count": 204,
   "metadata": {},
   "outputs": [
    {
     "data": {
      "text/plain": [
       "''"
      ]
     },
     "execution_count": 204,
     "metadata": {},
     "output_type": "execute_result"
    }
   ],
   "source": [
    "# define main window icon\n",
    "mainwindow.iconbitmap(r'icon\\whatsapp.ico')"
   ]
  },
  {
   "cell_type": "code",
   "execution_count": 205,
   "metadata": {},
   "outputs": [
    {
     "name": "stderr",
     "output_type": "stream",
     "text": [
      "\n",
      "\n",
      "====== WebDriver manager ======\n",
      "Current google-chrome version is 106.0.5249\n",
      "Get LATEST chromedriver version for 106.0.5249 google-chrome\n",
      "Driver [C:\\Users\\pgetar\\.wdm\\drivers\\chromedriver\\win32\\106.0.5249.61\\chromedriver.exe] found in cache\n",
      "C:\\Users\\pgetar\\AppData\\Local\\Temp/ipykernel_15396/2341606972.py:14: DeprecationWarning: executable_path has been deprecated, please pass in a Service object\n",
      "  msg_browser = webdriver.Chrome(ChromeDriverManager().install())\n"
     ]
    },
    {
     "name": "stdout",
     "output_type": "stream",
     "text": [
      "1:Pablo: recebeu a mensagem\n",
      "2:Pedro with valid message: recebeu a mensagem\n",
      "3:Pedro Wrong Number: NÃO recebeu a mensagem\n",
      "4:José valid message: recebeu a mensagem\n"
     ]
    }
   ],
   "source": [
    "# Main window\n",
    "mainwindow.mainloop()"
   ]
  },
  {
   "cell_type": "code",
   "execution_count": null,
   "metadata": {},
   "outputs": [],
   "source": []
  }
 ],
 "metadata": {
  "kernelspec": {
   "display_name": "Python 3 (ipykernel)",
   "language": "python",
   "name": "python3"
  },
  "language_info": {
   "codemirror_mode": {
    "name": "ipython",
    "version": 3
   },
   "file_extension": ".py",
   "mimetype": "text/x-python",
   "name": "python",
   "nbconvert_exporter": "python",
   "pygments_lexer": "ipython3",
   "version": "3.9.7"
  },
  "vscode": {
   "interpreter": {
    "hash": "25bb5942a58f981780efc8129914c41725ee639f796a0c6522abb294f50baf65"
   }
  }
 },
 "nbformat": 4,
 "nbformat_minor": 2
}
