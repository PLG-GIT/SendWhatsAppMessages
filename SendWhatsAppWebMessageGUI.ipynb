{
 "cells": [
  {
   "cell_type": "markdown",
   "metadata": {},
   "source": [
    "# Envio de mensagens via WhatsApp Web"
   ]
  },
  {
   "cell_type": "markdown",
   "metadata": {},
   "source": [
    "Passos:\n",
    "1) Criar a janela\n",
    "2) Botão para selecionar arquivo de clientes\n",
    "3) Label para mostrar caminho do arquivo de clientes\n",
    "4) Label para mostrar quantidade total de mensagens a serem enviadas (contar quantos telefones E mensagens não vazias existem)\n",
    "5) Botão para selecionar imagens\n",
    "6) Label para mostrar caminho das imagens (apenas um unico string com todas as imagens da lista concatenadas)\n",
    "7) Botão para iniciar processo de envio\n",
    "8) Processo:  \n",
    "    8.1) Apenas imprimir as mensagens  \n",
    "    8.2) Label com dados atualizados na janela:  \n",
    "        numero de enviados / numero total  \n",
    "        percentual enviado "
   ]
  },
  {
   "cell_type": "markdown",
   "metadata": {},
   "source": [
    "Bibliotecas"
   ]
  },
  {
   "cell_type": "code",
   "execution_count": 47,
   "metadata": {},
   "outputs": [],
   "source": [
    "# importar as bibliotecas\n",
    "import tkinter as tk\n",
    "from tkinter import filedialog as fd\n",
    "from PIL import Image, ImageTk\n",
    "import pandas as pd\n",
    "from pathlib import Path\n",
    "# importar biblioteca time para criar tempos de espera\n",
    "import time\n",
    "\n",
    "import tkinter.scrolledtext as st\n"
   ]
  },
  {
   "cell_type": "code",
   "execution_count": 48,
   "metadata": {},
   "outputs": [],
   "source": [
    "# global variables\n",
    "imgs_path = []\n",
    "i = 0\n",
    "j = 0"
   ]
  },
  {
   "cell_type": "markdown",
   "metadata": {},
   "source": [
    "Funções"
   ]
  },
  {
   "cell_type": "code",
   "execution_count": 49,
   "metadata": {},
   "outputs": [],
   "source": [
    "def show_imgs():\n",
    "    \n",
    "    # função evento mostrar imagem de indice i da lista\n",
    "    \n",
    "    global tkfoto\n",
    "\n",
    "    # parametros canvas\n",
    "    can_h = 400\n",
    "    can_w = 400\n",
    "    \n",
    "    # esta demorando muito aqui, a solução de usar uma variavel global nao e interessante\n",
    "    # https://blog.furas.pl/python-tkinter-why-label-doesnt-display-image-bug-with-garbage-collector-in-photoimage-GB.html\n",
    "    # https://www.c-sharpcorner.com/blogs/basics-for-displaying-image-in-tkinter-python\n",
    "    \n",
    "    # obter o elemento i da lista\n",
    "    foto = Image.open(imgs_path[i])\n",
    "    \n",
    "    # obter a tupla com o tamanho\n",
    "    pic_w, pic_h = foto.size\n",
    "\n",
    "    # calcular o ratio da imagem (aspecto)\n",
    "    aspecto = pic_w/pic_h\n",
    "\n",
    "    # se a imagem é mais larga que alta, a largura limitante sera a maxima do canvas\n",
    "    if aspecto > 1:\n",
    "        res_w = can_w\n",
    "        res_h = can_w / aspecto\n",
    "    \n",
    "    # caso contrario, a altura limitante sera a maxima do canvas\n",
    "    else:\n",
    "        res_h = can_h\n",
    "        res_w = can_h * aspecto\n",
    "    \n",
    "\n",
    "    # reduzir o tamanho\n",
    "    foto = foto.resize((int(res_w),int(res_h)))\n",
    "\n",
    "    # criar o objeto\n",
    "    tkfoto = ImageTk.PhotoImage(foto)\n",
    "\n",
    "    # Label para colocar a imagem\n",
    "    lbl_foto = tk.Label(image=tkfoto,width=can_w,height=can_h,borderwidth=2,relief='solid')\n",
    "    lbl_foto.grid(row=1,column=4,rowspan=4, padx=10,pady=10)\n",
    "    \n",
    "    # mostrar numero da imagem e o nome\n",
    "    show_name()\n",
    "    \n",
    "    return()"
   ]
  },
  {
   "cell_type": "code",
   "execution_count": 50,
   "metadata": {},
   "outputs": [],
   "source": [
    "def show_name():\n",
    "    # função para mostrar numero de imagem, total de imagens e nome (sem o caminho)\n",
    "    # .name extrai o nome do arquivo de um caminho completo\n",
    "    img_name = '{} de {}: {}'.format(i+1,len(imgs_path),Path(imgs_path[i]).name)\n",
    "    lbl_imgname = tk.Label(text=img_name,font=('Consolas 10'))\n",
    "    lbl_imgname.grid(row=5, column=3,columnspan=3,sticky='NSEW',padx=10,pady=10)\n",
    "    return()\n",
    "    "
   ]
  },
  {
   "cell_type": "code",
   "execution_count": 51,
   "metadata": {},
   "outputs": [],
   "source": [
    "def go_rgt():\n",
    "    # função evento botão para selecionar imagem seguinte (direita)\n",
    "    global i\n",
    "    if i < len(imgs_path)-1:\n",
    "        i = i + 1\n",
    "    else:\n",
    "        i = 0\n",
    "    \n",
    "    # chamar função para mostrar imagem\n",
    "    show_imgs()\n",
    "\n",
    "    return()"
   ]
  },
  {
   "cell_type": "code",
   "execution_count": 52,
   "metadata": {},
   "outputs": [],
   "source": [
    "def go_lft():\n",
    "    # função evento botão para selecionar imagem anterior (esquerda)\n",
    "    global i\n",
    "    if i > 0:\n",
    "        i = i - 1\n",
    "    else:\n",
    "        i = len(imgs_path)-1\n",
    "    \n",
    "    # chamar função para mostrar imagem\n",
    "    show_imgs()\n",
    "    \n",
    "    return()"
   ]
  },
  {
   "cell_type": "code",
   "execution_count": 53,
   "metadata": {},
   "outputs": [],
   "source": [
    "def sel_imgs():\n",
    "    # função evento selecionar lista de imagens\n",
    "        \n",
    "    global imgs_path\n",
    "    global i\n",
    "        \n",
    "    # selecionar imagens\n",
    "    imgs_path = fd.askopenfilenames(\n",
    "        title='Selecione as imagens a enviar',\n",
    "        filetypes=[\n",
    "            ('Arquivos de imagen','.jpg'),\n",
    "            ('Arquivos de imagen','.jpeg'),\n",
    "            ('Arquivos de imagen','.png'),\n",
    "            ('Arquivos de imagen','.gif'),]\n",
    "    )\n",
    "    \n",
    "    # Botão para esquerda\n",
    "    btn_lft = tk.Button(text='<',font=('Consolas 20 bold'),wraplength=100,borderwidth=1,command=go_lft)\n",
    "    btn_lft.grid(row=1,column=3,rowspan=4,sticky='NSEW',padx=10,pady=10)\n",
    "\n",
    "    # Botão para direita\n",
    "    btn_rgt = tk.Button(text='>',font=('Consolas 20 bold'),wraplength=100,borderwidth=1,command=go_rgt)\n",
    "    btn_rgt.grid(row=1,column=5,rowspan=4,sticky='NSEW',padx=10,pady=10)\n",
    "        \n",
    "    # aqui chamar a função para mostrar a primeira imagem\n",
    "    i = 0\n",
    "    show_imgs()\n",
    "\n",
    "    return()"
   ]
  },
  {
   "cell_type": "code",
   "execution_count": 54,
   "metadata": {},
   "outputs": [],
   "source": [
    "def sel_file():\n",
    "    \n",
    "    # função evento selecionar o arquivo de clientes\n",
    "    \n",
    "    global contatos_df\n",
    "\n",
    "    file_path = fd.askopenfilename(\n",
    "        title='Selecione o arquivo Excel com a lista de destinatarios',\n",
    "        filetypes=[\n",
    "            ('Arquivo Excel','.xls'),\n",
    "            ('Arquivo Excel','.xlsx')]\n",
    "        )\n",
    "    \n",
    "    # ler arquivo Excel, precisa tres colunas\n",
    "    contatos_df = pd.read_excel(file_path, sheet_name='CLIENTES')\n",
    "\n",
    "    # remover registros com mensagens nulas\n",
    "    contatos_df = contatos_df[~contatos_df['MENSAGEM'].isnull()]\n",
    "\n",
    "    # resetar o indice\n",
    "    contatos_df.reset_index(inplace=True)\n",
    "\n",
    "    # eliminar nova coluna de indice criada\n",
    "    contatos_df.drop(labels='index',axis=1,inplace=True)\n",
    "\n",
    "    \n",
    "    lbl_slctdfile['text'] = 'Serão enviadas {} mensagens.\\n Clique em \"Enviar Mensagens\" para iniciar'.format(contatos_df['MENSAGEM'].count())\n",
    "    \n",
    "    return()"
   ]
  },
  {
   "cell_type": "code",
   "execution_count": 55,
   "metadata": {},
   "outputs": [],
   "source": [
    "def enviar_mensagens():\n",
    "    lista_enviados = ''\n",
    "    \n",
    "    for j, mensagem in enumerate(contatos_df['MENSAGEM']):\n",
    "        lbl_enviando['text'] = 'Enviando mensagem {} de {} para {}'.format(j,contatos_df['MENSAGEM'].count(),contatos_df['CLIENTE'][j])\n",
    "        \n",
    "        # nota: time.sleep não funciona no Tkinter, a menos que seja atualizada a janela\n",
    "        mainwindow.update()\n",
    "        time.sleep(1)\n",
    "\n",
    "        # aqui colocar os resultados de envio.\n",
    "        # investigar como fazer somente leitura.\n",
    "        # as configrações de state normal e disabled funcionam mas nao permitem alterar pelo programa        \n",
    "        # txt_enviados.configure(state ='normal')\n",
    "        txt_enviados.insert(tk.INSERT,'{} recebeu a mensagem\\n'.format(contatos_df['CLIENTE'][j]))\n",
    "        # txt_enviados.configure(state ='disabled')\n",
    "        \n",
    "    return()"
   ]
  },
  {
   "cell_type": "markdown",
   "metadata": {},
   "source": [
    "Design da janela principal"
   ]
  },
  {
   "cell_type": "code",
   "execution_count": 56,
   "metadata": {},
   "outputs": [],
   "source": [
    "# criar a janela da aplicação\n",
    "mainwindow = tk.Tk()"
   ]
  },
  {
   "cell_type": "code",
   "execution_count": 57,
   "metadata": {},
   "outputs": [],
   "source": [
    "# configurações da janela\n",
    "# mainwindow.geometry('750x500')\n",
    "# mainwindow.rowconfigure(0,weight=1)\n",
    "# mainwindow.columnconfigure([0,1],weight=1)"
   ]
  },
  {
   "cell_type": "code",
   "execution_count": 58,
   "metadata": {},
   "outputs": [
    {
     "data": {
      "text/plain": [
       "''"
      ]
     },
     "execution_count": 58,
     "metadata": {},
     "output_type": "execute_result"
    }
   ],
   "source": [
    "# Titulo da janela\n",
    "mainwindow.title(\"Envio de Mensagens pelo WhatsApp\")"
   ]
  },
  {
   "cell_type": "code",
   "execution_count": 59,
   "metadata": {},
   "outputs": [],
   "source": [
    "# Label com titulo principal da janela\n",
    "lbl_title = tk.Label(text=\"Envio de Mensagens pelo WhatsApp\",font=('Consolas 15 bold underline'),borderwidth=1, relief='solid')\n",
    "lbl_title.grid(row=0, column=0,columnspan=3,sticky='NSEW',padx=10,pady=10)"
   ]
  },
  {
   "cell_type": "code",
   "execution_count": 60,
   "metadata": {},
   "outputs": [],
   "source": [
    "# Label de explicação\n",
    "lbl_desc = tk.Label(text=\n",
    "    \"\"\"Este programa envia mensagens pelo WhatsApp Web,\n",
    "    a partir de uma lista de destinatarios em formato Excel.\n",
    "    A lista deve conter os campos\n",
    "    Nome, Telefone e Mensagens, numa folha Clientes\"\"\"\n",
    "    ,font=('Consolas 10'),wraplength=300,borderwidth=1, relief='solid')\n",
    "lbl_desc.grid(row=1, column=0, columnspan=3,sticky='NSEW',padx=10,pady=10) "
   ]
  },
  {
   "cell_type": "code",
   "execution_count": 61,
   "metadata": {},
   "outputs": [],
   "source": [
    "# Label para seleção de arquivo Excel\n",
    "lbl_file = tk.Label(text='Seleccione o arquivo Excel com os dados:',font=('Consolas 12'),anchor='e')\n",
    "lbl_file.grid(row=3,column=0,columnspan=2,sticky='NSEW',padx=10,pady=10)"
   ]
  },
  {
   "cell_type": "code",
   "execution_count": 62,
   "metadata": {},
   "outputs": [],
   "source": [
    "# Botao para selecionar o arquivo em Excel\n",
    "btn_file = tk.Button(text='Clique aqui para seleccionar o arquivo',font=('Consolas 10 bold'),wraplength=100,borderwidth=1,command=sel_file)\n",
    "btn_file.grid(row=3,column=2,sticky='NSEW',padx=10,pady=10)"
   ]
  },
  {
   "cell_type": "code",
   "execution_count": 63,
   "metadata": {},
   "outputs": [],
   "source": [
    "# Caminho e nome do arquivo seleccionado, posteriormente quantidade de mensagens\n",
    "lbl_slctdfile = tk.Label(text='Nenhum Arquivo Seleccionado',wraplength=500,font=('Consolas 12'),anchor='center')\n",
    "lbl_slctdfile.grid(row=4,column=0,columnspan=3,sticky='NSEW',padx=10,pady=10)"
   ]
  },
  {
   "cell_type": "code",
   "execution_count": 64,
   "metadata": {},
   "outputs": [],
   "source": [
    "# Label para seleção dos arquivos de imagens\n",
    "lbl_imgs = tk.Label(text='Seleccione as imagens a enviar:',font=('Consolas 12'),anchor='e')\n",
    "lbl_imgs.grid(row=2,column=0,columnspan=2,sticky='NSEW',padx=10,pady=10)"
   ]
  },
  {
   "cell_type": "code",
   "execution_count": 65,
   "metadata": {},
   "outputs": [],
   "source": [
    "# Botão para selecionar imagens\n",
    "btn_imgs = tk.Button(text='Clique aqui para seleccionar as imagens',font=('Consolas 10 bold'),wraplength=100,borderwidth=1,command=sel_imgs)\n",
    "btn_imgs.grid(row=2,column=2,sticky='NSEW',padx=10,pady=10)"
   ]
  },
  {
   "cell_type": "code",
   "execution_count": 66,
   "metadata": {},
   "outputs": [],
   "source": [
    "# Botão para rodar o processo\n",
    "btn_test = tk.Button(text='Enviar Mensagens',font=('Consolas 10 bold'),command=enviar_mensagens)\n",
    "btn_test.grid(row=5,column=0,columnspan=3,sticky='NSEW',padx=10,pady=10)\n",
    "# pensa que enquanto esta rodando a janela, a informação dentro dela esta disponivel"
   ]
  },
  {
   "cell_type": "code",
   "execution_count": 67,
   "metadata": {},
   "outputs": [],
   "source": [
    "# Label para colocar informações de estado de mensagen atual\n",
    "lbl_enviando = tk.Label(text='',wraplength=500,font=('Consolas 12'),anchor='center')\n",
    "lbl_enviando.grid(row=6,column=0,columnspan=3,sticky='NSEW',padx=10,pady=10)"
   ]
  },
  {
   "cell_type": "code",
   "execution_count": 68,
   "metadata": {},
   "outputs": [],
   "source": [
    "# Scroll text para mostrar a lista\n",
    "# lbl_enviados = tk.Label(text='',wraplength=500,font=('Consolas 12'),anchor='center')\n",
    "# lbl_enviados.grid(row=7,column=0,columnspan=3,sticky='NSEW',padx=10,pady=10)\n",
    "txt_enviados = st.ScrolledText(mainwindow,width = 30, \n",
    "                            height = 8, \n",
    "                            font = ('Consolas 10'))\n",
    "txt_enviados.grid(row=7,column = 0, columnspan=3,sticky='NSEW', pady = 10, padx = 10)\n",
    "\n",
    "txt_enviados.insert(tk.INSERT,'')\n",
    "# investigar como fazer read only\n"
   ]
  },
  {
   "cell_type": "code",
   "execution_count": 69,
   "metadata": {},
   "outputs": [
    {
     "name": "stderr",
     "output_type": "stream",
     "text": [
      "Exception in Tkinter callback\n",
      "Traceback (most recent call last):\n",
      "  File \"c:\\Users\\pgetar\\Anaconda3\\lib\\tkinter\\__init__.py\", line 1892, in __call__\n",
      "    return self.func(*args)\n",
      "  File \"C:\\Users\\pgetar\\AppData\\Local\\Temp/ipykernel_6076/2452207052.py\", line 15, in enviar_mensagens\n",
      "    txt_enviados.insert(tk.INSERT,'{} recebeu a mensagem\\n'.format(contatos_df['CLIENTE'][j]))\n",
      "  File \"c:\\Users\\pgetar\\Anaconda3\\lib\\tkinter\\__init__.py\", line 3743, in insert\n",
      "    self.tk.call((self._w, 'insert', index, chars) + args)\n",
      "_tkinter.TclError: invalid command name \".!frame.!scrolledtext\"\n"
     ]
    }
   ],
   "source": [
    "# janela principal\n",
    "mainwindow.mainloop()"
   ]
  },
  {
   "cell_type": "code",
   "execution_count": null,
   "metadata": {},
   "outputs": [],
   "source": []
  }
 ],
 "metadata": {
  "kernelspec": {
   "display_name": "Python 3 (ipykernel)",
   "language": "python",
   "name": "python3"
  },
  "language_info": {
   "codemirror_mode": {
    "name": "ipython",
    "version": 3
   },
   "file_extension": ".py",
   "mimetype": "text/x-python",
   "name": "python",
   "nbconvert_exporter": "python",
   "pygments_lexer": "ipython3",
   "version": "3.9.7"
  },
  "vscode": {
   "interpreter": {
    "hash": "25bb5942a58f981780efc8129914c41725ee639f796a0c6522abb294f50baf65"
   }
  }
 },
 "nbformat": 4,
 "nbformat_minor": 2
}
