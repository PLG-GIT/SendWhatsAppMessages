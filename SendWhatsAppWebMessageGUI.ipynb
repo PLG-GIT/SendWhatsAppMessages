{
 "cells": [
  {
   "cell_type": "markdown",
   "metadata": {},
   "source": [
    "# Envio de mensagens via WhatsApp Web"
   ]
  },
  {
   "cell_type": "markdown",
   "metadata": {},
   "source": [
    "Passos:\n",
    "1) Criar a janela\n",
    "2) Botão para selecionar arquivo de clientes\n",
    "3) Label para mostrar caminho do arquivo de clientes\n",
    "4) Label para mostrar quantidade total de mensagens a serem enviadas (contar quantos telefones E mensagens não vazias existem)\n",
    "5) Botão para selecionar imagens\n",
    "6) Label para mostrar caminho das imagens (apenas um unico string com todas as imagens da lista concatenadas)\n",
    "7) Botão para iniciar processo de envio\n",
    "8) Processo:  \n",
    "    8.1) Apenas imprimir as mensagens  \n",
    "    8.2) Label com dados atualizados na janela:  \n",
    "        numero de enviados / numero total  \n",
    "        percentual enviado "
   ]
  },
  {
   "cell_type": "markdown",
   "metadata": {},
   "source": [
    "Bibliotecas"
   ]
  },
  {
   "cell_type": "code",
   "execution_count": 1,
   "metadata": {},
   "outputs": [],
   "source": [
    "# import libraries\n",
    "\n",
    "# Basic Tkinter\n",
    "import tkinter as tk\n",
    "from tkinter import filedialog as fd\n",
    "import tkinter.scrolledtext as st\n",
    "\n",
    "# PIL to show images on Tkinter\n",
    "from PIL import Image, ImageTk\n",
    "\n",
    "# Pandas\n",
    "import pandas as pd\n",
    "\n",
    "# Just to get image file name from full path\n",
    "from pathlib import Path\n",
    "\n",
    "# Time to allow program wait few seconds during Chrome operations\n",
    "import time\n",
    "\n",
    "# To allow randomic waiting times (important to avoid Whatsapp account blocking)\n",
    "import random\n",
    "\n",
    "# Datetime to store current date of messages sent\n",
    "from datetime import date\n",
    "\n",
    "# necessary libraries for Chrome operations:\n",
    "from selenium import webdriver\n",
    "from selenium.webdriver.common.by import By\n",
    "from selenium.webdriver.support.ui import WebDriverWait\n",
    "from selenium.webdriver.support import expected_conditions\n",
    "from selenium.webdriver.common.keys import Keys\n",
    "\n",
    "\n",
    "# pip install webdriver_manager\n",
    "# This librari updates automatically the Browser Manger (in this case, Chrome)\n",
    "from webdriver_manager.chrome import ChromeDriverManager\n",
    "\n",
    "# Necessary to convert messages from ASCII text into URL aceptable addresses (convert special characters, spaces, etc)\n",
    "import urllib\n"
   ]
  },
  {
   "cell_type": "code",
   "execution_count": 2,
   "metadata": {},
   "outputs": [],
   "source": [
    "# global variables\n",
    "\n",
    "# list of images to send\n",
    "imgs_path = []\n",
    "\n",
    "# current image on viewer\n",
    "i = 0\n"
   ]
  },
  {
   "cell_type": "markdown",
   "metadata": {},
   "source": [
    "Funções"
   ]
  },
  {
   "cell_type": "code",
   "execution_count": 3,
   "metadata": {},
   "outputs": [],
   "source": [
    "def show_imgs():\n",
    "    \n",
    "    # Event Function to show the i image from list\n",
    "    \n",
    "    global tkphoto \n",
    "    # Canvas Size\n",
    "    can_h = 400\n",
    "    can_w = 400\n",
    "    \n",
    "    # esta demorando muito aqui, a solução de usar uma variavel global nao e interessante\n",
    "    # https://blog.furas.pl/python-tkinter-why-label-doesnt-display-image-bug-with-garbage-collector-in-photoimage-GB.html\n",
    "    # https://www.c-sharpcorner.com/blogs/basics-for-displaying-image-in-tkinter-python\n",
    "    \n",
    "    # Get the element i from list\n",
    "    photo = Image.open(imgs_path[i])\n",
    "    \n",
    "    # Get the picture size (widht, height)\n",
    "    pic_w, pic_h = photo.size\n",
    "\n",
    "    # Calculate aspect image ratio\n",
    "    aspect = pic_w/pic_h\n",
    "\n",
    "    # if picture is wider than taller, the resizing limit will be the picture widht, limited to canvas width\n",
    "    if aspect > 1:\n",
    "        res_w = can_w\n",
    "        res_h = can_w / aspect\n",
    "    \n",
    "    # else, the resizing limit will be the picture height, limited to canvas height\n",
    "    else:\n",
    "        res_h = can_h\n",
    "        res_w = can_h * aspect\n",
    "    \n",
    "\n",
    "    # resize picture\n",
    "    photo = photo.resize((int(res_w),int(res_h)))\n",
    "\n",
    "    # create the Tkinter picture image object\n",
    "    tkphoto = ImageTk.PhotoImage(photo) \n",
    "\n",
    "    # put the picture into the label\n",
    "    lbl_photo = tk.Label(image=tkphoto,width=can_w,height=can_h,borderwidth=2,relief='solid')\n",
    "    lbl_photo.grid(row=1,column=4,rowspan=4, padx=10,pady=10)\n",
    "    \n",
    "    # mostrar numero da imagem e o nome\n",
    "    show_name()\n",
    "    \n",
    "    return()"
   ]
  },
  {
   "cell_type": "code",
   "execution_count": 4,
   "metadata": {},
   "outputs": [],
   "source": [
    "def show_name():\n",
    "    # Function to show current image number, total number of selected images and current image name (without path)\n",
    "    # Path.name method extracts the name from a full \n",
    "    img_name = '{} de {}: {}'.format(i+1,len(imgs_path),Path(imgs_path[i]).name)\n",
    "    lbl_imgname = tk.Label(text=img_name,font=('Consolas 10'))\n",
    "    lbl_imgname.grid(row=5, column=3,columnspan=3,sticky='NSEW',padx=10,pady=10)\n",
    "    return()\n",
    "    "
   ]
  },
  {
   "cell_type": "code",
   "execution_count": 5,
   "metadata": {},
   "outputs": [],
   "source": [
    "def go_rgt():\n",
    "    # Event function to select next (right) image\n",
    "    global i\n",
    "    if i < len(imgs_path)-1:\n",
    "        i = i + 1\n",
    "    else:\n",
    "        i = 0\n",
    "    \n",
    "    # Call function to show image number i\n",
    "    show_imgs()\n",
    "\n",
    "    return()"
   ]
  },
  {
   "cell_type": "code",
   "execution_count": 6,
   "metadata": {},
   "outputs": [],
   "source": [
    "def go_lft():\n",
    "    # Event function to select previous (left) image\n",
    "    global i\n",
    "    if i > 0:\n",
    "        i = i - 1\n",
    "    else:\n",
    "        i = len(imgs_path)-1\n",
    "    \n",
    "    # Call function to show image number i\n",
    "    show_imgs()\n",
    "    \n",
    "    return()"
   ]
  },
  {
   "cell_type": "code",
   "execution_count": 7,
   "metadata": {},
   "outputs": [],
   "source": [
    "def sel_imgs():\n",
    "    # Event function to select image files\n",
    "        \n",
    "    # imgs_path is a global list\n",
    "    global imgs_path\n",
    "\n",
    "    # i is the number of the image to show\n",
    "    global i\n",
    "\n",
    "    images_types = [\n",
    "            ('Arquivos de imagen','.jpg'),\n",
    "            ('Arquivos de imagen','.jpeg'),\n",
    "            ('Arquivos de imagen','.png'),\n",
    "            ('Arquivos de imagen','.gif'),\n",
    "            ]\n",
    "\n",
    "    # Select images\n",
    "    imgs_path = sorted(list(fd.askopenfilenames(title='Selecione as imagens a enviar',filetypes=images_types)))\n",
    "    \n",
    "    # Define show previous image button\n",
    "    btn_lft = tk.Button(text='<',font=('Consolas 20 bold'),wraplength=100,borderwidth=1,command=go_lft)\n",
    "    btn_lft.grid(row=1,column=3,rowspan=4,sticky='NSEW',padx=10,pady=10)\n",
    "\n",
    "    # Define show next image button\n",
    "    btn_rgt = tk.Button(text='>',font=('Consolas 20 bold'),wraplength=100,borderwidth=1,command=go_rgt)\n",
    "    btn_rgt.grid(row=1,column=5,rowspan=4,sticky='NSEW',padx=10,pady=10)\n",
    "        \n",
    "    # Call function to show first image of selected list\n",
    "    i = 0\n",
    "    show_imgs()\n",
    "\n",
    "    return()"
   ]
  },
  {
   "cell_type": "code",
   "execution_count": 8,
   "metadata": {},
   "outputs": [],
   "source": [
    "def sel_file():\n",
    "    \n",
    "    # Event function to select Excel file\n",
    "    \n",
    "    # contacts_df is the global dataframe with destinataries names, numbers and messages\n",
    "    global contacts_df\n",
    "\n",
    "    # file_path is where file is stored\n",
    "    global file_path\n",
    "\n",
    "    file_path = fd.askopenfilename(\n",
    "        title='Selecione o arquivo Excel com a lista de destinatarios',\n",
    "        filetypes=[('Arquivo Excel','.xls'),('Arquivo Excel','.xlsx')]\n",
    "        )\n",
    "    \n",
    "    # Read Excel file\n",
    "    contacts_df = pd.read_excel(file_path, sheet_name='CLIENTES')\n",
    "\n",
    "    # Remove rows with empty messages\n",
    "    contacts_df = contacts_df[~contacts_df['MENSAGEM'].isnull()]\n",
    "\n",
    "    # Reset index\n",
    "    contacts_df.reset_index(inplace=True)\n",
    "\n",
    "    # Remove new index column created\n",
    "    contacts_df.drop(labels='index',axis=1,inplace=True)\n",
    "\n",
    "    # update informations about number of messages to be sent and\n",
    "    # inform to click button to start process\n",
    "    lbl_slctdfile['text'] = 'Serão enviadas {} mensagens.\\n Clique em \"Enviar Mensagens\" para iniciar'.format(contacts_df['MENSAGEM'].count())\n",
    "    \n",
    "    return()"
   ]
  },
  {
   "cell_type": "markdown",
   "metadata": {},
   "source": [
    "Processo Principal"
   ]
  },
  {
   "cell_type": "code",
   "execution_count": 9,
   "metadata": {},
   "outputs": [],
   "source": [
    "# Function to wait for WhatsApp contacts side bar for x seconds\n",
    "def wait_wpp_contacts(timetowaith):\n",
    "    while len(msg_browser.find_elements(By.ID,\"side\")) < 1:\n",
    "        time.sleep(timetowaith)\n",
    "    return()\n",
    "    "
   ]
  },
  {
   "cell_type": "code",
   "execution_count": 10,
   "metadata": {},
   "outputs": [],
   "source": [
    "def send_messages():\n",
    "    \n",
    "    global msg_browser\n",
    "    \n",
    "    # Count total number of messages to send\n",
    "    msg_total = contacts_df['MENSAGEM'].count()\n",
    "\n",
    "    # Create intance of Google Chorme browsed\n",
    "    msg_browser = webdriver.Chrome(ChromeDriverManager().install())\n",
    "    \n",
    "    # Navigate to WhatsApp Web\n",
    "    msg_browser.get(\"https://web.whatsapp.com/\")\n",
    "    time.sleep(5)\n",
    "\n",
    "    # Link will open the QR Code authorization\n",
    "    # Wait until user authorization with cell phone\n",
    "    \n",
    "    # Wait to load WhatsApp contacts side bar\n",
    "    # this indicates it is possible to send messages\n",
    "    wait_wpp_contacts(2)\n",
    "\n",
    "    for j, message in enumerate(contacts_df['MENSAGEM']):\n",
    "\n",
    "        # this version considers all messages are not null\n",
    "        # dataframe already cleaned up on opening file function\n",
    "\n",
    "        # Get customer name and number\n",
    "        name = contacts_df.loc[j,\"CLIENTE\"]\n",
    "        phone = contacts_df.loc[j, \"TELEFONE\"]\n",
    "        \n",
    "        # Update status label\n",
    "        lbl_enviando['text'] = 'Enviando mensagem {} de {}\\nPara {} no telefone {}'.format(j+1,msg_total,name,phone)\n",
    "        mainwindow.update()\n",
    "\n",
    "        # Convert message from ASCII into URL plain text\n",
    "        url_message = urllib.parse.quote(f\"{message}\")\n",
    "\n",
    "        # construir o link\n",
    "        link = f\"https://web.whatsapp.com/send?phone={phone}&text={url_message}\"\n",
    "\n",
    "        # Try to open link; if phone is wrong, it will generate and error, and pass to next\n",
    "        try:\n",
    "            # Get link\n",
    "            msg_browser.get(link)\n",
    "\n",
    "            # Wait to load WhatsApp contacts side bar\n",
    "            # this indicates it is possible to send messages\n",
    "            wait_wpp_contacts(1)\n",
    "                \n",
    "            # Send ENTER\n",
    "            msg_browser.find_element(By.XPATH,'//*[@id=\"main\"]/footer/div[1]/div/span[2]/div/div[2]/div[1]/div/div/p/span').send_keys(Keys.ENTER)\n",
    "            \n",
    "            # Wait to load WhatsApp contacts side bar\n",
    "            # this indicates it is possible to send messages\n",
    "            wait_wpp_contacts(1)\n",
    "            \n",
    "            # For each image in images list\n",
    "            for img_file in imgs_path:\n",
    "        \n",
    "                # Find attachment button (paperclip) and click on it\n",
    "                msg_browser.find_element(By.CSS_SELECTOR,\"span[data-icon='clip']\").click()\n",
    "                time.sleep(2)\n",
    "\n",
    "                # Select to find element and send all keys the img_file as keystrokes\n",
    "                msg_browser.find_element(By.CSS_SELECTOR,\"input[type='file']\").send_keys(img_file)\n",
    "                time.sleep(5)\n",
    "\n",
    "                # Click on send attachment (littel triangle)\n",
    "                msg_browser.find_element(By.CSS_SELECTOR,\"span[data-icon='send']\").click()\n",
    "                time.sleep(1)\n",
    "            \n",
    "            # Write on scrolling text box the result of current message sending process\n",
    "            txt_result = 'recebeu a mensagem'\n",
    "                            \n",
    "        except:\n",
    "            # Write on scrolling text box the result of current message sending process\n",
    "            txt_result = 'NÃO recebeu a mensagem'\n",
    "\n",
    "        # Print on terminal\n",
    "        print('{}:{}: {}'.format(j+1,name,txt_result))\n",
    "            \n",
    "        # add to result to data frame\n",
    "        contacts_df.loc[j,'RESULTADO'] = txt_result\n",
    "\n",
    "        # Write on scrolling text box the result of current message sending process\n",
    "        txt_enviados.insert(tk.INSERT,'{}: {} {}\\n'.format(j+1,name,txt_result))\n",
    "        \n",
    "        # Update Tkinter process\n",
    "        # note: time.sleep needs to update Tkinter frequently            \n",
    "        mainwindow.update()\n",
    "\n",
    "        # Wait a random time before send next.\n",
    "        # this is important to avoid WhatsApp to cancel the account due to automation\n",
    "        time.sleep(random.randint(5,10))\n",
    "    \n",
    "    # Sending Loop ends here\n",
    "\n",
    "    lbl_slctdfile['text'] = 'Processo Finalizado'\n",
    "\n",
    "    # save results dataframe\n",
    "    result_file = '{}\\Resultado Envios {}.xlsx'.format(Path(file_path).parent,date.today())\n",
    "    contacts_df.to_excel(result_file,index=False)\n",
    "\n",
    "    # aqui colocar os resultados de envio.\n",
    "    # investigar como fazer somente leitura.\n",
    "    # as configrações de state normal e disabled funcionam mas nao permitem alterar pelo programa        \n",
    "    # txt_enviados.configure(state ='normal')\n",
    "    # txt_enviados.insert(tk.INSERT,'{} recebeu a mensagem\\n'.format(contacts_df['CLIENTE'][j]))\n",
    "    # txt_enviados.configure(state ='disabled')\n",
    "    \n",
    "    return()"
   ]
  },
  {
   "cell_type": "markdown",
   "metadata": {},
   "source": [
    "Design da janela principal"
   ]
  },
  {
   "cell_type": "code",
   "execution_count": 11,
   "metadata": {},
   "outputs": [],
   "source": [
    "# criar a janela da aplicação\n",
    "mainwindow = tk.Tk()"
   ]
  },
  {
   "cell_type": "code",
   "execution_count": 12,
   "metadata": {},
   "outputs": [],
   "source": [
    "# configurações da janela\n",
    "# mainwindow.geometry('750x500')\n",
    "# mainwindow.rowconfigure(0,weight=1)\n",
    "# mainwindow.columnconfigure([0,1],weight=1)"
   ]
  },
  {
   "cell_type": "code",
   "execution_count": 13,
   "metadata": {},
   "outputs": [
    {
     "data": {
      "text/plain": [
       "''"
      ]
     },
     "execution_count": 13,
     "metadata": {},
     "output_type": "execute_result"
    }
   ],
   "source": [
    "# Titulo da janela\n",
    "mainwindow.title(\"Envio de Mensagens pelo WhatsApp\")"
   ]
  },
  {
   "cell_type": "code",
   "execution_count": 14,
   "metadata": {},
   "outputs": [],
   "source": [
    "# Label com titulo principal da janela\n",
    "lbl_title = tk.Label(text=\"Envio de Mensagens pelo WhatsApp\",font=('Consolas 15 bold underline'),borderwidth=1, relief='solid')\n",
    "lbl_title.grid(row=0, column=0,columnspan=3,sticky='NSEW',padx=10,pady=10)"
   ]
  },
  {
   "cell_type": "code",
   "execution_count": 15,
   "metadata": {},
   "outputs": [],
   "source": [
    "# Label de explicação\n",
    "lbl_desc = tk.Label(text=\n",
    "    \"\"\"Este programa envia mensagens pelo WhatsApp Web,\n",
    "    a partir de uma lista de destinatarios em formato Excel.\n",
    "    A lista deve conter os campos\n",
    "    Nome, Telefone e Mensagens, numa folha Clientes\"\"\"\n",
    "    ,font=('Consolas 10'),wraplength=300,borderwidth=1, relief='solid')\n",
    "lbl_desc.grid(row=1, column=0, columnspan=3,sticky='NSEW',padx=10,pady=10) "
   ]
  },
  {
   "cell_type": "code",
   "execution_count": 16,
   "metadata": {},
   "outputs": [],
   "source": [
    "# Label para seleção de arquivo Excel\n",
    "lbl_file = tk.Label(text='Seleccione o arquivo Excel com os dados:',font=('Consolas 12'),anchor='e')\n",
    "lbl_file.grid(row=3,column=0,columnspan=2,sticky='NSEW',padx=10,pady=10)"
   ]
  },
  {
   "cell_type": "code",
   "execution_count": 17,
   "metadata": {},
   "outputs": [],
   "source": [
    "# Botao para selecionar o arquivo em Excel\n",
    "btn_file = tk.Button(text='Clique aqui para seleccionar o arquivo',font=('Consolas 10 bold'),wraplength=100,borderwidth=1,command=sel_file)\n",
    "btn_file.grid(row=3,column=2,sticky='NSEW',padx=10,pady=10)"
   ]
  },
  {
   "cell_type": "code",
   "execution_count": 18,
   "metadata": {},
   "outputs": [],
   "source": [
    "# Caminho e nome do arquivo seleccionado, posteriormente quantidade de mensagens\n",
    "lbl_slctdfile = tk.Label(text='Nenhum Arquivo Seleccionado',wraplength=500,font=('Consolas 12'),anchor='center')\n",
    "lbl_slctdfile.grid(row=4,column=0,columnspan=3,sticky='NSEW',padx=10,pady=10)"
   ]
  },
  {
   "cell_type": "code",
   "execution_count": 19,
   "metadata": {},
   "outputs": [],
   "source": [
    "# Label para seleção dos arquivos de imagens\n",
    "lbl_imgs = tk.Label(text='Seleccione as imagens a enviar:',font=('Consolas 12'),anchor='e')\n",
    "lbl_imgs.grid(row=2,column=0,columnspan=2,sticky='NSEW',padx=10,pady=10)"
   ]
  },
  {
   "cell_type": "code",
   "execution_count": 20,
   "metadata": {},
   "outputs": [],
   "source": [
    "# Botão para selecionar imagens\n",
    "btn_imgs = tk.Button(text='Clique aqui para seleccionar as imagens',font=('Consolas 10 bold'),wraplength=100,borderwidth=1,command=sel_imgs)\n",
    "btn_imgs.grid(row=2,column=2,sticky='NSEW',padx=10,pady=10)"
   ]
  },
  {
   "cell_type": "code",
   "execution_count": 21,
   "metadata": {},
   "outputs": [],
   "source": [
    "# Botão para rodar o processo\n",
    "btn_test = tk.Button(text='Enviar Mensagens',font=('Consolas 10 bold'),command=send_messages)\n",
    "btn_test.grid(row=5,column=0,columnspan=3,sticky='NSEW',padx=10,pady=10)\n",
    "# pensa que enquanto esta rodando a janela, a informação dentro dela esta disponivel"
   ]
  },
  {
   "cell_type": "code",
   "execution_count": 22,
   "metadata": {},
   "outputs": [],
   "source": [
    "# Label para colocar informações de estado de mensagen atual\n",
    "lbl_enviando = tk.Label(text='',wraplength=500,font=('Consolas 12'),anchor='center')\n",
    "lbl_enviando.grid(row=6,column=0,columnspan=3,sticky='NSEW',padx=10,pady=10)"
   ]
  },
  {
   "cell_type": "code",
   "execution_count": 23,
   "metadata": {},
   "outputs": [],
   "source": [
    "# Scroll text para mostrar a lista\n",
    "# lbl_enviados = tk.Label(text='',wraplength=500,font=('Consolas 12'),anchor='center')\n",
    "# lbl_enviados.grid(row=7,column=0,columnspan=3,sticky='NSEW',padx=10,pady=10)\n",
    "txt_enviados = st.ScrolledText(mainwindow,width = 30, \n",
    "                            height = 8, \n",
    "                            font = ('Consolas 10'))\n",
    "txt_enviados.grid(row=7,column = 0, columnspan=3,sticky='NSEW', pady = 10, padx = 10)\n",
    "\n",
    "txt_enviados.insert(tk.INSERT,'')\n",
    "# investigar como fazer read only\n"
   ]
  },
  {
   "cell_type": "code",
   "execution_count": 24,
   "metadata": {},
   "outputs": [
    {
     "name": "stderr",
     "output_type": "stream",
     "text": [
      "\n",
      "\n",
      "====== WebDriver manager ======\n",
      "Current google-chrome version is 106.0.5249\n",
      "Get LATEST chromedriver version for 106.0.5249 google-chrome\n",
      "Driver [C:\\Users\\pgetar\\.wdm\\drivers\\chromedriver\\win32\\106.0.5249.61\\chromedriver.exe] found in cache\n",
      "C:\\Users\\pgetar\\AppData\\Local\\Temp/ipykernel_22856/93585002.py:9: DeprecationWarning: executable_path has been deprecated, please pass in a Service object\n",
      "  msg_browser = webdriver.Chrome(ChromeDriverManager().install())\n"
     ]
    },
    {
     "name": "stdout",
     "output_type": "stream",
     "text": [
      "1:Pablo: NÃO recebeu a mensagem\n",
      "2:Pedro with valid message: recebeu a mensagem\n",
      "3:Pedro Wrong Number: NÃO recebeu a mensagem\n",
      "4:José valid message: recebeu a mensagem\n",
      "5:José wrong number: NÃO recebeu a mensagem\n",
      "6:Maria with message: recebeu a mensagem\n",
      "7:Maria Wrong number: NÃO recebeu a mensagem\n"
     ]
    }
   ],
   "source": [
    "# janela principal\n",
    "mainwindow.mainloop()"
   ]
  },
  {
   "cell_type": "code",
   "execution_count": null,
   "metadata": {},
   "outputs": [],
   "source": []
  }
 ],
 "metadata": {
  "kernelspec": {
   "display_name": "Python 3 (ipykernel)",
   "language": "python",
   "name": "python3"
  },
  "language_info": {
   "codemirror_mode": {
    "name": "ipython",
    "version": 3
   },
   "file_extension": ".py",
   "mimetype": "text/x-python",
   "name": "python",
   "nbconvert_exporter": "python",
   "pygments_lexer": "ipython3",
   "version": "3.9.7"
  },
  "vscode": {
   "interpreter": {
    "hash": "25bb5942a58f981780efc8129914c41725ee639f796a0c6522abb294f50baf65"
   }
  }
 },
 "nbformat": 4,
 "nbformat_minor": 2
}
