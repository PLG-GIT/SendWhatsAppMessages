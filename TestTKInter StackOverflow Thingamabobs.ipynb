{
 "cells": [
  {
   "cell_type": "code",
   "execution_count": 1,
   "metadata": {},
   "outputs": [],
   "source": [
    "import tkinter as tk\n",
    "import tkinter.scrolledtext as st\n",
    "import time "
   ]
  },
  {
   "cell_type": "code",
   "execution_count": 2,
   "metadata": {},
   "outputs": [],
   "source": [
    "def tksleep(t):\n",
    "    'emulating time.sleep(seconds)'\n",
    "    ms = int(t*1000)\n",
    "    root = tk._get_default_root()\n",
    "    var = tk.IntVar(root)\n",
    "    root.after(ms, lambda: var.set(1))\n",
    "    root.wait_variable(var)"
   ]
  },
  {
   "cell_type": "code",
   "execution_count": 3,
   "metadata": {},
   "outputs": [],
   "source": [
    "def do_some_action():\n",
    "    for i in range(20):\n",
    "        txt_bigtextlog.insert(tk.END,'Row text {} off 20\\n'.format(i))\n",
    "\n",
    "        # tk.END to point the scrolling text to latest line\n",
    "        txt_bigtextlog.see(tk.END)\n",
    "       \n",
    "        tksleep(5)\n",
    "    return()"
   ]
  },
  {
   "cell_type": "code",
   "execution_count": null,
   "metadata": {},
   "outputs": [],
   "source": []
  },
  {
   "cell_type": "code",
   "execution_count": 4,
   "metadata": {},
   "outputs": [],
   "source": [
    "# Create the application main window\n",
    "mywindowapp = tk.Tk()"
   ]
  },
  {
   "cell_type": "code",
   "execution_count": 5,
   "metadata": {},
   "outputs": [],
   "source": [
    "lbl_justsomelabel = tk.Label(text='Just some label here')\n",
    "lbl_justsomelabel.grid(row=0,column=0,sticky='NSEW',padx=10,pady=10)"
   ]
  },
  {
   "cell_type": "code",
   "execution_count": 6,
   "metadata": {},
   "outputs": [],
   "source": [
    "btn_action = tk.Button(text='Start process',command=do_some_action)\n",
    "btn_action.grid(row=1,column=0,sticky='NSEW',padx=10,pady=10)"
   ]
  },
  {
   "cell_type": "code",
   "execution_count": 7,
   "metadata": {},
   "outputs": [],
   "source": [
    "txt_bigtextlog = st.ScrolledText(mywindowapp,width = 30,height = 8)\n",
    "txt_bigtextlog.grid(row=2,column = 0, columnspan=3,sticky='NSEW', pady = 10, padx = 10)\n",
    "txt_bigtextlog.insert(tk.INSERT,'')"
   ]
  },
  {
   "cell_type": "code",
   "execution_count": 8,
   "metadata": {},
   "outputs": [],
   "source": [
    "mywindowapp.mainloop()"
   ]
  },
  {
   "cell_type": "markdown",
   "metadata": {},
   "source": [
    "https://web.whatsapp.com/send?phone=557191013035&text=MENSAGEM"
   ]
  }
 ],
 "metadata": {
  "kernelspec": {
   "display_name": "Python 3.9.7 ('base')",
   "language": "python",
   "name": "python3"
  },
  "language_info": {
   "codemirror_mode": {
    "name": "ipython",
    "version": 3
   },
   "file_extension": ".py",
   "mimetype": "text/x-python",
   "name": "python",
   "nbconvert_exporter": "python",
   "pygments_lexer": "ipython3",
   "version": "3.9.7"
  },
  "orig_nbformat": 4,
  "vscode": {
   "interpreter": {
    "hash": "25bb5942a58f981780efc8129914c41725ee639f796a0c6522abb294f50baf65"
   }
  }
 },
 "nbformat": 4,
 "nbformat_minor": 2
}
