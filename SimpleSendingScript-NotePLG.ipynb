{
 "cells": [
  {
   "cell_type": "markdown",
   "metadata": {},
   "source": [
    "Script para envio de mensagens simples  \n",
    "Premisas:  \n",
    "1. Carregar bibliotecas necessarias\n",
    "    1. Pandas\n",
    "    2. Selenium\n",
    "    3. Webdriver Manager\n",
    "    4. Time\n",
    "2. Carregar arquivo de mensagens en dataframe\n",
    "3. Limpar dataframe  \n",
    "    1. Eliminar linhas sem mensagens\n",
    "    2. Eliinar linhas sem telefones\n",
    "    3. Eliminar colunas desnecessarias\n",
    "    4. Obter o total de linhas\n",
    "    5. Resetar indice\n",
    "4. Abrir o Navegador\n",
    "5. Abrir o WhatsappWeb\n",
    "6. Esperar conexão do celular\n",
    "7. Iniciar Loop de envio de imagens\n",
    "    1. Enviar mensagem\n",
    "    2. Iniciar Loop de envio de imagens"
   ]
  },
  {
   "cell_type": "markdown",
   "metadata": {},
   "source": [
    "Carregar bibliotecas necessarias"
   ]
  },
  {
   "cell_type": "code",
   "execution_count": 1,
   "metadata": {},
   "outputs": [],
   "source": [
    "import pandas as pd\n",
    "\n",
    "# necessary libraries for Chrome operations:\n",
    "from selenium import webdriver\n",
    "from selenium.webdriver.common.by import By\n",
    "from selenium.webdriver.support.ui import WebDriverWait\n",
    "from selenium.webdriver.support import expected_conditions\n",
    "from selenium.webdriver.common.keys import Keys\n",
    "from selenium.common.exceptions import NoSuchElementException\n",
    "\n",
    "# modified 29-oct-23\n",
    "from selenium.webdriver.chrome.service import Service\n",
    "\n",
    "# pip install webdriver_manager\n",
    "# This librari updates automatically the Browser Manger (in this case, Chrome)\n",
    "from webdriver_manager.chrome import ChromeDriverManager\n",
    "\n",
    "# Necessary to convert messages from ASCII text into URL aceptable addresses (convert special characters, spaces, etc)\n",
    "import urllib\n",
    "\n",
    "# Just to get image file name from full path\n",
    "from pathlib import Path\n",
    "\n",
    "# Time to allow program wait few seconds during Chrome operations\n",
    "import time\n",
    "\n",
    "# To allow randomic waiting times (important to avoid Whatsapp account blocking)\n",
    "import random\n",
    "\n",
    "# Datetime to store current date of messages sent\n",
    "# from datetime import date\n",
    "import datetime as dt\n",
    "\n",
    "# importar Tkinter\n",
    "import tkinter as tk\n",
    "from tkinter import filedialog as fd"
   ]
  },
  {
   "cell_type": "markdown",
   "metadata": {},
   "source": [
    "Carregar arquivo de mensagens en dataframe"
   ]
  },
  {
   "cell_type": "code",
   "execution_count": 2,
   "metadata": {},
   "outputs": [],
   "source": [
    "arquivo_de_mensagens = fd.askopenfilename(\n",
    "    title='Selecione o arquivo Excel com a lista de destinatarios',\n",
    "    filetypes=[('Arquivo Excel','.xls'),('Arquivo Excel','.xlsx')]\n",
    "    )\n",
    "\n",
    "contacts_df = pd.read_excel(arquivo_de_mensagens, sheet_name='CLIENTES')"
   ]
  },
  {
   "cell_type": "markdown",
   "metadata": {},
   "source": [
    "Carregar lista de imagens"
   ]
  },
  {
   "cell_type": "code",
   "execution_count": 3,
   "metadata": {},
   "outputs": [],
   "source": [
    "# selecionar arquivos de imagen\n",
    "\n",
    "images_types = [\n",
    "        ('Arquivos de imagen','.jpg'),\n",
    "        ('Arquivos de imagen','.jpeg'),\n",
    "        ('Arquivos de imagen','.png'),\n",
    "        ('Arquivos de imagen','.gif'),\n",
    "        ]\n",
    " \n",
    "imgs_path = sorted(list(fd.askopenfilenames(title='Selecione as imagens a enviar',filetypes=images_types)))"
   ]
  },
  {
   "cell_type": "code",
   "execution_count": null,
   "metadata": {},
   "outputs": [],
   "source": [
    "imgs_path"
   ]
  },
  {
   "cell_type": "markdown",
   "metadata": {},
   "source": [
    "Limpar dataframe"
   ]
  },
  {
   "cell_type": "code",
   "execution_count": null,
   "metadata": {},
   "outputs": [],
   "source": [
    "# 1. Eliminar linhas sem mensagens\n",
    "contacts_df = contacts_df[~contacts_df['MENSAGEM'].isnull()]\n",
    "\n",
    "# 2. Eliinar linhas sem telefones\n",
    "contacts_df = contacts_df[~contacts_df['TELEFONE'].isnull()]\n",
    "\n",
    "# 3. Reset index\n",
    "contacts_df.reset_index(inplace=True)\n",
    "\n",
    "# 4. Eliminar colunas desnecessarias\n",
    "contacts_df = contacts_df[['CLIENTE','TELEFONE','MENSAGEM']]\n",
    "\n",
    "# 5. Obter o total de linhas\n",
    "numero_de_mensagens = contacts_df['MENSAGEM'].count()\n",
    "\n",
    "print('Serão enviadas {} mensagens'.format(numero_de_mensagens))"
   ]
  },
  {
   "cell_type": "code",
   "execution_count": null,
   "metadata": {},
   "outputs": [],
   "source": [
    "# visualizar dataframe\n",
    "contacts_df"
   ]
  },
  {
   "cell_type": "markdown",
   "metadata": {},
   "source": [
    "Abrir o Navegador"
   ]
  },
  {
   "cell_type": "code",
   "execution_count": 7,
   "metadata": {},
   "outputs": [],
   "source": [
    "# Criar uma instancia do Google Chrome\n",
    "msg_browser = webdriver.Chrome()"
   ]
  },
  {
   "cell_type": "markdown",
   "metadata": {},
   "source": [
    "Abrir o WhatsappWeb"
   ]
  },
  {
   "cell_type": "code",
   "execution_count": 8,
   "metadata": {},
   "outputs": [],
   "source": [
    "# Navegar até o WhatsApp Web\n",
    "msg_browser.get(\"https://web.whatsapp.com/\")\n",
    "time.sleep(2)"
   ]
  },
  {
   "cell_type": "markdown",
   "metadata": {},
   "source": [
    "Esperar conexão do celular"
   ]
  },
  {
   "cell_type": "code",
   "execution_count": 9,
   "metadata": {},
   "outputs": [],
   "source": [
    "# Esperar pela lista de contatos do WhatsApp por X segundos\n",
    "# Isto indica que podemos começar a enviar mensagens\n",
    "while len(msg_browser.find_elements(By.ID,\"side\")) < 1:\n",
    "    time.sleep(1)"
   ]
  },
  {
   "cell_type": "markdown",
   "metadata": {},
   "source": [
    "Iniciar Loop de envio de mensagens e imagens"
   ]
  },
  {
   "cell_type": "code",
   "execution_count": null,
   "metadata": {},
   "outputs": [],
   "source": [
    "for j, mensagem in enumerate(contacts_df['MENSAGEM']):\n",
    "    \n",
    "    cliente = contacts_df.loc[j,'CLIENTE']\n",
    "    telefone = contacts_df.loc[j,'TELEFONE']\n",
    "    print(j, cliente, telefone)\n",
    "\n",
    "    # Converter a mensagem de ASCII para texto plano para ser usada como URL\n",
    "    url_mensagem = urllib.parse.quote(f\"{mensagem}\")\n",
    "\n",
    "    # Construir o link\n",
    "    link = f\"https://web.whatsapp.com/send?phone={telefone}&text={url_mensagem}\"\n",
    "\n",
    "    # ir no link com a mensagem e o telefone\n",
    "    msg_browser.get(link)\n",
    "    time.sleep(3)\n",
    "\n",
    "    # verificar se o botão de envio fica disponivel ou aparece um pop-up de telefone errado\n",
    "    botao_envio = \"span[data-icon='send']\"\n",
    "    botao_telefone_errado = '//*[@id=\"app\"]/div/span[2]/div/span/div/div/div/div/div/div[2]/div/button'\n",
    "\n",
    "    envio_disponivel = False\n",
    "    telefone_errado = False\n",
    "\n",
    "    # enquanto não aparecer o botão de envio\n",
    "    # ou a janela pop_up de telefone errado\n",
    "    # ficar neste loop\n",
    "    while (not(envio_disponivel) and not(telefone_errado)):\n",
    "        \n",
    "        # capturar se aparece o botão de envio\n",
    "        try:\n",
    "            msg_browser.find_element(By.CSS_SELECTOR,botao_envio)\n",
    "            envio_disponivel = True\n",
    "\n",
    "        except NoSuchElementException:\n",
    "            envio_disponivel = False\n",
    "        \n",
    "        \n",
    "        # capturar se aparece telefone errado\n",
    "        try:\n",
    "            msg_browser.find_element(By.XPATH,botao_telefone_errado)\n",
    "            telefone_errado = True\n",
    "        except NoSuchElementException:\n",
    "            telefone_errado = False\n",
    "        \n",
    "        \n",
    "        time.sleep(1)\n",
    "    \n",
    "    # uma vez que apareceu um deles\n",
    "    # tomar ação correspondente\n",
    "    # estas opções são em teoria mutuamente excludentes\n",
    "    if envio_disponivel:\n",
    "        # clicar no botão de envio\n",
    "        msg_browser.find_element(By.CSS_SELECTOR,\"span[data-icon='send']\").click()\n",
    "        time.sleep(2)\n",
    "\n",
    "        # agora começar a enviar as imagens\n",
    "        for i, img_file in enumerate(imgs_path):\n",
    "            # buscar sinal de + (antigo clip)\n",
    "            \n",
    "\n",
    "            # modificado em 03-Aug-2024\n",
    "            # msg_browser.find_element(By.CSS_SELECTOR,\"span[data-icon='attach-menu-plus']\").click()\n",
    "            msg_browser.find_element(By.CSS_SELECTOR,\"#main > footer > div._ak1k.xnpuxes.copyable-area > div > span:nth-child(2) > div > div._ak1t._ak1m > div._ak1o > div > div > div > span\").click() \n",
    "\n",
    "            time.sleep(1)\n",
    "            # abrir a janela para selecionar o arquivo e enviar as teclas\n",
    "            msg_browser.find_element(By.XPATH,'//*[@id=\"main\"]/footer/div[1]/div/span[2]/div/div[1]/div[2]/div/span/div/ul/div/div[2]/li/div/input').send_keys(img_file)\n",
    "            time.sleep(1)\n",
    "            # clicar no triangulo de enviar (es mejor que el Enter)\n",
    "            msg_browser.find_element(By.CSS_SELECTOR,\"span[data-icon='send']\").click()\n",
    "            time.sleep(1)\n",
    "\n",
    "    if telefone_errado:\n",
    "        # clicar no botao de ok para continuar\n",
    "        msg_browser.find_element(By.XPATH,botao_telefone_errado).click()\n",
    "        time.sleep(2)\n",
    "\n",
    "    # aguardar um pouco ate a proxima mensagem\n",
    "    time.sleep(random.randint(3,7))  "
   ]
  },
  {
   "cell_type": "markdown",
   "metadata": {},
   "source": [
    "Debug passo a passo"
   ]
  },
  {
   "cell_type": "code",
   "execution_count": 11,
   "metadata": {},
   "outputs": [],
   "source": [
    "# definições de botoes e elementos clicaveis\n",
    "botao_envio = \"span[data-icon='send']\"\n",
    "botao_telefone_errado = '//*[@id=\"app\"]/div/span[2]/div/span/div/div/div/div/div/div[2]/div/button'"
   ]
  },
  {
   "cell_type": "code",
   "execution_count": null,
   "metadata": {},
   "outputs": [],
   "source": [
    "# pegar a linha j\n",
    "j = 1\n",
    "mensagem = contacts_df.loc[j,'MENSAGEM']\n",
    "cliente = contacts_df.loc[j,'CLIENTE']\n",
    "telefone = contacts_df.loc[j,'TELEFONE']\n",
    "print(j, mensagem, cliente, telefone)"
   ]
  },
  {
   "cell_type": "code",
   "execution_count": 29,
   "metadata": {},
   "outputs": [],
   "source": [
    "# Converter a mensagem de ASCII para texto plano para ser usada como URL\n",
    "url_mensagem = urllib.parse.quote(f\"{mensagem}\")\n",
    "\n",
    "# Construir o link\n",
    "link = f\"https://web.whatsapp.com/send?phone={telefone}&text={url_mensagem}\""
   ]
  },
  {
   "cell_type": "code",
   "execution_count": 30,
   "metadata": {},
   "outputs": [],
   "source": [
    "# ir no link com a mensagem e o telefone e esperar\n",
    "msg_browser.get(link)\n",
    "\n",
    "# TAL VEZ ESTA E A SOLUÇÃO\n",
    "# 06-OCT-2024\n",
    "# Esperar pela lista de contatos do WhatsApp por X segundos\n",
    "# Isto indica que podemos começar a enviar mensagens\n",
    "while len(msg_browser.find_elements(By.ID,\"side\")) < 1:\n",
    "    time.sleep(1)\n",
    "\n",
    "# COLOCAR ISTO NUMA FUNÇÃO PARA REUTILIZAR"
   ]
  },
  {
   "cell_type": "code",
   "execution_count": null,
   "metadata": {},
   "outputs": [],
   "source": [
    "\n",
    "# verificar se pode ser enviado ou se for um numero errado\n",
    "telefone_errado = False\n",
    "envio_disponivel = False\n",
    "\n",
    "while (not(telefone_errado) and not(envio_disponivel)):\n",
    "    # capturar se aparece o botão de envio\n",
    "    try:\n",
    "        time.sleep(1)\n",
    "        msg_browser.find_element(By.CSS_SELECTOR,botao_envio)\n",
    "        envio_disponivel = True\n",
    "        print(\"pegou envio disponivel\")\n",
    "        break   # SE JA SE QUE ENCONTREI O BOTAO DE ENVIO, NAO FAZ SENTIDO ESPERAR PELO TELEFONE ERRADO\n",
    "    except NoSuchElementException:\n",
    "        envio_disponivel = False\n",
    "        print(\"nao encontrou enviar\")\n",
    "    \n",
    "    # capturar telefone errado\n",
    "    try:\n",
    "        time.sleep(1)\n",
    "\n",
    "        botao_telefone_errado = '//*[@id=\"app\"]/div/span[2]/div/span/div/div/div/div/div/div[2]/div/button/div/div'\n",
    "        msg_browser.find_element(By.XPATH,botao_telefone_errado)\n",
    "        telefone_errado = True\n",
    "        print(\"pegou telefone errado\")\n",
    "        break   # SE JA SEI QUE O TELEFONE ESTA ERRADO, NAO FAZ SENTIDO ESPERAR PELO ENVIO\n",
    "    except NoSuchElementException:\n",
    "        telefone_errado = False\n",
    "        print(\"nao e telefone errado\")\n",
    "    \n",
    "\n",
    "\n",
    "print(\"Telefone errado: \", telefone_errado)\n",
    "print(\"Envio disponivel: \", envio_disponivel)"
   ]
  },
  {
   "cell_type": "code",
   "execution_count": 33,
   "metadata": {},
   "outputs": [],
   "source": [
    "# se aparece botao de envio, clicar nele\n",
    "if envio_disponivel:\n",
    "    msg_browser.find_element(By.CSS_SELECTOR,\"span[data-icon='send']\").click()\n",
    "# se aparece telefone errado, clicar nele\n",
    "if telefone_errado:\n",
    "    msg_browser.find_element(By.XPATH,botao_telefone_errado).click()"
   ]
  },
  {
   "cell_type": "code",
   "execution_count": null,
   "metadata": {},
   "outputs": [],
   "source": []
  },
  {
   "cell_type": "code",
   "execution_count": null,
   "metadata": {},
   "outputs": [],
   "source": []
  },
  {
   "cell_type": "code",
   "execution_count": null,
   "metadata": {},
   "outputs": [],
   "source": [
    "# modificações 25 de setembro 2024\n",
    "# buscar triangulo de envio\n",
    "\n",
    "botao_envio = \"span[data-icon='send']\"\n",
    "try:\n",
    "    msg_browser.find_element(By.CSS_SELECTOR,botao_envio)\n",
    "    envio_disponivel = True\n",
    "\n",
    "except NoSuchElementException:\n",
    "    envio_disponivel = False\n",
    "\n",
    "print(envio_disponivel)\n",
    "\n",
    "if envio_disponivel:\n",
    "    msg_browser.find_element(By.CSS_SELECTOR,\"span[data-icon='send']\").click()\n",
    "\n",
    "# esta parte esta funcionando."
   ]
  },
  {
   "cell_type": "code",
   "execution_count": null,
   "metadata": {},
   "outputs": [],
   "source": [
    "\n",
    "# o que nao funciona é o sinal de mais\n",
    "# vamos fazer ele diferente\n",
    "# este é o localizador do sinal de mais antigo\n",
    "# \"#main > footer > div._ak1k.xnpuxes.copyable-area > div > span:nth-child(2) > div > div._ak1t._ak1m > div._ak1o > div > div > div > span\"\n",
    "sinal_de_mais = '#main > footer > div.x1n2onr6.xhtitgo.x9f619.x78zum5.x1q0g3np.xuk3077.x193iq5w.x122xwht.x1bmpntp.xy80clv.xgkeump.x26u7qi.xs9asl8.x1swvt13.x1pi30zi.xnpuxes.copyable-area > div > span > div > div.x9f619.x78zum5.x6s0dn4.xl56j7k.x1ofbdpd._ak1m > div.x78zum5.x6s0dn4 > div > div > div > span'\n",
    "msg_browser.find_element(By.CSS_SELECTOR,sinal_de_mais).click() \n",
    "# agora funciona\n"
   ]
  },
  {
   "cell_type": "code",
   "execution_count": 37,
   "metadata": {},
   "outputs": [],
   "source": [
    "img_file = imgs_path[1]"
   ]
  },
  {
   "cell_type": "code",
   "execution_count": null,
   "metadata": {},
   "outputs": [],
   "source": [
    "img_file"
   ]
  },
  {
   "cell_type": "code",
   "execution_count": null,
   "metadata": {},
   "outputs": [],
   "source": [
    "# msg_browser.find_element(By.XPATH,'//*[@id=\"main\"]/footer/div[1]/div/span[2]/div/div[1]/div[2]/div/span/div/ul/div/div[2]/li/div/input').send_keys(img_file)\n",
    "# aqui esta el problema\n",
    "# este e o localizador antigo\n",
    "# '//*[@id=\"main\"]/footer/div[1]/div/span[2]/div/div[1]/div[2]/div/span/div/ul/div/div[2]/li/div/input'\n",
    "# este e o novo\n",
    "# fotos_e_videos = '//*[@id=\"main\"]/footer/div[1]/div/span/div/div[1]/div[2]/div/span/div/ul/div/div[2]/li/div/div'\n",
    "\n",
    "# este funciona\n",
    "fotos_e_videos = '//*[@id=\"main\"]/footer/div[1]/div/span/div/div[1]/div[2]/div/span/div/ul/div/div[2]/li/div/input'\n",
    "msg_browser.find_element(By.XPATH,fotos_e_videos).send_keys(img_file)\n"
   ]
  },
  {
   "cell_type": "code",
   "execution_count": 40,
   "metadata": {},
   "outputs": [],
   "source": [
    "triangulo_envio = \"span[data-icon='send']\"\n",
    "msg_browser.find_element(By.CSS_SELECTOR,triangulo_envio).click()"
   ]
  },
  {
   "cell_type": "code",
   "execution_count": null,
   "metadata": {},
   "outputs": [],
   "source": [
    "texto = \"Não recebeu a mensagem\"\n",
    "\n",
    "print(texto[:3] == \"Não\")"
   ]
  },
  {
   "cell_type": "code",
   "execution_count": null,
   "metadata": {},
   "outputs": [],
   "source": [
    "try:\n",
    "    # Code that might raise an exception\n",
    "    x = 1 / 0  # This will raise a ZeroDivisionError\n",
    "except Exception as e:\n",
    "    # Print the error\n",
    "    print(f\"An error occurred: {e}\")\n"
   ]
  },
  {
   "cell_type": "code",
   "execution_count": null,
   "metadata": {},
   "outputs": [],
   "source": [
    "import traceback\n",
    "import sys\n",
    "\n",
    "try:\n",
    "    x = 1 / 0  # This will raise an exception\n",
    "except Exception as e:\n",
    "    exc_type, exc_value, exc_traceback = sys.exc_info()\n",
    "    line_number = exc_traceback.tb_lineno  # Get the line number within the cell\n",
    "    print(f\"Error: {e}, occurred in cell at line {line_number}\")\n",
    "    traceback.print_exc()  # Print the full traceback\n"
   ]
  },
  {
   "cell_type": "code",
   "execution_count": null,
   "metadata": {},
   "outputs": [],
   "source": []
  },
  {
   "cell_type": "code",
   "execution_count": 11,
   "metadata": {},
   "outputs": [],
   "source": [
    "from selenium.webdriver.support.ui import WebDriverWait\n",
    "from selenium.webdriver.support import expected_conditions as EC"
   ]
  },
  {
   "cell_type": "code",
   "execution_count": 18,
   "metadata": {},
   "outputs": [],
   "source": [
    "wait = WebDriverWait(msg_browser,20)\n",
    "# element = WebDriverWait(msg_browser, 20).until(EC.presence_of_element_located((By.ID, \"submit\"))"
   ]
  },
  {
   "cell_type": "code",
   "execution_count": null,
   "metadata": {},
   "outputs": [],
   "source": [
    "mais = \"/html/body/div[1]/div/div/div[3]/div[4]/div/footer/div[1]/div/span/div/div[1]/div[2]/div/div/div/span\"\n",
    "\n",
    "element = WebDriverWait(msg_browser, 200).until(EC.presence_of_element_located((By.XPATH, mais)))\n",
    "\n",
    "element.click()\n"
   ]
  },
  {
   "cell_type": "code",
   "execution_count": null,
   "metadata": {},
   "outputs": [],
   "source": []
  }
 ],
 "metadata": {
  "kernelspec": {
   "display_name": "base",
   "language": "python",
   "name": "python3"
  },
  "language_info": {
   "codemirror_mode": {
    "name": "ipython",
    "version": 3
   },
   "file_extension": ".py",
   "mimetype": "text/x-python",
   "name": "python",
   "nbconvert_exporter": "python",
   "pygments_lexer": "ipython3",
   "version": "3.11.4"
  }
 },
 "nbformat": 4,
 "nbformat_minor": 2
}
