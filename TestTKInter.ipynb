{
 "cells": [
  {
   "cell_type": "code",
   "execution_count": 89,
   "metadata": {},
   "outputs": [],
   "source": [
    "import tkinter as tk\n",
    "import tkinter.scrolledtext as st\n",
    "import time "
   ]
  },
  {
   "cell_type": "code",
   "execution_count": 90,
   "metadata": {},
   "outputs": [],
   "source": [
    "def acao():\n",
    "    for i in range(100):\n",
    "        txt_textogrande.insert(tk.END,'Linha {} de 10\\n'.format(i))\n",
    "\n",
    "        # tk.END faz o text scroll ir no fundo\n",
    "        txt_textogrande.see(tk.END)\n",
    "\n",
    "        # investigar o uso de after instead of sleep\n",
    "        # janela.after(2000,acao)\n",
    "        time.sleep(0.5)\n",
    "        janela.update()\n",
    "    return()"
   ]
  },
  {
   "cell_type": "code",
   "execution_count": null,
   "metadata": {},
   "outputs": [],
   "source": []
  },
  {
   "cell_type": "code",
   "execution_count": 91,
   "metadata": {},
   "outputs": [],
   "source": [
    "# criar a janela da aplicação\n",
    "janela = tk.Tk()"
   ]
  },
  {
   "cell_type": "code",
   "execution_count": 92,
   "metadata": {},
   "outputs": [
    {
     "data": {
      "text/plain": [
       "''"
      ]
     },
     "execution_count": 92,
     "metadata": {},
     "output_type": "execute_result"
    }
   ],
   "source": [
    "# titulo da janela\n",
    "janela.title('Titulo da Janela')"
   ]
  },
  {
   "cell_type": "code",
   "execution_count": 93,
   "metadata": {},
   "outputs": [],
   "source": [
    "lbl_qualquer = tk.Label(text='Um label qualquer aqui')\n",
    "lbl_qualquer.grid(row=0,column=0,sticky='NSEW',padx=10,pady=10)"
   ]
  },
  {
   "cell_type": "code",
   "execution_count": 94,
   "metadata": {},
   "outputs": [],
   "source": [
    "btn_acao = tk.Button(text='Inicio',command=acao)\n",
    "btn_acao.grid(row=1,column=0,sticky='NSEW',padx=10,pady=10)"
   ]
  },
  {
   "cell_type": "code",
   "execution_count": 95,
   "metadata": {},
   "outputs": [],
   "source": [
    "txt_textogrande = st.ScrolledText(janela,width = 30,height = 8)\n",
    "txt_textogrande.grid(row=2,column = 0, columnspan=3,sticky='NSEW', pady = 10, padx = 10)\n",
    "txt_textogrande.insert(tk.INSERT,'')"
   ]
  },
  {
   "cell_type": "code",
   "execution_count": 96,
   "metadata": {},
   "outputs": [],
   "source": [
    "janela.mainloop()"
   ]
  },
  {
   "cell_type": "markdown",
   "metadata": {},
   "source": [
    "https://web.whatsapp.com/send?phone=557191013035&text=MENSAGEM"
   ]
  }
 ],
 "metadata": {
  "kernelspec": {
   "display_name": "Python 3.9.7 ('base')",
   "language": "python",
   "name": "python3"
  },
  "language_info": {
   "codemirror_mode": {
    "name": "ipython",
    "version": 3
   },
   "file_extension": ".py",
   "mimetype": "text/x-python",
   "name": "python",
   "nbconvert_exporter": "python",
   "pygments_lexer": "ipython3",
   "version": "3.9.7"
  },
  "orig_nbformat": 4,
  "vscode": {
   "interpreter": {
    "hash": "25bb5942a58f981780efc8129914c41725ee639f796a0c6522abb294f50baf65"
   }
  }
 },
 "nbformat": 4,
 "nbformat_minor": 2
}
