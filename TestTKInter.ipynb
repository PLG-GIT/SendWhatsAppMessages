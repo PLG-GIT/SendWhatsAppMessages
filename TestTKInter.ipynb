{
 "cells": [
  {
   "cell_type": "code",
   "execution_count": 1,
   "metadata": {},
   "outputs": [],
   "source": [
    "import tkinter as tk\n",
    "import tkinter.scrolledtext as st\n",
    "import time "
   ]
  },
  {
   "cell_type": "code",
   "execution_count": 2,
   "metadata": {},
   "outputs": [],
   "source": [
    "def acao():\n",
    "    for i in range(100):\n",
    "        txt_textogrande.insert(tk.END,'Linha {} de 10\\n'.format(i))\n",
    "\n",
    "        # tk.END faz o text scroll ir no fundo\n",
    "        txt_textogrande.see(tk.END)\n",
    "\n",
    "        # investigar o uso de after instead of sleep\n",
    "        # janela.after(500,txt_textogrande.insert(tk.END,'Linha {} de 10\\n'.format(i)))\n",
    "        time.sleep(0.5)\n",
    "        janela.update()\n",
    "    return()"
   ]
  },
  {
   "cell_type": "code",
   "execution_count": null,
   "metadata": {},
   "outputs": [],
   "source": []
  },
  {
   "cell_type": "code",
   "execution_count": 3,
   "metadata": {},
   "outputs": [],
   "source": [
    "# criar a janela da aplicação\n",
    "janela = tk.Tk()"
   ]
  },
  {
   "cell_type": "code",
   "execution_count": 4,
   "metadata": {},
   "outputs": [
    {
     "data": {
      "text/plain": [
       "''"
      ]
     },
     "execution_count": 4,
     "metadata": {},
     "output_type": "execute_result"
    }
   ],
   "source": [
    "# titulo da janela\n",
    "janela.title('Titulo da Janela')"
   ]
  },
  {
   "cell_type": "code",
   "execution_count": 5,
   "metadata": {},
   "outputs": [],
   "source": [
    "lbl_qualquer = tk.Label(text='Um label qualquer aqui')\n",
    "lbl_qualquer.grid(row=0,column=0,sticky='NSEW',padx=10,pady=10)"
   ]
  },
  {
   "cell_type": "code",
   "execution_count": 6,
   "metadata": {},
   "outputs": [],
   "source": [
    "btn_acao = tk.Button(text='Inicio',command=acao)\n",
    "btn_acao.grid(row=1,column=0,sticky='NSEW',padx=10,pady=10)"
   ]
  },
  {
   "cell_type": "code",
   "execution_count": 7,
   "metadata": {},
   "outputs": [],
   "source": [
    "txt_textogrande = st.ScrolledText(janela,width = 30,height = 8)\n",
    "txt_textogrande.grid(row=2,column = 0, columnspan=3,sticky='NSEW', pady = 10, padx = 10)\n",
    "txt_textogrande.insert(tk.INSERT,'')"
   ]
  },
  {
   "cell_type": "code",
   "execution_count": 8,
   "metadata": {},
   "outputs": [
    {
     "name": "stderr",
     "output_type": "stream",
     "text": [
      "Exception in Tkinter callback\n",
      "Traceback (most recent call last):\n",
      "  File \"c:\\Users\\pgetar\\Anaconda3\\lib\\tkinter\\__init__.py\", line 1892, in __call__\n",
      "    return self.func(*args)\n",
      "  File \"C:\\Users\\pgetar\\AppData\\Local\\Temp/ipykernel_18768/1204731974.py\", line 3, in acao\n",
      "    txt_textogrande.insert(tk.END,'Linha {} de 10\\n'.format(i))\n",
      "  File \"c:\\Users\\pgetar\\Anaconda3\\lib\\tkinter\\__init__.py\", line 3743, in insert\n",
      "    self.tk.call((self._w, 'insert', index, chars) + args)\n",
      "_tkinter.TclError: invalid command name \".!frame.!scrolledtext\"\n"
     ]
    }
   ],
   "source": [
    "janela.mainloop()"
   ]
  },
  {
   "cell_type": "markdown",
   "metadata": {},
   "source": [
    "https://web.whatsapp.com/send?phone=557191013035&text=MENSAGEM"
   ]
  }
 ],
 "metadata": {
  "kernelspec": {
   "display_name": "Python 3.9.7 ('base')",
   "language": "python",
   "name": "python3"
  },
  "language_info": {
   "codemirror_mode": {
    "name": "ipython",
    "version": 3
   },
   "file_extension": ".py",
   "mimetype": "text/x-python",
   "name": "python",
   "nbconvert_exporter": "python",
   "pygments_lexer": "ipython3",
   "version": "3.9.7"
  },
  "orig_nbformat": 4,
  "vscode": {
   "interpreter": {
    "hash": "25bb5942a58f981780efc8129914c41725ee639f796a0c6522abb294f50baf65"
   }
  }
 },
 "nbformat": 4,
 "nbformat_minor": 2
}
