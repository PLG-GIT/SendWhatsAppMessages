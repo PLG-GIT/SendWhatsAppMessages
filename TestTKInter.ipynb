{
 "cells": [
  {
   "cell_type": "code",
   "execution_count": 8,
   "metadata": {},
   "outputs": [],
   "source": [
    "import tkinter as tk\n",
    "import tkinter.scrolledtext as st\n",
    "import time "
   ]
  },
  {
   "cell_type": "code",
   "execution_count": 9,
   "metadata": {},
   "outputs": [],
   "source": [
    "def do_some_action():\n",
    "    for i in range(10):\n",
    "        txt_bigtextlog.insert(tk.END,'Row text {} off 100\\n'.format(i))\n",
    "\n",
    "        # tk.END to point the scrolling text to latest line\n",
    "        txt_bigtextlog.see(tk.END)\n",
    "\n",
    "        # I´ve tried w/o success:\n",
    "        # mywindowapp.after(1000)\n",
    "        # btn_action.after(1000)\n",
    "        \n",
    "        time.sleep(1)\n",
    "        mywindowapp.update()\n",
    "    return()"
   ]
  },
  {
   "cell_type": "code",
   "execution_count": null,
   "metadata": {},
   "outputs": [],
   "source": []
  },
  {
   "cell_type": "code",
   "execution_count": 10,
   "metadata": {},
   "outputs": [],
   "source": [
    "# Create the application main window\n",
    "mywindowapp = tk.Tk()"
   ]
  },
  {
   "cell_type": "code",
   "execution_count": 11,
   "metadata": {},
   "outputs": [],
   "source": [
    "lbl_justsomelabel = tk.Label(text='Just some label here')\n",
    "lbl_justsomelabel.grid(row=0,column=0,sticky='NSEW',padx=10,pady=10)"
   ]
  },
  {
   "cell_type": "code",
   "execution_count": 12,
   "metadata": {},
   "outputs": [],
   "source": [
    "btn_action = tk.Button(text='Start process',command=do_some_action)\n",
    "btn_action.grid(row=1,column=0,sticky='NSEW',padx=10,pady=10)"
   ]
  },
  {
   "cell_type": "code",
   "execution_count": 13,
   "metadata": {},
   "outputs": [],
   "source": [
    "txt_bigtextlog = st.ScrolledText(mywindowapp,width = 30,height = 8)\n",
    "txt_bigtextlog.grid(row=2,column = 0, columnspan=3,sticky='NSEW', pady = 10, padx = 10)\n",
    "txt_bigtextlog.insert(tk.INSERT,'')"
   ]
  },
  {
   "cell_type": "code",
   "execution_count": 14,
   "metadata": {},
   "outputs": [
    {
     "name": "stderr",
     "output_type": "stream",
     "text": [
      "Exception in Tkinter callback\n",
      "Traceback (most recent call last):\n",
      "  File \"c:\\Users\\pgetar\\Anaconda3\\lib\\tkinter\\__init__.py\", line 1892, in __call__\n",
      "    return self.func(*args)\n",
      "  File \"C:\\Users\\pgetar\\AppData\\Local\\Temp/ipykernel_20408/3400295277.py\", line 3, in do_some_action\n",
      "    txt_bigtextlog.insert(tk.END,'Row text {} off 100\\n'.format(i))\n",
      "  File \"c:\\Users\\pgetar\\Anaconda3\\lib\\tkinter\\__init__.py\", line 3743, in insert\n",
      "    self.tk.call((self._w, 'insert', index, chars) + args)\n",
      "_tkinter.TclError: invalid command name \".!frame.!scrolledtext\"\n"
     ]
    }
   ],
   "source": [
    "mywindowapp.mainloop()"
   ]
  },
  {
   "cell_type": "markdown",
   "metadata": {},
   "source": [
    "https://web.whatsapp.com/send?phone=557191013035&text=MENSAGEM"
   ]
  }
 ],
 "metadata": {
  "kernelspec": {
   "display_name": "Python 3.9.7 ('base')",
   "language": "python",
   "name": "python3"
  },
  "language_info": {
   "codemirror_mode": {
    "name": "ipython",
    "version": 3
   },
   "file_extension": ".py",
   "mimetype": "text/x-python",
   "name": "python",
   "nbconvert_exporter": "python",
   "pygments_lexer": "ipython3",
   "version": "3.9.7"
  },
  "orig_nbformat": 4,
  "vscode": {
   "interpreter": {
    "hash": "25bb5942a58f981780efc8129914c41725ee639f796a0c6522abb294f50baf65"
   }
  }
 },
 "nbformat": 4,
 "nbformat_minor": 2
}
