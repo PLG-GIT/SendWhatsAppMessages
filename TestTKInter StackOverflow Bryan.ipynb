{
 "cells": [
  {
   "cell_type": "code",
   "execution_count": 15,
   "metadata": {},
   "outputs": [],
   "source": [
    "import tkinter as tk\n",
    "import tkinter.scrolledtext as st\n",
    "import time "
   ]
  },
  {
   "cell_type": "code",
   "execution_count": 16,
   "metadata": {},
   "outputs": [],
   "source": [
    "# this is the solution from Bryan Oakley\n",
    "# txt_bigtextlog.after(1000,do_some_action,i+1) is called in this way because the i+1 is not an argument of the function,\n",
    "# but another argument of after method\n",
    "# this version does not crush the process\n",
    "# Still, it is limited to the same function\n",
    "def do_some_action(i=0):\n",
    "    # write some text\n",
    "    txt_bigtextlog.insert(tk.END,'Row text {} off 100\\n'.format(i))\n",
    "    \n",
    "    # tk.END to point the scrolling text to latest line\n",
    "    txt_bigtextlog.see(tk.END)\n",
    "\n",
    "    if i<100:\n",
    "        txt_bigtextlog.after(1000,do_some_action,i+1)\n",
    "    \n",
    "    return()"
   ]
  },
  {
   "cell_type": "code",
   "execution_count": null,
   "metadata": {},
   "outputs": [],
   "source": []
  },
  {
   "cell_type": "code",
   "execution_count": 17,
   "metadata": {},
   "outputs": [],
   "source": [
    "# Create the application main window\n",
    "mywindowapp = tk.Tk()"
   ]
  },
  {
   "cell_type": "code",
   "execution_count": 18,
   "metadata": {},
   "outputs": [],
   "source": [
    "lbl_justsomelabel = tk.Label(text='Just some label here')\n",
    "lbl_justsomelabel.grid(row=0,column=0,sticky='NSEW',padx=10,pady=10)"
   ]
  },
  {
   "cell_type": "code",
   "execution_count": 19,
   "metadata": {},
   "outputs": [],
   "source": [
    "btn_action = tk.Button(text='Start process',command=do_some_action)\n",
    "btn_action.grid(row=1,column=0,sticky='NSEW',padx=10,pady=10)"
   ]
  },
  {
   "cell_type": "code",
   "execution_count": 20,
   "metadata": {},
   "outputs": [],
   "source": [
    "txt_bigtextlog = st.ScrolledText(mywindowapp,width = 30,height = 8)\n",
    "txt_bigtextlog.grid(row=2,column = 0, columnspan=3,sticky='NSEW', pady = 10, padx = 10)\n",
    "txt_bigtextlog.insert(tk.INSERT,'')"
   ]
  },
  {
   "cell_type": "code",
   "execution_count": 21,
   "metadata": {},
   "outputs": [],
   "source": [
    "mywindowapp.mainloop()"
   ]
  },
  {
   "cell_type": "markdown",
   "metadata": {},
   "source": [
    "https://web.whatsapp.com/send?phone=557191013035&text=MENSAGEM"
   ]
  }
 ],
 "metadata": {
  "kernelspec": {
   "display_name": "Python 3.9.7 ('base')",
   "language": "python",
   "name": "python3"
  },
  "language_info": {
   "codemirror_mode": {
    "name": "ipython",
    "version": 3
   },
   "file_extension": ".py",
   "mimetype": "text/x-python",
   "name": "python",
   "nbconvert_exporter": "python",
   "pygments_lexer": "ipython3",
   "version": "3.9.7"
  },
  "orig_nbformat": 4,
  "vscode": {
   "interpreter": {
    "hash": "25bb5942a58f981780efc8129914c41725ee639f796a0c6522abb294f50baf65"
   }
  }
 },
 "nbformat": 4,
 "nbformat_minor": 2
}
