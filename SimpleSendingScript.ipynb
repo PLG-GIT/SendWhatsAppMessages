{
 "cells": [
  {
   "cell_type": "markdown",
   "metadata": {},
   "source": [
    "Script para envio de mensagens simples  \n",
    "Premisas:  \n",
    "1. Carregar bibliotecas necessarias\n",
    "    1. Pandas\n",
    "    2. Selenium\n",
    "    3. Webdriver Manager\n",
    "    4. Time\n",
    "2. Carregar arquivo de mensagens en dataframe\n",
    "3. Limpar dataframe  \n",
    "    1. Eliminar linhas sem mensagens\n",
    "    2. Eliinar linhas sem telefones\n",
    "    3. Eliminar colunas desnecessarias\n",
    "    4. Obter o total de linhas\n",
    "    5. Resetar indice\n",
    "4. Abrir o Navegador\n",
    "5. Abrir o WhatsappWeb\n",
    "6. Esperar conexão do celular\n",
    "7. Iniciar Loop de envio de imagens\n",
    "    1. Enviar mensagem\n",
    "    2. Iniciar Loop de envio de imagens"
   ]
  },
  {
   "cell_type": "markdown",
   "metadata": {},
   "source": [
    "Carregar bibliotecas necessarias"
   ]
  },
  {
   "cell_type": "code",
   "execution_count": null,
   "metadata": {},
   "outputs": [],
   "source": [
    "import pandas as pd\n",
    "\n",
    "# necessary libraries for Chrome operations:\n",
    "from selenium import webdriver\n",
    "from selenium.webdriver.common.by import By\n",
    "from selenium.webdriver.support.ui import WebDriverWait\n",
    "from selenium.webdriver.support import expected_conditions\n",
    "from selenium.webdriver.common.keys import Keys\n",
    "from selenium.common.exceptions import NoSuchElementException\n",
    "\n",
    "# modified 29-oct-23\n",
    "from selenium.webdriver.chrome.service import Service\n",
    "\n",
    "# pip install webdriver_manager\n",
    "# This librari updates automatically the Browser Manger (in this case, Chrome)\n",
    "from webdriver_manager.chrome import ChromeDriverManager\n",
    "\n",
    "# Necessary to convert messages from ASCII text into URL aceptable addresses (convert special characters, spaces, etc)\n",
    "import urllib\n",
    "\n",
    "# Just to get image file name from full path\n",
    "from pathlib import Path\n",
    "\n",
    "# Time to allow program wait few seconds during Chrome operations\n",
    "import time\n",
    "\n",
    "# To allow randomic waiting times (important to avoid Whatsapp account blocking)\n",
    "import random\n",
    "\n",
    "# Datetime to store current date of messages sent\n",
    "# from datetime import date\n",
    "import datetime as dt\n",
    "\n",
    "# importar Tkinter\n",
    "import tkinter as tk\n",
    "from tkinter import filedialog as fd"
   ]
  },
  {
   "cell_type": "markdown",
   "metadata": {},
   "source": [
    "Carregar arquivo de mensagens en dataframe"
   ]
  },
  {
   "cell_type": "code",
   "execution_count": null,
   "metadata": {},
   "outputs": [],
   "source": [
    "arquivo_de_mensagens = fd.askopenfilename(\n",
    "    title='Selecione o arquivo Excel com a lista de destinatarios',\n",
    "    filetypes=[('Arquivo Excel','.xls'),('Arquivo Excel','.xlsx')]\n",
    "    )\n",
    "\n",
    "contacts_df = pd.read_excel(arquivo_de_mensagens, sheet_name='CLIENTES')"
   ]
  },
  {
   "cell_type": "markdown",
   "metadata": {},
   "source": [
    "Carregar lista de imagens"
   ]
  },
  {
   "cell_type": "code",
   "execution_count": null,
   "metadata": {},
   "outputs": [],
   "source": [
    "# selecionar arquivos de imagen\n",
    "\n",
    "images_types = [\n",
    "        ('Arquivos de imagen','.jpg'),\n",
    "        ('Arquivos de imagen','.jpeg'),\n",
    "        ('Arquivos de imagen','.png'),\n",
    "        ('Arquivos de imagen','.gif'),\n",
    "        ]\n",
    " \n",
    "imgs_path = sorted(list(fd.askopenfilenames(title='Selecione as imagens a enviar',filetypes=images_types)))"
   ]
  },
  {
   "cell_type": "code",
   "execution_count": null,
   "metadata": {},
   "outputs": [],
   "source": [
    "imgs_path"
   ]
  },
  {
   "cell_type": "markdown",
   "metadata": {},
   "source": [
    "Limpar dataframe"
   ]
  },
  {
   "cell_type": "code",
   "execution_count": null,
   "metadata": {},
   "outputs": [],
   "source": [
    "# 1. Eliminar linhas sem mensagens\n",
    "contacts_df = contacts_df[~contacts_df['MENSAGEM'].isnull()]\n",
    "\n",
    "# 2. Eliinar linhas sem telefones\n",
    "contacts_df = contacts_df[~contacts_df['TELEFONE'].isnull()]\n",
    "\n",
    "# 3. Reset index\n",
    "contacts_df.reset_index(inplace=True)\n",
    "\n",
    "# 4. Eliminar colunas desnecessarias\n",
    "contacts_df = contacts_df[['CLIENTE','TELEFONE','MENSAGEM']]\n",
    "\n",
    "# 5. Obter o total de linhas\n",
    "numero_de_mensagens = contacts_df['MENSAGEM'].count()\n",
    "\n",
    "print('Serão enviadas {} mensagens'.format(numero_de_mensagens))"
   ]
  },
  {
   "cell_type": "code",
   "execution_count": null,
   "metadata": {},
   "outputs": [],
   "source": [
    "# visualizar dataframe\n",
    "contacts_df"
   ]
  },
  {
   "cell_type": "markdown",
   "metadata": {},
   "source": [
    "Abrir o Navegador"
   ]
  },
  {
   "cell_type": "code",
   "execution_count": null,
   "metadata": {},
   "outputs": [],
   "source": [
    "# Criar uma instancia do Google Chrome\n",
    "msg_browser = webdriver.Chrome()"
   ]
  },
  {
   "cell_type": "markdown",
   "metadata": {},
   "source": [
    "Abrir o WhatsappWeb"
   ]
  },
  {
   "cell_type": "code",
   "execution_count": null,
   "metadata": {},
   "outputs": [],
   "source": [
    "# Navegar até o WhatsApp Web\n",
    "msg_browser.get(\"https://web.whatsapp.com/\")\n",
    "time.sleep(2)"
   ]
  },
  {
   "cell_type": "markdown",
   "metadata": {},
   "source": [
    "Esperar conexão do celular"
   ]
  },
  {
   "cell_type": "code",
   "execution_count": null,
   "metadata": {},
   "outputs": [],
   "source": [
    "# Esperar pela lista de contatos do WhatsApp por X segundos\n",
    "# Isto indica que podemos começar a enviar mensagens\n",
    "while len(msg_browser.find_elements(By.ID,\"side\")) < 1:\n",
    "    time.sleep(1)"
   ]
  },
  {
   "cell_type": "markdown",
   "metadata": {},
   "source": [
    "Iniciar Loop de envio de mensagens e imagens"
   ]
  },
  {
   "cell_type": "code",
   "execution_count": null,
   "metadata": {},
   "outputs": [],
   "source": [
    "for j, mensagem in enumerate(contacts_df['MENSAGEM']):\n",
    "    \n",
    "    cliente = contacts_df.loc[j,'CLIENTE']\n",
    "    telefone = contacts_df.loc[j,'TELEFONE']\n",
    "    print(j, cliente, telefone)\n",
    "\n",
    "    # Converter a mensagem de ASCII para texto plano para ser usada como URL\n",
    "    url_mensagem = urllib.parse.quote(f\"{mensagem}\")\n",
    "\n",
    "    # Construir o link\n",
    "    link = f\"https://web.whatsapp.com/send?phone={telefone}&text={url_mensagem}\"\n",
    "\n",
    "    # ir no link com a mensagem e o telefone\n",
    "    msg_browser.get(link)\n",
    "    time.sleep(3)\n",
    "\n",
    "    # verificar se o botão de envio fica disponivel ou aparece um pop-up de telefone errado\n",
    "    botao_envio = \"span[data-icon='send']\"\n",
    "    botao_telefone_errado = '//*[@id=\"app\"]/div/span[2]/div/span/div/div/div/div/div/div[2]/div/button'\n",
    "\n",
    "    envio_disponivel = False\n",
    "    telefone_errado = False\n",
    "\n",
    "    # enquanto não aparecer o botão de envio\n",
    "    # ou a janela pop_up de telefone errado\n",
    "    # ficar neste loop\n",
    "    while (not(envio_disponivel) and not(telefone_errado)):\n",
    "        \n",
    "        # capturar se aparece o botão de envio\n",
    "        try:\n",
    "            msg_browser.find_element(By.CSS_SELECTOR,botao_envio)\n",
    "            envio_disponivel = True\n",
    "\n",
    "        except NoSuchElementException:\n",
    "            envio_disponivel = False\n",
    "        \n",
    "        # capturar se aparece telefone errado\n",
    "        try:\n",
    "            msg_browser.find_element(By.XPATH,botao_telefone_errado)\n",
    "            telefone_errado = True\n",
    "        except NoSuchElementException:\n",
    "            telefone_errado = False\n",
    "        \n",
    "        time.sleep(1)\n",
    "    \n",
    "    # uma vez que apareceu um deles\n",
    "    # tomar ação correspondente\n",
    "    # estas opções são em teoria mutuamente excludentes\n",
    "    if envio_disponivel:\n",
    "        # clicar no botão de envio\n",
    "        msg_browser.find_element(By.CSS_SELECTOR,\"span[data-icon='send']\").click()\n",
    "        time.sleep(2)\n",
    "\n",
    "        # agora começar a enviar as imagens\n",
    "        for i, img_file in enumerate(imgs_path):\n",
    "            # buscar sinal de + (antigo clip)\n",
    "            \n",
    "\n",
    "            # modificado em 03-Aug-2024\n",
    "            # msg_browser.find_element(By.CSS_SELECTOR,\"span[data-icon='attach-menu-plus']\").click()\n",
    "            msg_browser.find_element(By.CSS_SELECTOR,\"#main > footer > div._ak1k.xnpuxes.copyable-area > div > span:nth-child(2) > div > div._ak1t._ak1m > div._ak1o > div > div > div > span\").click() \n",
    "\n",
    "            time.sleep(1)\n",
    "            # abrir a janela para selecionar o arquivo e enviar as teclas\n",
    "            msg_browser.find_element(By.XPATH,'//*[@id=\"main\"]/footer/div[1]/div/span[2]/div/div[1]/div[2]/div/span/div/ul/div/div[2]/li/div/input').send_keys(img_file)\n",
    "            time.sleep(1)\n",
    "            # clicar no triangulo de enviar (es mejor que el Enter)\n",
    "            msg_browser.find_element(By.CSS_SELECTOR,\"span[data-icon='send']\").click()\n",
    "            time.sleep(1)\n",
    "\n",
    "    if telefone_errado:\n",
    "        # clicar no botao de ok para continuar\n",
    "        msg_browser.find_element(By.XPATH,botao_telefone_errado).click()\n",
    "        time.sleep(2)\n",
    "\n",
    "    # aguardar um pouco ate a proxima mensagem\n",
    "    time.sleep(random.randint(3,7))  "
   ]
  },
  {
   "cell_type": "code",
   "execution_count": null,
   "metadata": {},
   "outputs": [],
   "source": [
    "# modificado em 03-Aug-2024\n",
    "# msg_browser.find_element(By.CSS_SELECTOR,\"span[data-icon='attach-menu-plus']\").click()\n",
    "msg_browser.find_element(By.CSS_SELECTOR,\"#main > footer > div._ak1k.xnpuxes.copyable-area > div > span:nth-child(2) > div > div._ak1t._ak1m > div._ak1o > div > div > div > span\").click() "
   ]
  },
  {
   "cell_type": "code",
   "execution_count": null,
   "metadata": {},
   "outputs": [],
   "source": [
    "msg_browser.find_element(By.XPATH,'//*[@id=\"main\"]/footer/div[1]/div/span[2]/div/div[1]/div[2]/div/span/div/ul/div/div[2]/li/div/input').send_keys(img_file)\n"
   ]
  },
  {
   "cell_type": "code",
   "execution_count": null,
   "metadata": {},
   "outputs": [],
   "source": [
    "msg_browser.find_element(By.CSS_SELECTOR,\"span[data-icon='send']\").click()"
   ]
  },
  {
   "cell_type": "code",
   "execution_count": null,
   "metadata": {},
   "outputs": [],
   "source": []
  }
 ],
 "metadata": {
  "kernelspec": {
   "display_name": "base",
   "language": "python",
   "name": "python3"
  },
  "language_info": {
   "codemirror_mode": {
    "name": "ipython",
    "version": 3
   },
   "file_extension": ".py",
   "mimetype": "text/x-python",
   "name": "python",
   "nbconvert_exporter": "python",
   "pygments_lexer": "ipython3",
   "version": "3.11.4"
  }
 },
 "nbformat": 4,
 "nbformat_minor": 2
}
