{
 "cells": [
  {
   "cell_type": "markdown",
   "metadata": {},
   "source": [
    "Script para envio de mensagens simples  \n",
    "Premisas:  \n",
    "1. Carregar bibliotecas necessarias\n",
    "    1. Pandas\n",
    "    2. Selenium\n",
    "    3. Webdriver Manager\n",
    "    4. Time\n",
    "2. Carregar arquivo de mensagens en dataframe\n",
    "3. Limpar dataframe  \n",
    "    1. Eliminar linhas sem mensagens\n",
    "    2. Eliinar linhas sem telefones\n",
    "    3. Eliminar colunas desnecessarias\n",
    "    4. Obter o total de linhas\n",
    "    5. Resetar indice\n",
    "4. Abrir o Navegador\n",
    "5. Abrir o WhatsappWeb\n",
    "6. Esperar conexão do celular\n",
    "7. Iniciar Loop de envio de imagens\n",
    "    1. Enviar mensagem\n",
    "    2. Iniciar Loop de envio de imagens"
   ]
  },
  {
   "cell_type": "markdown",
   "metadata": {},
   "source": [
    "# Carregar bibliotecas necessarias"
   ]
  },
  {
   "cell_type": "code",
   "execution_count": 1,
   "metadata": {},
   "outputs": [],
   "source": [
    "import pandas as pd\n",
    "\n",
    "# necessary libraries for Chrome operations:\n",
    "from selenium import webdriver\n",
    "from selenium.webdriver.common.by import By\n",
    "from selenium.webdriver.support.ui import WebDriverWait\n",
    "from selenium.webdriver.support import expected_conditions\n",
    "from selenium.webdriver.common.keys import Keys\n",
    "from selenium.common.exceptions import NoSuchElementException\n",
    "\n",
    "# modified 29-oct-23\n",
    "from selenium.webdriver.chrome.service import Service\n",
    "\n",
    "# pip install webdriver_manager\n",
    "# This librari updates automatically the Browser Manger (in this case, Chrome)\n",
    "from webdriver_manager.chrome import ChromeDriverManager\n",
    "\n",
    "# Necessary to convert messages from ASCII text into URL aceptable addresses (convert special characters, spaces, etc)\n",
    "import urllib\n",
    "\n",
    "# Just to get image file name from full path\n",
    "from pathlib import Path\n",
    "\n",
    "# Time to allow program wait few seconds during Chrome operations\n",
    "import time\n",
    "\n",
    "# To allow randomic waiting times (important to avoid Whatsapp account blocking)\n",
    "import random\n",
    "\n",
    "# Datetime to store current date of messages sent\n",
    "# from datetime import date\n",
    "import datetime as dt\n",
    "\n",
    "# importar Tkinter\n",
    "import tkinter as tk\n",
    "from tkinter import filedialog as fd"
   ]
  },
  {
   "cell_type": "markdown",
   "metadata": {},
   "source": [
    "# Defnir Botoes e clicaveis\n",
    "\n",
    "Nota: ao deixar as definições de objetos clicaveis num arquivo separado, consigo editar caso mude algo sem recompilar"
   ]
  },
  {
   "cell_type": "code",
   "execution_count": 2,
   "metadata": {},
   "outputs": [],
   "source": [
    "# carregar base de dados de objetos clicaveis\n",
    "objetos = pd.read_csv(\"SendWhatsAppMsgObjects.CSV\",delimiter=';',encoding='latin-1')"
   ]
  },
  {
   "cell_type": "code",
   "execution_count": 3,
   "metadata": {},
   "outputs": [],
   "source": [
    "# clicaveis referentes ao envio de mensagens\n",
    "\n",
    "botao_envio_ccs = objetos.loc[objetos['Object']=='botao_envio_ccs','String'].values[0]\n",
    "# botão de envio de mensagem\n",
    "\n",
    "popup_ccs = objetos.loc[objetos['Object']=='popup_ccs','String'].values[0]\n",
    "# identificador do popup do telefone errado\n",
    "\n",
    "popup_ok_ccs = objetos.loc[objetos['Object']=='popup_ok_ccs','String'].values[0]\n",
    "# botão de ok no popup de telefone errado"
   ]
  },
  {
   "cell_type": "code",
   "execution_count": 4,
   "metadata": {},
   "outputs": [],
   "source": [
    "# clicaveis referentes ao envio de imagens\n",
    "\n",
    "botao_anexar = objetos.loc[objetos['Object']=='botao_anexar','String'].values[0]\n",
    "# via CCS Selector\n",
    "# este é o sinal de \"mais\" para iniciar o envio de anexos\n",
    "\n",
    "fotos_e_videos = objetos.loc[objetos['Object']=='fotos_e_videos','String'].values[0]\n",
    "# via xpath\n",
    "# NOTA 24-11 este e o caminho certo. Termina em Input. Com isto nao precisa o botao de enviar imagens\n",
    "\n",
    "botao_enviar_imagens = objetos.loc[objetos['Object']=='botao_enviar_imagens','String'].values[0]\n",
    "# via CCS Selector\n",
    "# este é o botão triangulo verde"
   ]
  },
  {
   "cell_type": "raw",
   "metadata": {
    "vscode": {
     "languageId": "raw"
    }
   },
   "source": [
    "# clicaveis referentes ao envio de mensagens\n",
    "\n",
    "botao_envio_ccs = \"[aria-label='Enviar']\"\n",
    "# botão de envio de mensagem\n",
    "\n",
    "popup_ccs = \"[aria-label='O número de telefone compartilhado por url é inválido.']\"\n",
    "# identificador do popup do telefone errado\n",
    "\n",
    "popup_ok_ccs = '#app > div > span:nth-child(3) > div > span > div > div > div > div > div > div.x78zum5.x8hhl5t.x13a6bvl.x13crsa5.x1mpkggp.x18d9i69.x1t2a60a.xp4054r.xuxw1ft > div > button'\n",
    "# botão de ok no popup de telefone errado"
   ]
  },
  {
   "cell_type": "raw",
   "metadata": {
    "vscode": {
     "languageId": "raw"
    }
   },
   "source": [
    "# clicaveis referentes ao envio de imagens\n",
    "\n",
    "botao_anexar = \"[aria-label='Anexar']\"\n",
    "# via CCS Selector\n",
    "# este é o sinal de \"mais\" para iniciar o envio de anexos\n",
    "\n",
    "fotos_e_videos = '//*[@id=\"app\"]/div/span[5]/div/ul/div/div/div[2]/li/div/input'\n",
    "# via xpath\n",
    "# NOTA 24-11 este e o caminho certo. Termina em Input. Com isto nao precisa o botao de enviar imagens\n",
    "\n",
    "botao_enviar_imagens = \"[aria-label='Enviar']\"\n",
    "# via CCS Selector\n",
    "# este é o botão triangulo verde"
   ]
  },
  {
   "cell_type": "markdown",
   "metadata": {},
   "source": [
    "# Carregar arquivo de mensagens en dataframe"
   ]
  },
  {
   "cell_type": "code",
   "execution_count": 5,
   "metadata": {},
   "outputs": [],
   "source": [
    "arquivo_de_mensagens = fd.askopenfilename(\n",
    "    title='Selecione o arquivo Excel com a lista de destinatarios',\n",
    "    filetypes=[('Arquivo Excel','.xls'),('Arquivo Excel','.xlsx')]\n",
    "    )\n",
    "\n",
    "contacts_df = pd.read_excel(arquivo_de_mensagens, sheet_name='CLIENTES')"
   ]
  },
  {
   "cell_type": "markdown",
   "metadata": {},
   "source": [
    "# Carregar lista de imagens"
   ]
  },
  {
   "cell_type": "code",
   "execution_count": 6,
   "metadata": {},
   "outputs": [],
   "source": [
    "# selecionar arquivos de imagen\n",
    "\n",
    "images_types = [\n",
    "        ('Arquivos de imagen','.jpg'),\n",
    "        ('Arquivos de imagen','.jpeg'),\n",
    "        ('Arquivos de imagen','.png'),\n",
    "        ('Arquivos de imagen','.gif'),\n",
    "        ]\n",
    " \n",
    "imgs_path = sorted(list(fd.askopenfilenames(title='Selecione as imagens a enviar',filetypes=images_types)))"
   ]
  },
  {
   "cell_type": "code",
   "execution_count": 7,
   "metadata": {},
   "outputs": [
    {
     "data": {
      "text/plain": [
       "['C:/SendWhatsAppMessagesV2/Imagens de teste/TESTING IMAGE 1080 X 1350 jpg.jpg',\n",
       " 'C:/SendWhatsAppMessagesV2/Imagens de teste/TESTING IMAGE 1920 X 1080 png.PNG']"
      ]
     },
     "execution_count": 7,
     "metadata": {},
     "output_type": "execute_result"
    }
   ],
   "source": [
    "imgs_path"
   ]
  },
  {
   "cell_type": "markdown",
   "metadata": {},
   "source": [
    "# Limpar dataframe"
   ]
  },
  {
   "cell_type": "code",
   "execution_count": 8,
   "metadata": {},
   "outputs": [
    {
     "name": "stdout",
     "output_type": "stream",
     "text": [
      "Serão enviadas 11 mensagens\n"
     ]
    }
   ],
   "source": [
    "# 1. Eliminar linhas sem mensagens\n",
    "contacts_df = contacts_df[~contacts_df['MENSAGEM'].isnull()]\n",
    "\n",
    "# 2. Eliinar linhas sem telefones\n",
    "contacts_df = contacts_df[~contacts_df['TELEFONE'].isnull()]\n",
    "\n",
    "# 3. Reset index\n",
    "contacts_df.reset_index(inplace=True)\n",
    "\n",
    "# 4. Eliminar colunas desnecessarias\n",
    "contacts_df = contacts_df[['CLIENTE','TELEFONE','MENSAGEM']]\n",
    "\n",
    "# 5. Obter o total de linhas\n",
    "numero_de_mensagens = contacts_df['MENSAGEM'].count()\n",
    "\n",
    "print('Serão enviadas {} mensagens'.format(numero_de_mensagens))"
   ]
  },
  {
   "cell_type": "code",
   "execution_count": 9,
   "metadata": {},
   "outputs": [
    {
     "data": {
      "text/html": [
       "<div>\n",
       "<style scoped>\n",
       "    .dataframe tbody tr th:only-of-type {\n",
       "        vertical-align: middle;\n",
       "    }\n",
       "\n",
       "    .dataframe tbody tr th {\n",
       "        vertical-align: top;\n",
       "    }\n",
       "\n",
       "    .dataframe thead th {\n",
       "        text-align: right;\n",
       "    }\n",
       "</style>\n",
       "<table border=\"1\" class=\"dataframe\">\n",
       "  <thead>\n",
       "    <tr style=\"text-align: right;\">\n",
       "      <th></th>\n",
       "      <th>CLIENTE</th>\n",
       "      <th>TELEFONE</th>\n",
       "      <th>MENSAGEM</th>\n",
       "    </tr>\n",
       "  </thead>\n",
       "  <tbody>\n",
       "    <tr>\n",
       "      <th>0</th>\n",
       "      <td>Antonio</td>\n",
       "      <td>54 9 11 4428-4423</td>\n",
       "      <td>Mensaje de prueba para Antonio\\n\\nLinea nueva ...</td>\n",
       "    </tr>\n",
       "    <tr>\n",
       "      <th>1</th>\n",
       "      <td>Christian</td>\n",
       "      <td>55 (71) 99924-0327</td>\n",
       "      <td>Mensaje de prueba para Christian\\n\\nLinea nuev...</td>\n",
       "    </tr>\n",
       "    <tr>\n",
       "      <th>2</th>\n",
       "      <td>Diego</td>\n",
       "      <td>55 (71) 99956-7221</td>\n",
       "      <td>Mensaje de prueba para Diego\\n\\nLinea nueva _i...</td>\n",
       "    </tr>\n",
       "    <tr>\n",
       "      <th>3</th>\n",
       "      <td>Izabel Wrong Number</td>\n",
       "      <td>55 (555) 99308-2372</td>\n",
       "      <td>Mensaje de prueba para Izabel Wrong Number\\n\\n...</td>\n",
       "    </tr>\n",
       "    <tr>\n",
       "      <th>4</th>\n",
       "      <td>Izabel</td>\n",
       "      <td>55 (71) 99308-2372</td>\n",
       "      <td>Mensaje de prueba para Izabel\\n\\nLinea nueva _...</td>\n",
       "    </tr>\n",
       "    <tr>\n",
       "      <th>5</th>\n",
       "      <td>Lukas</td>\n",
       "      <td>55 (71) 99614-9336</td>\n",
       "      <td>Mensaje de prueba para Lukas\\n\\nLinea nueva _i...</td>\n",
       "    </tr>\n",
       "    <tr>\n",
       "      <th>6</th>\n",
       "      <td>Pablo</td>\n",
       "      <td>55(71) 99101-3035</td>\n",
       "      <td>Mensaje de prueba para Pablo\\n\\nLinea nueva _i...</td>\n",
       "    </tr>\n",
       "    <tr>\n",
       "      <th>7</th>\n",
       "      <td>Pablo Wrong Number</td>\n",
       "      <td>55(111) 99101-3035</td>\n",
       "      <td>Mensaje de prueba para Pablo Wrong Number\\n\\nL...</td>\n",
       "    </tr>\n",
       "    <tr>\n",
       "      <th>8</th>\n",
       "      <td>Rafinha</td>\n",
       "      <td>55 (71) 99622-2775</td>\n",
       "      <td>Mensaje de prueba para Rafinha\\n\\nLinea nueva ...</td>\n",
       "    </tr>\n",
       "    <tr>\n",
       "      <th>9</th>\n",
       "      <td>Rodrigo</td>\n",
       "      <td>54 9 11 4149-4402</td>\n",
       "      <td>Mensaje de prueba para Rodrigo\\n\\nLinea nueva ...</td>\n",
       "    </tr>\n",
       "    <tr>\n",
       "      <th>10</th>\n",
       "      <td>Taly</td>\n",
       "      <td>55 (71) 99936-2343</td>\n",
       "      <td>Mensaje de prueba para Taly\\n\\nLinea nueva _it...</td>\n",
       "    </tr>\n",
       "  </tbody>\n",
       "</table>\n",
       "</div>"
      ],
      "text/plain": [
       "                CLIENTE             TELEFONE  \\\n",
       "0               Antonio    54 9 11 4428-4423   \n",
       "1             Christian   55 (71) 99924-0327   \n",
       "2                 Diego   55 (71) 99956-7221   \n",
       "3   Izabel Wrong Number  55 (555) 99308-2372   \n",
       "4                Izabel   55 (71) 99308-2372   \n",
       "5                 Lukas   55 (71) 99614-9336   \n",
       "6                 Pablo    55(71) 99101-3035   \n",
       "7    Pablo Wrong Number   55(111) 99101-3035   \n",
       "8               Rafinha   55 (71) 99622-2775   \n",
       "9               Rodrigo    54 9 11 4149-4402   \n",
       "10                 Taly   55 (71) 99936-2343   \n",
       "\n",
       "                                             MENSAGEM  \n",
       "0   Mensaje de prueba para Antonio\\n\\nLinea nueva ...  \n",
       "1   Mensaje de prueba para Christian\\n\\nLinea nuev...  \n",
       "2   Mensaje de prueba para Diego\\n\\nLinea nueva _i...  \n",
       "3   Mensaje de prueba para Izabel Wrong Number\\n\\n...  \n",
       "4   Mensaje de prueba para Izabel\\n\\nLinea nueva _...  \n",
       "5   Mensaje de prueba para Lukas\\n\\nLinea nueva _i...  \n",
       "6   Mensaje de prueba para Pablo\\n\\nLinea nueva _i...  \n",
       "7   Mensaje de prueba para Pablo Wrong Number\\n\\nL...  \n",
       "8   Mensaje de prueba para Rafinha\\n\\nLinea nueva ...  \n",
       "9   Mensaje de prueba para Rodrigo\\n\\nLinea nueva ...  \n",
       "10  Mensaje de prueba para Taly\\n\\nLinea nueva _it...  "
      ]
     },
     "execution_count": 9,
     "metadata": {},
     "output_type": "execute_result"
    }
   ],
   "source": [
    "# visualizar dataframe\n",
    "contacts_df"
   ]
  },
  {
   "cell_type": "markdown",
   "metadata": {},
   "source": [
    "# Abrir o Navegador"
   ]
  },
  {
   "cell_type": "code",
   "execution_count": 10,
   "metadata": {},
   "outputs": [],
   "source": [
    "# Criar uma instancia do Google Chrome\n",
    "msg_browser = webdriver.Chrome()"
   ]
  },
  {
   "cell_type": "markdown",
   "metadata": {},
   "source": [
    "# Abrir o WhatsappWeb"
   ]
  },
  {
   "cell_type": "code",
   "execution_count": 11,
   "metadata": {},
   "outputs": [],
   "source": [
    "# Navegar até o WhatsApp Web\n",
    "msg_browser.get(\"https://web.whatsapp.com/\")\n",
    "time.sleep(2)"
   ]
  },
  {
   "cell_type": "markdown",
   "metadata": {},
   "source": [
    "# Esperar conexão do celular"
   ]
  },
  {
   "cell_type": "code",
   "execution_count": 12,
   "metadata": {},
   "outputs": [],
   "source": [
    "# Esperar pela lista de contatos do WhatsApp por X segundos\n",
    "# Isto indica que podemos começar a enviar mensagens\n",
    "while len(msg_browser.find_elements(By.ID,\"side\")) < 1:\n",
    "    time.sleep(1)"
   ]
  },
  {
   "cell_type": "markdown",
   "metadata": {},
   "source": [
    "# Testes\n",
    "\n",
    "Estes testes funcionaram em 20/11\n",
    "\n",
    "a maior alteração foi a deteção do botão a traves do aria-label"
   ]
  },
  {
   "cell_type": "markdown",
   "metadata": {},
   "source": [
    "# Rotina de envio de mensagens\n",
    "\n",
    "Nota 20-11-2024: utilizando Aria-label no CCS Selector funciona bem.\n",
    "\n",
    "Nota 24-11-2024: esta serie de clicaveis esta funciondo\n",
    "\n",
    "Agora temos que verificar algumas melhorias:\n",
    "\n",
    "1) Encapsular toda a rotina desde o link num try/except, caso de erro, a mensagem nao foi enviada\n",
    "2) Tal vez utilizar Expected conditions para o envio de imagens\n",
    "3) Salvar as definições de clicaveis num arquivo, tal vez em CSV, para termos o tipo (Xpath, CCS, etc) e o identificador.\n",
    "4) Melhorar a saida de registro do Timestamp, tal vez para um dado de tipo data/hora ao inves de string."
   ]
  },
  {
   "cell_type": "code",
   "execution_count": 13,
   "metadata": {},
   "outputs": [],
   "source": [
    "for j, mensagem in enumerate(contacts_df['MENSAGEM']):\n",
    "\n",
    "    # pegar os dados da linha j\n",
    "    # mensagem = contacts_df.loc[j,'MENSAGEM']\n",
    "    cliente = contacts_df.loc[j,'CLIENTE']\n",
    "    telefone = contacts_df.loc[j,'TELEFONE']\n",
    "        \n",
    "    # Criar e Abrir Link\n",
    "    \n",
    "    # Converter a mensagem de ASCII para texto plano para ser usada como URL\n",
    "    url_mensagem = urllib.parse.quote(f\"{mensagem}\")\n",
    "    \n",
    "    # Construir o link\n",
    "    link = f\"https://web.whatsapp.com/send?phone={telefone}&text={url_mensagem}\"\n",
    "    \n",
    "    # aqui teria que ir um try\n",
    "    try:\n",
    "\n",
    "        # abrir o link\n",
    "        msg_browser.get(link)\n",
    "        \n",
    "        # Depois do link, esperar ou o botão de envio, ou o pop up de telefone errado\n",
    "        telefone_errado = False\n",
    "        envio_disponivel = False\n",
    "\n",
    "        while not(telefone_errado) and not(envio_disponivel):\n",
    "            try:\n",
    "                msg_browser.find_element(By.CSS_SELECTOR,botao_envio_ccs)\n",
    "                envio_disponivel = True\n",
    "                # se passou por aqui, quer dizer que o botão de envio esta disponivel\n",
    "                # print(\"Encontrei o botão de envio\")\n",
    "            except NoSuchElementException:\n",
    "                # se não, então o botão de envio não esta disponvivel,\n",
    "                # e temos que ver se esta o pop up de telefone errado\n",
    "                # print(\"Nao encontrei botão de envio, vou tentar o popup\")\n",
    "                try:\n",
    "                    msg_browser.find_element(By.CSS_SELECTOR,popup_ccs)\n",
    "                    telefone_errado = True\n",
    "                    # se estamos aqui, é porque o pop up de telefone errado esta visivel\n",
    "                    # print(\"Encontrei o popup\")\n",
    "                except NoSuchElementException:\n",
    "                    # se estamos aqui, então não encontrou o popup de telefone errado\n",
    "                    # mas tambem nao encontrou o botao de envio\n",
    "                    # aqui devemos simplesmente passar para frente\n",
    "                    # print(\"Nao encontrei o pop nem o botão de envio\")\n",
    "                    pass\n",
    "            time.sleep(3)\n",
    "\n",
    "        # print(\"Envio disponivel: \",envio_disponivel)\n",
    "        # print(\"Telefone errado: \",telefone_errado)\n",
    "        \n",
    "        # Depedendo do que foi encontrado, clicar no botao de envio ou no ok de telefone errado\n",
    "        \n",
    "        # agora clicar nos botoes correspondetes\n",
    "        if envio_disponivel:\n",
    "            # clicar no botáo de envio\n",
    "            msg_browser.find_element(By.CSS_SELECTOR,botao_envio_ccs).click()\n",
    "            # Registrar resultado do envio\n",
    "            contacts_df.loc[j,'RESULTADO'] = 'Mesagem enviada'\n",
    "\n",
    "            # aqui teriamos que enviar as imagens\n",
    "\n",
    "            for i, img_file in enumerate(imgs_path):\n",
    "\n",
    "                # clicar no botão de mais para enviar anexos\n",
    "                msg_browser.find_element(By.CSS_SELECTOR,botao_anexar).click()\n",
    "                time.sleep(2)\n",
    "\n",
    "                # enviar diretamente o caminho da imagem\n",
    "                msg_browser.find_element(By.XPATH,fotos_e_videos).send_keys(img_file)\n",
    "                time.sleep(2)\n",
    "\n",
    "                # clicar no botão de envio de imagem\n",
    "                msg_browser.find_element(By.CSS_SELECTOR,botao_enviar_imagens).click()\n",
    "                time.sleep(2)\n",
    "\n",
    "        else:\n",
    "            if telefone_errado:\n",
    "                # clicar no botáo de ok do popup\n",
    "                msg_browser.find_element(By.CSS_SELECTOR,popup_ok_ccs).click()\n",
    "                # Registrar resultado do envio\n",
    "                contacts_df.loc[j,'RESULTADO'] = 'Telefone errado'\n",
    "\n",
    "    # y aqui el except, caso falle algo\n",
    "    except:\n",
    "       contacts_df.loc[j,'RESULTADO'] = 'Erro'\n",
    "\n",
    "    # Registrar o Timestamp\n",
    "    contacts_df.loc[j,'TIMESTAMP'] = dt.datetime.now().strftime('%d-%m-%y %H:%M:%S')\n",
    "\n",
    "    # esperar tempo aleatorio antes da proxima\n",
    "    time.sleep(random.randint(3,7))   \n"
   ]
  },
  {
   "cell_type": "code",
   "execution_count": 15,
   "metadata": {},
   "outputs": [
    {
     "data": {
      "text/html": [
       "<div>\n",
       "<style scoped>\n",
       "    .dataframe tbody tr th:only-of-type {\n",
       "        vertical-align: middle;\n",
       "    }\n",
       "\n",
       "    .dataframe tbody tr th {\n",
       "        vertical-align: top;\n",
       "    }\n",
       "\n",
       "    .dataframe thead th {\n",
       "        text-align: right;\n",
       "    }\n",
       "</style>\n",
       "<table border=\"1\" class=\"dataframe\">\n",
       "  <thead>\n",
       "    <tr style=\"text-align: right;\">\n",
       "      <th></th>\n",
       "      <th>CLIENTE</th>\n",
       "      <th>TELEFONE</th>\n",
       "      <th>MENSAGEM</th>\n",
       "      <th>RESULTADO</th>\n",
       "      <th>TIMESTAMP</th>\n",
       "    </tr>\n",
       "  </thead>\n",
       "  <tbody>\n",
       "    <tr>\n",
       "      <th>0</th>\n",
       "      <td>Antonio</td>\n",
       "      <td>54 9 11 4428-4423</td>\n",
       "      <td>Mensaje de prueba para Antonio\\n\\nLinea nueva ...</td>\n",
       "      <td>Mesagem enviada</td>\n",
       "      <td>27-11-24 19:11:08</td>\n",
       "    </tr>\n",
       "    <tr>\n",
       "      <th>1</th>\n",
       "      <td>Christian</td>\n",
       "      <td>55 (71) 99924-0327</td>\n",
       "      <td>Mensaje de prueba para Christian\\n\\nLinea nuev...</td>\n",
       "      <td>Mesagem enviada</td>\n",
       "      <td>27-11-24 19:11:41</td>\n",
       "    </tr>\n",
       "    <tr>\n",
       "      <th>2</th>\n",
       "      <td>Diego</td>\n",
       "      <td>55 (71) 99956-7221</td>\n",
       "      <td>Mensaje de prueba para Diego\\n\\nLinea nueva _i...</td>\n",
       "      <td>Mesagem enviada</td>\n",
       "      <td>27-11-24 19:12:12</td>\n",
       "    </tr>\n",
       "    <tr>\n",
       "      <th>3</th>\n",
       "      <td>Izabel Wrong Number</td>\n",
       "      <td>55 (555) 99308-2372</td>\n",
       "      <td>Mensaje de prueba para Izabel Wrong Number\\n\\n...</td>\n",
       "      <td>Telefone errado</td>\n",
       "      <td>27-11-24 19:12:25</td>\n",
       "    </tr>\n",
       "    <tr>\n",
       "      <th>4</th>\n",
       "      <td>Izabel</td>\n",
       "      <td>55 (71) 99308-2372</td>\n",
       "      <td>Mensaje de prueba para Izabel\\n\\nLinea nueva _...</td>\n",
       "      <td>Mesagem enviada</td>\n",
       "      <td>27-11-24 19:12:52</td>\n",
       "    </tr>\n",
       "    <tr>\n",
       "      <th>5</th>\n",
       "      <td>Lukas</td>\n",
       "      <td>55 (71) 99614-9336</td>\n",
       "      <td>Mensaje de prueba para Lukas\\n\\nLinea nueva _i...</td>\n",
       "      <td>Mesagem enviada</td>\n",
       "      <td>27-11-24 19:13:21</td>\n",
       "    </tr>\n",
       "    <tr>\n",
       "      <th>6</th>\n",
       "      <td>Pablo</td>\n",
       "      <td>55(71) 99101-3035</td>\n",
       "      <td>Mensaje de prueba para Pablo\\n\\nLinea nueva _i...</td>\n",
       "      <td>Mesagem enviada</td>\n",
       "      <td>27-11-24 19:13:51</td>\n",
       "    </tr>\n",
       "    <tr>\n",
       "      <th>7</th>\n",
       "      <td>Pablo Wrong Number</td>\n",
       "      <td>55(111) 99101-3035</td>\n",
       "      <td>Mensaje de prueba para Pablo Wrong Number\\n\\nL...</td>\n",
       "      <td>Telefone errado</td>\n",
       "      <td>27-11-24 19:14:06</td>\n",
       "    </tr>\n",
       "    <tr>\n",
       "      <th>8</th>\n",
       "      <td>Rafinha</td>\n",
       "      <td>55 (71) 99622-2775</td>\n",
       "      <td>Mensaje de prueba para Rafinha\\n\\nLinea nueva ...</td>\n",
       "      <td>Mesagem enviada</td>\n",
       "      <td>27-11-24 19:14:33</td>\n",
       "    </tr>\n",
       "    <tr>\n",
       "      <th>9</th>\n",
       "      <td>Rodrigo</td>\n",
       "      <td>54 9 11 4149-4402</td>\n",
       "      <td>Mensaje de prueba para Rodrigo\\n\\nLinea nueva ...</td>\n",
       "      <td>Mesagem enviada</td>\n",
       "      <td>27-11-24 19:15:03</td>\n",
       "    </tr>\n",
       "    <tr>\n",
       "      <th>10</th>\n",
       "      <td>Taly</td>\n",
       "      <td>55 (71) 99936-2343</td>\n",
       "      <td>Mensaje de prueba para Taly\\n\\nLinea nueva _it...</td>\n",
       "      <td>Mesagem enviada</td>\n",
       "      <td>27-11-24 19:15:29</td>\n",
       "    </tr>\n",
       "  </tbody>\n",
       "</table>\n",
       "</div>"
      ],
      "text/plain": [
       "                CLIENTE             TELEFONE  \\\n",
       "0               Antonio    54 9 11 4428-4423   \n",
       "1             Christian   55 (71) 99924-0327   \n",
       "2                 Diego   55 (71) 99956-7221   \n",
       "3   Izabel Wrong Number  55 (555) 99308-2372   \n",
       "4                Izabel   55 (71) 99308-2372   \n",
       "5                 Lukas   55 (71) 99614-9336   \n",
       "6                 Pablo    55(71) 99101-3035   \n",
       "7    Pablo Wrong Number   55(111) 99101-3035   \n",
       "8               Rafinha   55 (71) 99622-2775   \n",
       "9               Rodrigo    54 9 11 4149-4402   \n",
       "10                 Taly   55 (71) 99936-2343   \n",
       "\n",
       "                                             MENSAGEM        RESULTADO  \\\n",
       "0   Mensaje de prueba para Antonio\\n\\nLinea nueva ...  Mesagem enviada   \n",
       "1   Mensaje de prueba para Christian\\n\\nLinea nuev...  Mesagem enviada   \n",
       "2   Mensaje de prueba para Diego\\n\\nLinea nueva _i...  Mesagem enviada   \n",
       "3   Mensaje de prueba para Izabel Wrong Number\\n\\n...  Telefone errado   \n",
       "4   Mensaje de prueba para Izabel\\n\\nLinea nueva _...  Mesagem enviada   \n",
       "5   Mensaje de prueba para Lukas\\n\\nLinea nueva _i...  Mesagem enviada   \n",
       "6   Mensaje de prueba para Pablo\\n\\nLinea nueva _i...  Mesagem enviada   \n",
       "7   Mensaje de prueba para Pablo Wrong Number\\n\\nL...  Telefone errado   \n",
       "8   Mensaje de prueba para Rafinha\\n\\nLinea nueva ...  Mesagem enviada   \n",
       "9   Mensaje de prueba para Rodrigo\\n\\nLinea nueva ...  Mesagem enviada   \n",
       "10  Mensaje de prueba para Taly\\n\\nLinea nueva _it...  Mesagem enviada   \n",
       "\n",
       "            TIMESTAMP  \n",
       "0   27-11-24 19:11:08  \n",
       "1   27-11-24 19:11:41  \n",
       "2   27-11-24 19:12:12  \n",
       "3   27-11-24 19:12:25  \n",
       "4   27-11-24 19:12:52  \n",
       "5   27-11-24 19:13:21  \n",
       "6   27-11-24 19:13:51  \n",
       "7   27-11-24 19:14:06  \n",
       "8   27-11-24 19:14:33  \n",
       "9   27-11-24 19:15:03  \n",
       "10  27-11-24 19:15:29  "
      ]
     },
     "execution_count": 15,
     "metadata": {},
     "output_type": "execute_result"
    }
   ],
   "source": [
    "contacts_df"
   ]
  },
  {
   "cell_type": "code",
   "execution_count": 19,
   "metadata": {},
   "outputs": [],
   "source": [
    "contacts_df.drop('MENSAGEM',axis=1).to_excel('Resultados.xlsx')"
   ]
  },
  {
   "cell_type": "code",
   "execution_count": null,
   "metadata": {},
   "outputs": [],
   "source": []
  }
 ],
 "metadata": {
  "kernelspec": {
   "display_name": "base",
   "language": "python",
   "name": "python3"
  },
  "language_info": {
   "codemirror_mode": {
    "name": "ipython",
    "version": 3
   },
   "file_extension": ".py",
   "mimetype": "text/x-python",
   "name": "python",
   "nbconvert_exporter": "python",
   "pygments_lexer": "ipython3",
   "version": "3.11.4"
  }
 },
 "nbformat": 4,
 "nbformat_minor": 2
}
