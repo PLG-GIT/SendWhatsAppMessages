{
 "cells": [
  {
   "cell_type": "code",
   "execution_count": 4,
   "metadata": {},
   "outputs": [],
   "source": [
    "from tkinter import Tk, Button"
   ]
  },
  {
   "cell_type": "code",
   "execution_count": 5,
   "metadata": {},
   "outputs": [],
   "source": [
    "def goodbye_world():\n",
    "    print(\"Goodbye World!\\nWait, I changed my mind!\")\n",
    "    button.configure(text = \"Hello World!\", command=hello_world)"
   ]
  },
  {
   "cell_type": "code",
   "execution_count": 6,
   "metadata": {},
   "outputs": [],
   "source": [
    "def hello_world():\n",
    "    print(\"Hello World!\\nWait, I changed my mind!\")\n",
    "    button.configure(text = \"Goodbye World!\", command=goodbye_world)"
   ]
  },
  {
   "cell_type": "code",
   "execution_count": 7,
   "metadata": {},
   "outputs": [
    {
     "name": "stdout",
     "output_type": "stream",
     "text": [
      "Hello World!\n",
      "Wait, I changed my mind!\n",
      "Goodbye World!\n",
      "Wait, I changed my mind!\n",
      "Hello World!\n",
      "Wait, I changed my mind!\n"
     ]
    }
   ],
   "source": [
    "root = Tk()\n",
    "button = Button(root, text=\"Hello World!\", command=hello_world)\n",
    "button.pack()\n",
    "\n",
    "root.mainloop()"
   ]
  }
 ],
 "metadata": {
  "kernelspec": {
   "display_name": "Python 3.9.7 ('base')",
   "language": "python",
   "name": "python3"
  },
  "language_info": {
   "codemirror_mode": {
    "name": "ipython",
    "version": 3
   },
   "file_extension": ".py",
   "mimetype": "text/x-python",
   "name": "python",
   "nbconvert_exporter": "python",
   "pygments_lexer": "ipython3",
   "version": "3.9.7"
  },
  "orig_nbformat": 4,
  "vscode": {
   "interpreter": {
    "hash": "25bb5942a58f981780efc8129914c41725ee639f796a0c6522abb294f50baf65"
   }
  }
 },
 "nbformat": 4,
 "nbformat_minor": 2
}
