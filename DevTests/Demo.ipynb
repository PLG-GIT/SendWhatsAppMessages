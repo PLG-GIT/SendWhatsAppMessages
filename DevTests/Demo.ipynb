{
 "cells": [
  {
   "cell_type": "code",
   "execution_count": 173,
   "metadata": {},
   "outputs": [],
   "source": [
    "# importar biblioteca\n",
    "import tkinter as tk\n",
    "from tkinter import filedialog as fd"
   ]
  },
  {
   "cell_type": "code",
   "execution_count": 174,
   "metadata": {},
   "outputs": [],
   "source": [
    "def algumcomando():\n",
    "    arquivo = fd.askopenfilename(\n",
    "        title='Selecione um arquivo Excel',\n",
    "        filetypes=[\n",
    "            ('Arquivo Excel','.xls'),\n",
    "            ('Arquivo Excel','.xlsx'),\n",
    "            ('Arquivo Google Sheet','.xls')]\n",
    "        )\n",
    "    lbl_acao['text'] = arquivo\n",
    "    return()"
   ]
  },
  {
   "cell_type": "code",
   "execution_count": 175,
   "metadata": {},
   "outputs": [],
   "source": [
    "# Crear instancia da janela\n",
    "minha_janela = tk.Tk()"
   ]
  },
  {
   "cell_type": "code",
   "execution_count": 176,
   "metadata": {},
   "outputs": [
    {
     "data": {
      "text/plain": [
       "''"
      ]
     },
     "execution_count": 176,
     "metadata": {},
     "output_type": "execute_result"
    }
   ],
   "source": [
    "# mudar titulo da janela\n",
    "minha_janela.title('Minha app')\n",
    "\n",
    "# mudar icone da janela\n",
    "minha_janela.iconbitmap(r'whatsapp.ico')"
   ]
  },
  {
   "cell_type": "code",
   "execution_count": 177,
   "metadata": {},
   "outputs": [],
   "source": [
    "lbl_algumaeiqueta = tk.Label(text='Hola Mundo!!!',font=('Consolas 15'))\n",
    "lbl_algumaeiqueta.grid(row=0,column=0,columnspan=4,padx=10,pady=10)"
   ]
  },
  {
   "cell_type": "code",
   "execution_count": 178,
   "metadata": {},
   "outputs": [],
   "source": [
    "lbl_outraetiqueta = tk.Label(text='Alguma outra coisa mais comprida')\n",
    "lbl_outraetiqueta.grid(row=1,column=1)"
   ]
  },
  {
   "cell_type": "code",
   "execution_count": 179,
   "metadata": {},
   "outputs": [],
   "source": [
    "btn_botao = tk.Button(text='Clique aqui: ', command=algumcomando)\n",
    "btn_botao.grid(row=1, column=2)"
   ]
  },
  {
   "cell_type": "code",
   "execution_count": 180,
   "metadata": {},
   "outputs": [],
   "source": [
    "lbl_acao = tk.Label(text='')\n",
    "lbl_acao.grid(row=3,column=1)"
   ]
  },
  {
   "cell_type": "code",
   "execution_count": null,
   "metadata": {},
   "outputs": [],
   "source": []
  },
  {
   "cell_type": "code",
   "execution_count": 181,
   "metadata": {},
   "outputs": [],
   "source": [
    "# rodar o mainloop\n",
    "minha_janela.mainloop()"
   ]
  },
  {
   "cell_type": "code",
   "execution_count": 182,
   "metadata": {},
   "outputs": [
    {
     "name": "stdout",
     "output_type": "stream",
     "text": [
      "acabou\n"
     ]
    }
   ],
   "source": [
    "# indicador de fin\n",
    "print(\"acabou\")"
   ]
  }
 ],
 "metadata": {
  "kernelspec": {
   "display_name": "Python 3.9.7 ('base')",
   "language": "python",
   "name": "python3"
  },
  "language_info": {
   "codemirror_mode": {
    "name": "ipython",
    "version": 3
   },
   "file_extension": ".py",
   "mimetype": "text/x-python",
   "name": "python",
   "nbconvert_exporter": "python",
   "pygments_lexer": "ipython3",
   "version": "3.9.7"
  },
  "orig_nbformat": 4,
  "vscode": {
   "interpreter": {
    "hash": "25bb5942a58f981780efc8129914c41725ee639f796a0c6522abb294f50baf65"
   }
  }
 },
 "nbformat": 4,
 "nbformat_minor": 2
}
